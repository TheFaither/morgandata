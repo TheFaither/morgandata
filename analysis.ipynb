{
 "cells": [
  {
   "cell_type": "code",
   "execution_count": 10,
   "metadata": {},
   "outputs": [],
   "source": [
    "import pandas as pd\n",
    "import plotly.express as px\n",
    "pd.options.plotting.backend = \"plotly\""
   ]
  },
  {
   "cell_type": "code",
   "execution_count": 11,
   "metadata": {},
   "outputs": [
    {
     "data": {
      "text/html": [
       "<div>\n",
       "<style scoped>\n",
       "    .dataframe tbody tr th:only-of-type {\n",
       "        vertical-align: middle;\n",
       "    }\n",
       "\n",
       "    .dataframe tbody tr th {\n",
       "        vertical-align: top;\n",
       "    }\n",
       "\n",
       "    .dataframe thead th {\n",
       "        text-align: right;\n",
       "    }\n",
       "</style>\n",
       "<table border=\"1\" class=\"dataframe\">\n",
       "  <thead>\n",
       "    <tr style=\"text-align: right;\">\n",
       "      <th></th>\n",
       "      <th>mating.ID</th>\n",
       "      <th>cohort</th>\n",
       "      <th>female.ID</th>\n",
       "      <th>female.group</th>\n",
       "      <th>female.age</th>\n",
       "      <th>female.wt</th>\n",
       "      <th>male.ID</th>\n",
       "      <th>male.qual</th>\n",
       "      <th>male.age</th>\n",
       "      <th>male.wt</th>\n",
       "      <th>...</th>\n",
       "      <th>female.aggression</th>\n",
       "      <th>male.w.gift</th>\n",
       "      <th>mating.success</th>\n",
       "      <th>gift.acceptance</th>\n",
       "      <th>signal</th>\n",
       "      <th>wrapping</th>\n",
       "      <th>rubbing</th>\n",
       "      <th>latency.gift</th>\n",
       "      <th>latency.cop</th>\n",
       "      <th>cop.duration</th>\n",
       "    </tr>\n",
       "  </thead>\n",
       "  <tbody>\n",
       "    <tr>\n",
       "      <th>1</th>\n",
       "      <td>116x85</td>\n",
       "      <td>1</td>\n",
       "      <td>116</td>\n",
       "      <td>HL</td>\n",
       "      <td>12</td>\n",
       "      <td>0.1347</td>\n",
       "      <td>85</td>\n",
       "      <td>H</td>\n",
       "      <td>15</td>\n",
       "      <td>0.0670</td>\n",
       "      <td>...</td>\n",
       "      <td>N</td>\n",
       "      <td>1</td>\n",
       "      <td>1</td>\n",
       "      <td>0</td>\n",
       "      <td>0</td>\n",
       "      <td>0</td>\n",
       "      <td>1</td>\n",
       "      <td>NaN</td>\n",
       "      <td>87.0</td>\n",
       "      <td>390</td>\n",
       "    </tr>\n",
       "    <tr>\n",
       "      <th>2</th>\n",
       "      <td>116x86</td>\n",
       "      <td>1</td>\n",
       "      <td>116</td>\n",
       "      <td>HL</td>\n",
       "      <td>12</td>\n",
       "      <td>0.1347</td>\n",
       "      <td>86</td>\n",
       "      <td>L</td>\n",
       "      <td>15</td>\n",
       "      <td>0.0788</td>\n",
       "      <td>...</td>\n",
       "      <td>N</td>\n",
       "      <td>1</td>\n",
       "      <td>1</td>\n",
       "      <td>1</td>\n",
       "      <td>0</td>\n",
       "      <td>0</td>\n",
       "      <td>1</td>\n",
       "      <td>529.0</td>\n",
       "      <td>606.0</td>\n",
       "      <td>3869</td>\n",
       "    </tr>\n",
       "    <tr>\n",
       "      <th>3</th>\n",
       "      <td>122x75</td>\n",
       "      <td>1</td>\n",
       "      <td>122</td>\n",
       "      <td>LH</td>\n",
       "      <td>12</td>\n",
       "      <td>0.1818</td>\n",
       "      <td>75</td>\n",
       "      <td>L</td>\n",
       "      <td>15</td>\n",
       "      <td>0.0703</td>\n",
       "      <td>...</td>\n",
       "      <td>N</td>\n",
       "      <td>1</td>\n",
       "      <td>1</td>\n",
       "      <td>1</td>\n",
       "      <td>0</td>\n",
       "      <td>0</td>\n",
       "      <td>0</td>\n",
       "      <td>293.0</td>\n",
       "      <td>559.0</td>\n",
       "      <td>221</td>\n",
       "    </tr>\n",
       "    <tr>\n",
       "      <th>4</th>\n",
       "      <td>122x76</td>\n",
       "      <td>1</td>\n",
       "      <td>122</td>\n",
       "      <td>LH</td>\n",
       "      <td>12</td>\n",
       "      <td>0.1818</td>\n",
       "      <td>76</td>\n",
       "      <td>H</td>\n",
       "      <td>24</td>\n",
       "      <td>0.0621</td>\n",
       "      <td>...</td>\n",
       "      <td>Y</td>\n",
       "      <td>1</td>\n",
       "      <td>0</td>\n",
       "      <td>0</td>\n",
       "      <td>0</td>\n",
       "      <td>0</td>\n",
       "      <td>0</td>\n",
       "      <td>NaN</td>\n",
       "      <td>NaN</td>\n",
       "      <td>0</td>\n",
       "    </tr>\n",
       "    <tr>\n",
       "      <th>5</th>\n",
       "      <td>123x86</td>\n",
       "      <td>1</td>\n",
       "      <td>123</td>\n",
       "      <td>LH</td>\n",
       "      <td>13</td>\n",
       "      <td>0.1215</td>\n",
       "      <td>86</td>\n",
       "      <td>L</td>\n",
       "      <td>15</td>\n",
       "      <td>0.0788</td>\n",
       "      <td>...</td>\n",
       "      <td>N</td>\n",
       "      <td>0</td>\n",
       "      <td>1</td>\n",
       "      <td>1</td>\n",
       "      <td>1</td>\n",
       "      <td>1</td>\n",
       "      <td>1</td>\n",
       "      <td>2092.0</td>\n",
       "      <td>162.0</td>\n",
       "      <td>1252</td>\n",
       "    </tr>\n",
       "  </tbody>\n",
       "</table>\n",
       "<p>5 rows × 25 columns</p>\n",
       "</div>"
      ],
      "text/plain": [
       "  mating.ID  cohort  female.ID female.group  female.age  female.wt  male.ID   \n",
       "1    116x85       1        116           HL          12     0.1347       85  \\\n",
       "2    116x86       1        116           HL          12     0.1347       86   \n",
       "3    122x75       1        122           LH          12     0.1818       75   \n",
       "4    122x76       1        122           LH          12     0.1818       76   \n",
       "5    123x86       1        123           LH          13     0.1215       86   \n",
       "\n",
       "  male.qual  male.age  male.wt  ... female.aggression male.w.gift   \n",
       "1         H        15   0.0670  ...                 N           1  \\\n",
       "2         L        15   0.0788  ...                 N           1   \n",
       "3         L        15   0.0703  ...                 N           1   \n",
       "4         H        24   0.0621  ...                 Y           1   \n",
       "5         L        15   0.0788  ...                 N           0   \n",
       "\n",
       "  mating.success  gift.acceptance  signal wrapping  rubbing  latency.gift   \n",
       "1              1                0       0        0        1           NaN  \\\n",
       "2              1                1       0        0        1         529.0   \n",
       "3              1                1       0        0        0         293.0   \n",
       "4              0                0       0        0        0           NaN   \n",
       "5              1                1       1        1        1        2092.0   \n",
       "\n",
       "   latency.cop  cop.duration  \n",
       "1         87.0           390  \n",
       "2        606.0          3869  \n",
       "3        559.0           221  \n",
       "4          NaN             0  \n",
       "5        162.0          1252  \n",
       "\n",
       "[5 rows x 25 columns]"
      ]
     },
     "execution_count": 11,
     "metadata": {},
     "output_type": "execute_result"
    }
   ],
   "source": [
    "df = pd.read_csv(\"trialdataformodel.csv\", index_col=0)\n",
    "\n",
    "df[[\"mating.order\"]] = df[[\"mating.order\"]].astype(str)\n",
    "\n",
    "df.head()"
   ]
  },
  {
   "cell_type": "code",
   "execution_count": 15,
   "metadata": {},
   "outputs": [
    {
     "data": {
      "application/vnd.plotly.v1+json": {
       "config": {
        "plotlyServerURL": "https://plot.ly"
       },
       "data": [
        {
         "alignmentgroup": "True",
         "hovertemplate": "male.qual=H<br>mating.order=%{x}<br>mating.success=%{y}<extra></extra>",
         "legendgroup": "H",
         "marker": {
          "color": "#636efa",
          "pattern": {
           "shape": ""
          }
         },
         "name": "H",
         "offsetgroup": "H",
         "orientation": "v",
         "showlegend": true,
         "textposition": "auto",
         "type": "bar",
         "x": [
          "1",
          "1",
          "1",
          "1",
          "1",
          "1",
          "1",
          "1",
          "2",
          "2",
          "2",
          "2",
          "2",
          "2",
          "2",
          "2"
         ],
         "xaxis": "x",
         "y": [
          1,
          8,
          3,
          8,
          5,
          2,
          2,
          1,
          1,
          9,
          1,
          7,
          5,
          2,
          2,
          1
         ],
         "yaxis": "y"
        },
        {
         "alignmentgroup": "True",
         "hovertemplate": "male.qual=L<br>mating.order=%{x}<br>mating.success=%{y}<extra></extra>",
         "legendgroup": "L",
         "marker": {
          "color": "#EF553B",
          "pattern": {
           "shape": ""
          }
         },
         "name": "L",
         "offsetgroup": "L",
         "orientation": "v",
         "showlegend": true,
         "textposition": "auto",
         "type": "bar",
         "x": [
          "1",
          "1",
          "1",
          "1",
          "1",
          "1",
          "2",
          "2",
          "2",
          "2",
          "2",
          "2"
         ],
         "xaxis": "x",
         "y": [
          2,
          9,
          4,
          8,
          4,
          1,
          2,
          8,
          5,
          8,
          5,
          1
         ],
         "yaxis": "y"
        }
       ],
       "layout": {
        "barmode": "group",
        "legend": {
         "title": {
          "text": "male.qual"
         },
         "tracegroupgap": 0
        },
        "margin": {
         "t": 60
        },
        "template": {
         "data": {
          "bar": [
           {
            "error_x": {
             "color": "#2a3f5f"
            },
            "error_y": {
             "color": "#2a3f5f"
            },
            "marker": {
             "line": {
              "color": "#E5ECF6",
              "width": 0.5
             },
             "pattern": {
              "fillmode": "overlay",
              "size": 10,
              "solidity": 0.2
             }
            },
            "type": "bar"
           }
          ],
          "barpolar": [
           {
            "marker": {
             "line": {
              "color": "#E5ECF6",
              "width": 0.5
             },
             "pattern": {
              "fillmode": "overlay",
              "size": 10,
              "solidity": 0.2
             }
            },
            "type": "barpolar"
           }
          ],
          "carpet": [
           {
            "aaxis": {
             "endlinecolor": "#2a3f5f",
             "gridcolor": "white",
             "linecolor": "white",
             "minorgridcolor": "white",
             "startlinecolor": "#2a3f5f"
            },
            "baxis": {
             "endlinecolor": "#2a3f5f",
             "gridcolor": "white",
             "linecolor": "white",
             "minorgridcolor": "white",
             "startlinecolor": "#2a3f5f"
            },
            "type": "carpet"
           }
          ],
          "choropleth": [
           {
            "colorbar": {
             "outlinewidth": 0,
             "ticks": ""
            },
            "type": "choropleth"
           }
          ],
          "contour": [
           {
            "colorbar": {
             "outlinewidth": 0,
             "ticks": ""
            },
            "colorscale": [
             [
              0,
              "#0d0887"
             ],
             [
              0.1111111111111111,
              "#46039f"
             ],
             [
              0.2222222222222222,
              "#7201a8"
             ],
             [
              0.3333333333333333,
              "#9c179e"
             ],
             [
              0.4444444444444444,
              "#bd3786"
             ],
             [
              0.5555555555555556,
              "#d8576b"
             ],
             [
              0.6666666666666666,
              "#ed7953"
             ],
             [
              0.7777777777777778,
              "#fb9f3a"
             ],
             [
              0.8888888888888888,
              "#fdca26"
             ],
             [
              1,
              "#f0f921"
             ]
            ],
            "type": "contour"
           }
          ],
          "contourcarpet": [
           {
            "colorbar": {
             "outlinewidth": 0,
             "ticks": ""
            },
            "type": "contourcarpet"
           }
          ],
          "heatmap": [
           {
            "colorbar": {
             "outlinewidth": 0,
             "ticks": ""
            },
            "colorscale": [
             [
              0,
              "#0d0887"
             ],
             [
              0.1111111111111111,
              "#46039f"
             ],
             [
              0.2222222222222222,
              "#7201a8"
             ],
             [
              0.3333333333333333,
              "#9c179e"
             ],
             [
              0.4444444444444444,
              "#bd3786"
             ],
             [
              0.5555555555555556,
              "#d8576b"
             ],
             [
              0.6666666666666666,
              "#ed7953"
             ],
             [
              0.7777777777777778,
              "#fb9f3a"
             ],
             [
              0.8888888888888888,
              "#fdca26"
             ],
             [
              1,
              "#f0f921"
             ]
            ],
            "type": "heatmap"
           }
          ],
          "heatmapgl": [
           {
            "colorbar": {
             "outlinewidth": 0,
             "ticks": ""
            },
            "colorscale": [
             [
              0,
              "#0d0887"
             ],
             [
              0.1111111111111111,
              "#46039f"
             ],
             [
              0.2222222222222222,
              "#7201a8"
             ],
             [
              0.3333333333333333,
              "#9c179e"
             ],
             [
              0.4444444444444444,
              "#bd3786"
             ],
             [
              0.5555555555555556,
              "#d8576b"
             ],
             [
              0.6666666666666666,
              "#ed7953"
             ],
             [
              0.7777777777777778,
              "#fb9f3a"
             ],
             [
              0.8888888888888888,
              "#fdca26"
             ],
             [
              1,
              "#f0f921"
             ]
            ],
            "type": "heatmapgl"
           }
          ],
          "histogram": [
           {
            "marker": {
             "pattern": {
              "fillmode": "overlay",
              "size": 10,
              "solidity": 0.2
             }
            },
            "type": "histogram"
           }
          ],
          "histogram2d": [
           {
            "colorbar": {
             "outlinewidth": 0,
             "ticks": ""
            },
            "colorscale": [
             [
              0,
              "#0d0887"
             ],
             [
              0.1111111111111111,
              "#46039f"
             ],
             [
              0.2222222222222222,
              "#7201a8"
             ],
             [
              0.3333333333333333,
              "#9c179e"
             ],
             [
              0.4444444444444444,
              "#bd3786"
             ],
             [
              0.5555555555555556,
              "#d8576b"
             ],
             [
              0.6666666666666666,
              "#ed7953"
             ],
             [
              0.7777777777777778,
              "#fb9f3a"
             ],
             [
              0.8888888888888888,
              "#fdca26"
             ],
             [
              1,
              "#f0f921"
             ]
            ],
            "type": "histogram2d"
           }
          ],
          "histogram2dcontour": [
           {
            "colorbar": {
             "outlinewidth": 0,
             "ticks": ""
            },
            "colorscale": [
             [
              0,
              "#0d0887"
             ],
             [
              0.1111111111111111,
              "#46039f"
             ],
             [
              0.2222222222222222,
              "#7201a8"
             ],
             [
              0.3333333333333333,
              "#9c179e"
             ],
             [
              0.4444444444444444,
              "#bd3786"
             ],
             [
              0.5555555555555556,
              "#d8576b"
             ],
             [
              0.6666666666666666,
              "#ed7953"
             ],
             [
              0.7777777777777778,
              "#fb9f3a"
             ],
             [
              0.8888888888888888,
              "#fdca26"
             ],
             [
              1,
              "#f0f921"
             ]
            ],
            "type": "histogram2dcontour"
           }
          ],
          "mesh3d": [
           {
            "colorbar": {
             "outlinewidth": 0,
             "ticks": ""
            },
            "type": "mesh3d"
           }
          ],
          "parcoords": [
           {
            "line": {
             "colorbar": {
              "outlinewidth": 0,
              "ticks": ""
             }
            },
            "type": "parcoords"
           }
          ],
          "pie": [
           {
            "automargin": true,
            "type": "pie"
           }
          ],
          "scatter": [
           {
            "fillpattern": {
             "fillmode": "overlay",
             "size": 10,
             "solidity": 0.2
            },
            "type": "scatter"
           }
          ],
          "scatter3d": [
           {
            "line": {
             "colorbar": {
              "outlinewidth": 0,
              "ticks": ""
             }
            },
            "marker": {
             "colorbar": {
              "outlinewidth": 0,
              "ticks": ""
             }
            },
            "type": "scatter3d"
           }
          ],
          "scattercarpet": [
           {
            "marker": {
             "colorbar": {
              "outlinewidth": 0,
              "ticks": ""
             }
            },
            "type": "scattercarpet"
           }
          ],
          "scattergeo": [
           {
            "marker": {
             "colorbar": {
              "outlinewidth": 0,
              "ticks": ""
             }
            },
            "type": "scattergeo"
           }
          ],
          "scattergl": [
           {
            "marker": {
             "colorbar": {
              "outlinewidth": 0,
              "ticks": ""
             }
            },
            "type": "scattergl"
           }
          ],
          "scattermapbox": [
           {
            "marker": {
             "colorbar": {
              "outlinewidth": 0,
              "ticks": ""
             }
            },
            "type": "scattermapbox"
           }
          ],
          "scatterpolar": [
           {
            "marker": {
             "colorbar": {
              "outlinewidth": 0,
              "ticks": ""
             }
            },
            "type": "scatterpolar"
           }
          ],
          "scatterpolargl": [
           {
            "marker": {
             "colorbar": {
              "outlinewidth": 0,
              "ticks": ""
             }
            },
            "type": "scatterpolargl"
           }
          ],
          "scatterternary": [
           {
            "marker": {
             "colorbar": {
              "outlinewidth": 0,
              "ticks": ""
             }
            },
            "type": "scatterternary"
           }
          ],
          "surface": [
           {
            "colorbar": {
             "outlinewidth": 0,
             "ticks": ""
            },
            "colorscale": [
             [
              0,
              "#0d0887"
             ],
             [
              0.1111111111111111,
              "#46039f"
             ],
             [
              0.2222222222222222,
              "#7201a8"
             ],
             [
              0.3333333333333333,
              "#9c179e"
             ],
             [
              0.4444444444444444,
              "#bd3786"
             ],
             [
              0.5555555555555556,
              "#d8576b"
             ],
             [
              0.6666666666666666,
              "#ed7953"
             ],
             [
              0.7777777777777778,
              "#fb9f3a"
             ],
             [
              0.8888888888888888,
              "#fdca26"
             ],
             [
              1,
              "#f0f921"
             ]
            ],
            "type": "surface"
           }
          ],
          "table": [
           {
            "cells": {
             "fill": {
              "color": "#EBF0F8"
             },
             "line": {
              "color": "white"
             }
            },
            "header": {
             "fill": {
              "color": "#C8D4E3"
             },
             "line": {
              "color": "white"
             }
            },
            "type": "table"
           }
          ]
         },
         "layout": {
          "annotationdefaults": {
           "arrowcolor": "#2a3f5f",
           "arrowhead": 0,
           "arrowwidth": 1
          },
          "autotypenumbers": "strict",
          "coloraxis": {
           "colorbar": {
            "outlinewidth": 0,
            "ticks": ""
           }
          },
          "colorscale": {
           "diverging": [
            [
             0,
             "#8e0152"
            ],
            [
             0.1,
             "#c51b7d"
            ],
            [
             0.2,
             "#de77ae"
            ],
            [
             0.3,
             "#f1b6da"
            ],
            [
             0.4,
             "#fde0ef"
            ],
            [
             0.5,
             "#f7f7f7"
            ],
            [
             0.6,
             "#e6f5d0"
            ],
            [
             0.7,
             "#b8e186"
            ],
            [
             0.8,
             "#7fbc41"
            ],
            [
             0.9,
             "#4d9221"
            ],
            [
             1,
             "#276419"
            ]
           ],
           "sequential": [
            [
             0,
             "#0d0887"
            ],
            [
             0.1111111111111111,
             "#46039f"
            ],
            [
             0.2222222222222222,
             "#7201a8"
            ],
            [
             0.3333333333333333,
             "#9c179e"
            ],
            [
             0.4444444444444444,
             "#bd3786"
            ],
            [
             0.5555555555555556,
             "#d8576b"
            ],
            [
             0.6666666666666666,
             "#ed7953"
            ],
            [
             0.7777777777777778,
             "#fb9f3a"
            ],
            [
             0.8888888888888888,
             "#fdca26"
            ],
            [
             1,
             "#f0f921"
            ]
           ],
           "sequentialminus": [
            [
             0,
             "#0d0887"
            ],
            [
             0.1111111111111111,
             "#46039f"
            ],
            [
             0.2222222222222222,
             "#7201a8"
            ],
            [
             0.3333333333333333,
             "#9c179e"
            ],
            [
             0.4444444444444444,
             "#bd3786"
            ],
            [
             0.5555555555555556,
             "#d8576b"
            ],
            [
             0.6666666666666666,
             "#ed7953"
            ],
            [
             0.7777777777777778,
             "#fb9f3a"
            ],
            [
             0.8888888888888888,
             "#fdca26"
            ],
            [
             1,
             "#f0f921"
            ]
           ]
          },
          "colorway": [
           "#636efa",
           "#EF553B",
           "#00cc96",
           "#ab63fa",
           "#FFA15A",
           "#19d3f3",
           "#FF6692",
           "#B6E880",
           "#FF97FF",
           "#FECB52"
          ],
          "font": {
           "color": "#2a3f5f"
          },
          "geo": {
           "bgcolor": "white",
           "lakecolor": "white",
           "landcolor": "#E5ECF6",
           "showlakes": true,
           "showland": true,
           "subunitcolor": "white"
          },
          "hoverlabel": {
           "align": "left"
          },
          "hovermode": "closest",
          "mapbox": {
           "style": "light"
          },
          "paper_bgcolor": "white",
          "plot_bgcolor": "#E5ECF6",
          "polar": {
           "angularaxis": {
            "gridcolor": "white",
            "linecolor": "white",
            "ticks": ""
           },
           "bgcolor": "#E5ECF6",
           "radialaxis": {
            "gridcolor": "white",
            "linecolor": "white",
            "ticks": ""
           }
          },
          "scene": {
           "xaxis": {
            "backgroundcolor": "#E5ECF6",
            "gridcolor": "white",
            "gridwidth": 2,
            "linecolor": "white",
            "showbackground": true,
            "ticks": "",
            "zerolinecolor": "white"
           },
           "yaxis": {
            "backgroundcolor": "#E5ECF6",
            "gridcolor": "white",
            "gridwidth": 2,
            "linecolor": "white",
            "showbackground": true,
            "ticks": "",
            "zerolinecolor": "white"
           },
           "zaxis": {
            "backgroundcolor": "#E5ECF6",
            "gridcolor": "white",
            "gridwidth": 2,
            "linecolor": "white",
            "showbackground": true,
            "ticks": "",
            "zerolinecolor": "white"
           }
          },
          "shapedefaults": {
           "line": {
            "color": "#2a3f5f"
           }
          },
          "ternary": {
           "aaxis": {
            "gridcolor": "white",
            "linecolor": "white",
            "ticks": ""
           },
           "baxis": {
            "gridcolor": "white",
            "linecolor": "white",
            "ticks": ""
           },
           "bgcolor": "#E5ECF6",
           "caxis": {
            "gridcolor": "white",
            "linecolor": "white",
            "ticks": ""
           }
          },
          "title": {
           "x": 0.05
          },
          "xaxis": {
           "automargin": true,
           "gridcolor": "white",
           "linecolor": "white",
           "ticks": "",
           "title": {
            "standoff": 15
           },
           "zerolinecolor": "white",
           "zerolinewidth": 2
          },
          "yaxis": {
           "automargin": true,
           "gridcolor": "white",
           "linecolor": "white",
           "ticks": "",
           "title": {
            "standoff": 15
           },
           "zerolinecolor": "white",
           "zerolinewidth": 2
          }
         }
        },
        "xaxis": {
         "anchor": "y",
         "domain": [
          0,
          1
         ],
         "title": {
          "text": "mating.order"
         }
        },
        "yaxis": {
         "anchor": "x",
         "domain": [
          0,
          1
         ],
         "title": {
          "text": "mating.success"
         }
        }
       }
      }
     },
     "metadata": {},
     "output_type": "display_data"
    }
   ],
   "source": [
    "groupdiscrete = df.groupby([\"male.qual\", \"mating.order\", \"male.age\"]).describe()[[(\"mating.success\",\"count\")]]\n",
    "\n",
    "\n",
    "groupdiscrete = groupdiscrete.reset_index().droplevel(1, axis=1)\n",
    "\n",
    "px.histogram(groupdiscrete, x=\"male.qual\", y=\"mating.success\", color=\"mating.order\", barmode='group')\n",
    "\n",
    "fig = px.bar(groupdiscrete,\n",
    "             x=\"mating.order\", y=\"mating.success\", barmode=\"group\",\n",
    "             color=\"male.qual\"\n",
    "                              )\n",
    "\n",
    "fig.show()"
   ]
  },
  {
   "cell_type": "code",
   "execution_count": 19,
   "metadata": {},
   "outputs": [
    {
     "data": {
      "text/html": [
       "<div>\n",
       "<style scoped>\n",
       "    .dataframe tbody tr th:only-of-type {\n",
       "        vertical-align: middle;\n",
       "    }\n",
       "\n",
       "    .dataframe tbody tr th {\n",
       "        vertical-align: top;\n",
       "    }\n",
       "\n",
       "    .dataframe thead th {\n",
       "        text-align: right;\n",
       "    }\n",
       "</style>\n",
       "<table border=\"1\" class=\"dataframe\">\n",
       "  <thead>\n",
       "    <tr style=\"text-align: right;\">\n",
       "      <th></th>\n",
       "      <th>male.qual</th>\n",
       "      <th>mating.order</th>\n",
       "      <th>male.age</th>\n",
       "      <th>latency.gift</th>\n",
       "      <th>latency.cop</th>\n",
       "      <th>cop.duration</th>\n",
       "      <th>mating.success</th>\n",
       "      <th>latency.gift.std</th>\n",
       "      <th>latency.cop.std</th>\n",
       "      <th>cop.duration.std</th>\n",
       "    </tr>\n",
       "  </thead>\n",
       "  <tbody>\n",
       "    <tr>\n",
       "      <th>0</th>\n",
       "      <td>H</td>\n",
       "      <td>1</td>\n",
       "      <td>13</td>\n",
       "      <td>634.000000</td>\n",
       "      <td>984.000000</td>\n",
       "      <td>2815.000000</td>\n",
       "      <td>1.0</td>\n",
       "      <td>NaN</td>\n",
       "      <td>NaN</td>\n",
       "      <td>NaN</td>\n",
       "    </tr>\n",
       "    <tr>\n",
       "      <th>1</th>\n",
       "      <td>H</td>\n",
       "      <td>1</td>\n",
       "      <td>15</td>\n",
       "      <td>407.857143</td>\n",
       "      <td>319.250000</td>\n",
       "      <td>1840.000000</td>\n",
       "      <td>8.0</td>\n",
       "      <td>246.615374</td>\n",
       "      <td>221.212729</td>\n",
       "      <td>1270.727688</td>\n",
       "    </tr>\n",
       "    <tr>\n",
       "      <th>2</th>\n",
       "      <td>H</td>\n",
       "      <td>1</td>\n",
       "      <td>16</td>\n",
       "      <td>106.666667</td>\n",
       "      <td>247.000000</td>\n",
       "      <td>1839.000000</td>\n",
       "      <td>3.0</td>\n",
       "      <td>21.962089</td>\n",
       "      <td>95.519631</td>\n",
       "      <td>1691.777468</td>\n",
       "    </tr>\n",
       "    <tr>\n",
       "      <th>3</th>\n",
       "      <td>H</td>\n",
       "      <td>1</td>\n",
       "      <td>17</td>\n",
       "      <td>625.600000</td>\n",
       "      <td>605.500000</td>\n",
       "      <td>1706.875000</td>\n",
       "      <td>8.0</td>\n",
       "      <td>373.431788</td>\n",
       "      <td>302.820574</td>\n",
       "      <td>1879.397353</td>\n",
       "    </tr>\n",
       "    <tr>\n",
       "      <th>4</th>\n",
       "      <td>H</td>\n",
       "      <td>1</td>\n",
       "      <td>18</td>\n",
       "      <td>318.200000</td>\n",
       "      <td>557.600000</td>\n",
       "      <td>3163.000000</td>\n",
       "      <td>5.0</td>\n",
       "      <td>109.878114</td>\n",
       "      <td>286.366548</td>\n",
       "      <td>1094.757507</td>\n",
       "    </tr>\n",
       "    <tr>\n",
       "      <th>5</th>\n",
       "      <td>H</td>\n",
       "      <td>1</td>\n",
       "      <td>19</td>\n",
       "      <td>515.000000</td>\n",
       "      <td>623.500000</td>\n",
       "      <td>3757.000000</td>\n",
       "      <td>2.0</td>\n",
       "      <td>69.296465</td>\n",
       "      <td>37.476659</td>\n",
       "      <td>63.639610</td>\n",
       "    </tr>\n",
       "    <tr>\n",
       "      <th>6</th>\n",
       "      <td>H</td>\n",
       "      <td>1</td>\n",
       "      <td>20</td>\n",
       "      <td>234.500000</td>\n",
       "      <td>372.000000</td>\n",
       "      <td>1111.500000</td>\n",
       "      <td>2.0</td>\n",
       "      <td>NaN</td>\n",
       "      <td>NaN</td>\n",
       "      <td>NaN</td>\n",
       "    </tr>\n",
       "    <tr>\n",
       "      <th>8</th>\n",
       "      <td>H</td>\n",
       "      <td>2</td>\n",
       "      <td>13</td>\n",
       "      <td>16.000000</td>\n",
       "      <td>729.000000</td>\n",
       "      <td>2097.000000</td>\n",
       "      <td>1.0</td>\n",
       "      <td>NaN</td>\n",
       "      <td>NaN</td>\n",
       "      <td>NaN</td>\n",
       "    </tr>\n",
       "    <tr>\n",
       "      <th>9</th>\n",
       "      <td>H</td>\n",
       "      <td>2</td>\n",
       "      <td>15</td>\n",
       "      <td>270.000000</td>\n",
       "      <td>634.800000</td>\n",
       "      <td>1032.000000</td>\n",
       "      <td>9.0</td>\n",
       "      <td>318.753039</td>\n",
       "      <td>249.754279</td>\n",
       "      <td>1312.914220</td>\n",
       "    </tr>\n",
       "    <tr>\n",
       "      <th>11</th>\n",
       "      <td>H</td>\n",
       "      <td>2</td>\n",
       "      <td>17</td>\n",
       "      <td>235.833333</td>\n",
       "      <td>554.600000</td>\n",
       "      <td>1535.142857</td>\n",
       "      <td>7.0</td>\n",
       "      <td>384.299579</td>\n",
       "      <td>520.678692</td>\n",
       "      <td>2352.447763</td>\n",
       "    </tr>\n",
       "    <tr>\n",
       "      <th>13</th>\n",
       "      <td>H</td>\n",
       "      <td>2</td>\n",
       "      <td>19</td>\n",
       "      <td>1773.000000</td>\n",
       "      <td>2819.000000</td>\n",
       "      <td>2280.500000</td>\n",
       "      <td>2.0</td>\n",
       "      <td>NaN</td>\n",
       "      <td>NaN</td>\n",
       "      <td>NaN</td>\n",
       "    </tr>\n",
       "    <tr>\n",
       "      <th>14</th>\n",
       "      <td>H</td>\n",
       "      <td>2</td>\n",
       "      <td>20</td>\n",
       "      <td>464.500000</td>\n",
       "      <td>695.500000</td>\n",
       "      <td>1749.000000</td>\n",
       "      <td>2.0</td>\n",
       "      <td>256.679762</td>\n",
       "      <td>214.253355</td>\n",
       "      <td>1848.377126</td>\n",
       "    </tr>\n",
       "    <tr>\n",
       "      <th>16</th>\n",
       "      <td>L</td>\n",
       "      <td>1</td>\n",
       "      <td>13</td>\n",
       "      <td>485.500000</td>\n",
       "      <td>679.000000</td>\n",
       "      <td>1820.000000</td>\n",
       "      <td>2.0</td>\n",
       "      <td>106.773124</td>\n",
       "      <td>62.225397</td>\n",
       "      <td>1178.039897</td>\n",
       "    </tr>\n",
       "    <tr>\n",
       "      <th>17</th>\n",
       "      <td>L</td>\n",
       "      <td>1</td>\n",
       "      <td>15</td>\n",
       "      <td>775.000000</td>\n",
       "      <td>603.375000</td>\n",
       "      <td>1174.111111</td>\n",
       "      <td>9.0</td>\n",
       "      <td>677.985251</td>\n",
       "      <td>324.622391</td>\n",
       "      <td>1232.425296</td>\n",
       "    </tr>\n",
       "    <tr>\n",
       "      <th>18</th>\n",
       "      <td>L</td>\n",
       "      <td>1</td>\n",
       "      <td>17</td>\n",
       "      <td>1059.666667</td>\n",
       "      <td>1180.333333</td>\n",
       "      <td>2667.250000</td>\n",
       "      <td>4.0</td>\n",
       "      <td>674.130798</td>\n",
       "      <td>605.059777</td>\n",
       "      <td>2157.225436</td>\n",
       "    </tr>\n",
       "    <tr>\n",
       "      <th>19</th>\n",
       "      <td>L</td>\n",
       "      <td>1</td>\n",
       "      <td>18</td>\n",
       "      <td>373.714286</td>\n",
       "      <td>486.857143</td>\n",
       "      <td>2629.250000</td>\n",
       "      <td>8.0</td>\n",
       "      <td>150.121855</td>\n",
       "      <td>161.756431</td>\n",
       "      <td>1918.586366</td>\n",
       "    </tr>\n",
       "    <tr>\n",
       "      <th>20</th>\n",
       "      <td>L</td>\n",
       "      <td>1</td>\n",
       "      <td>19</td>\n",
       "      <td>308.250000</td>\n",
       "      <td>312.250000</td>\n",
       "      <td>3220.500000</td>\n",
       "      <td>4.0</td>\n",
       "      <td>239.176887</td>\n",
       "      <td>265.294019</td>\n",
       "      <td>1035.081156</td>\n",
       "    </tr>\n",
       "    <tr>\n",
       "      <th>21</th>\n",
       "      <td>L</td>\n",
       "      <td>1</td>\n",
       "      <td>20</td>\n",
       "      <td>139.000000</td>\n",
       "      <td>500.000000</td>\n",
       "      <td>2171.000000</td>\n",
       "      <td>1.0</td>\n",
       "      <td>NaN</td>\n",
       "      <td>NaN</td>\n",
       "      <td>NaN</td>\n",
       "    </tr>\n",
       "    <tr>\n",
       "      <th>22</th>\n",
       "      <td>L</td>\n",
       "      <td>2</td>\n",
       "      <td>13</td>\n",
       "      <td>300.000000</td>\n",
       "      <td>436.000000</td>\n",
       "      <td>4095.500000</td>\n",
       "      <td>2.0</td>\n",
       "      <td>397.394011</td>\n",
       "      <td>476.589971</td>\n",
       "      <td>975.100251</td>\n",
       "    </tr>\n",
       "    <tr>\n",
       "      <th>23</th>\n",
       "      <td>L</td>\n",
       "      <td>2</td>\n",
       "      <td>15</td>\n",
       "      <td>155.500000</td>\n",
       "      <td>323.000000</td>\n",
       "      <td>2219.125000</td>\n",
       "      <td>8.0</td>\n",
       "      <td>214.105348</td>\n",
       "      <td>189.517282</td>\n",
       "      <td>2219.958844</td>\n",
       "    </tr>\n",
       "    <tr>\n",
       "      <th>24</th>\n",
       "      <td>L</td>\n",
       "      <td>2</td>\n",
       "      <td>17</td>\n",
       "      <td>678.000000</td>\n",
       "      <td>615.000000</td>\n",
       "      <td>1261.200000</td>\n",
       "      <td>5.0</td>\n",
       "      <td>250.315801</td>\n",
       "      <td>362.451376</td>\n",
       "      <td>1709.216399</td>\n",
       "    </tr>\n",
       "    <tr>\n",
       "      <th>25</th>\n",
       "      <td>L</td>\n",
       "      <td>2</td>\n",
       "      <td>18</td>\n",
       "      <td>933.333333</td>\n",
       "      <td>500.333333</td>\n",
       "      <td>952.125000</td>\n",
       "      <td>8.0</td>\n",
       "      <td>849.524769</td>\n",
       "      <td>240.840888</td>\n",
       "      <td>1355.056186</td>\n",
       "    </tr>\n",
       "    <tr>\n",
       "      <th>26</th>\n",
       "      <td>L</td>\n",
       "      <td>2</td>\n",
       "      <td>19</td>\n",
       "      <td>905.000000</td>\n",
       "      <td>942.333333</td>\n",
       "      <td>2331.600000</td>\n",
       "      <td>5.0</td>\n",
       "      <td>801.556611</td>\n",
       "      <td>916.082056</td>\n",
       "      <td>2867.223884</td>\n",
       "    </tr>\n",
       "  </tbody>\n",
       "</table>\n",
       "</div>"
      ],
      "text/plain": [
       "   male.qual mating.order  male.age  latency.gift  latency.cop  cop.duration   \n",
       "0          H            1        13    634.000000   984.000000   2815.000000  \\\n",
       "1          H            1        15    407.857143   319.250000   1840.000000   \n",
       "2          H            1        16    106.666667   247.000000   1839.000000   \n",
       "3          H            1        17    625.600000   605.500000   1706.875000   \n",
       "4          H            1        18    318.200000   557.600000   3163.000000   \n",
       "5          H            1        19    515.000000   623.500000   3757.000000   \n",
       "6          H            1        20    234.500000   372.000000   1111.500000   \n",
       "8          H            2        13     16.000000   729.000000   2097.000000   \n",
       "9          H            2        15    270.000000   634.800000   1032.000000   \n",
       "11         H            2        17    235.833333   554.600000   1535.142857   \n",
       "13         H            2        19   1773.000000  2819.000000   2280.500000   \n",
       "14         H            2        20    464.500000   695.500000   1749.000000   \n",
       "16         L            1        13    485.500000   679.000000   1820.000000   \n",
       "17         L            1        15    775.000000   603.375000   1174.111111   \n",
       "18         L            1        17   1059.666667  1180.333333   2667.250000   \n",
       "19         L            1        18    373.714286   486.857143   2629.250000   \n",
       "20         L            1        19    308.250000   312.250000   3220.500000   \n",
       "21         L            1        20    139.000000   500.000000   2171.000000   \n",
       "22         L            2        13    300.000000   436.000000   4095.500000   \n",
       "23         L            2        15    155.500000   323.000000   2219.125000   \n",
       "24         L            2        17    678.000000   615.000000   1261.200000   \n",
       "25         L            2        18    933.333333   500.333333    952.125000   \n",
       "26         L            2        19    905.000000   942.333333   2331.600000   \n",
       "\n",
       "    mating.success  latency.gift.std  latency.cop.std  cop.duration.std  \n",
       "0              1.0               NaN              NaN               NaN  \n",
       "1              8.0        246.615374       221.212729       1270.727688  \n",
       "2              3.0         21.962089        95.519631       1691.777468  \n",
       "3              8.0        373.431788       302.820574       1879.397353  \n",
       "4              5.0        109.878114       286.366548       1094.757507  \n",
       "5              2.0         69.296465        37.476659         63.639610  \n",
       "6              2.0               NaN              NaN               NaN  \n",
       "8              1.0               NaN              NaN               NaN  \n",
       "9              9.0        318.753039       249.754279       1312.914220  \n",
       "11             7.0        384.299579       520.678692       2352.447763  \n",
       "13             2.0               NaN              NaN               NaN  \n",
       "14             2.0        256.679762       214.253355       1848.377126  \n",
       "16             2.0        106.773124        62.225397       1178.039897  \n",
       "17             9.0        677.985251       324.622391       1232.425296  \n",
       "18             4.0        674.130798       605.059777       2157.225436  \n",
       "19             8.0        150.121855       161.756431       1918.586366  \n",
       "20             4.0        239.176887       265.294019       1035.081156  \n",
       "21             1.0               NaN              NaN               NaN  \n",
       "22             2.0        397.394011       476.589971        975.100251  \n",
       "23             8.0        214.105348       189.517282       2219.958844  \n",
       "24             5.0        250.315801       362.451376       1709.216399  \n",
       "25             8.0        849.524769       240.840888       1355.056186  \n",
       "26             5.0        801.556611       916.082056       2867.223884  "
      ]
     },
     "execution_count": 19,
     "metadata": {},
     "output_type": "execute_result"
    }
   ],
   "source": [
    "groupcontinous = df[[\"male.qual\", \"mating.order\", \"male.age\",\"latency.gift\", \"latency.cop\", \"cop.duration\"]].groupby([\"male.qual\", \"mating.order\", \"male.age\"]).mean()\n",
    "groupcontinousstd = df[[\"male.qual\", \"mating.order\", \"male.age\",\"latency.gift\", \"latency.cop\", \"cop.duration\"]].groupby([\"male.qual\", \"mating.order\", \"male.age\"]).std()\n",
    "\n",
    "groupcontinous = groupcontinous.reset_index()\n",
    "groupcontinousstd = groupcontinousstd.reset_index()\n",
    "groupcontinous = groupcontinous.dropna(axis=0)\n",
    "groupcontinousstd = groupcontinousstd.dropna(axis=0)\n",
    "groupcontinous[[\"mating.success\"]] = groupdiscrete[[\"mating.success\"]]\n",
    "groupcontinous[[\"latency.gift.std\"]] = groupcontinousstd[[\"latency.gift\"]]\n",
    "groupcontinous[[\"latency.cop.std\"]] = groupcontinousstd[[\"latency.cop\"]]\n",
    "groupcontinous[[\"cop.duration.std\"]] = groupcontinousstd[[\"cop.duration\"]]\n",
    "groupcontinous\n",
    "\n",
    "\n"
   ]
  },
  {
   "cell_type": "code",
   "execution_count": 43,
   "metadata": {},
   "outputs": [
    {
     "data": {
      "application/vnd.plotly.v1+json": {
       "config": {
        "plotlyServerURL": "https://plot.ly"
       },
       "data": [
        {
         "diagonal": {
          "visible": false
         },
         "dimensions": [
          {
           "axis": {
            "matches": true
           },
           "label": "latency.gift",
           "values": [
            529,
            293,
            2092,
            64,
            916,
            301,
            608,
            70,
            283,
            16,
            279,
            8,
            502,
            95,
            24,
            537,
            545,
            262,
            172,
            93,
            591,
            855,
            232,
            315,
            256,
            17,
            812,
            378,
            870,
            54,
            501,
            425,
            51,
            442,
            121,
            474,
            330,
            41,
            76,
            403,
            667,
            376,
            544,
            170,
            1075,
            158,
            520,
            250,
            1773,
            367,
            1902,
            397,
            603,
            385,
            21,
            1726,
            410,
            583,
            289,
            466,
            410,
            1236,
            98,
            139,
            646,
            16,
            170,
            634,
            1701,
            16,
            561,
            19,
            132,
            232,
            564,
            581
           ]
          },
          {
           "axis": {
            "matches": true
           },
           "label": "latency.cop",
           "values": [
            606,
            559,
            162,
            243,
            545,
            383,
            691,
            107,
            544,
            928,
            426,
            422,
            656,
            185,
            160,
            600,
            661,
            650,
            266,
            199,
            728,
            906,
            286,
            416,
            361,
            82,
            262,
            597,
            1078,
            285,
            730,
            494,
            117,
            120,
            389,
            575,
            941,
            613,
            318,
            447,
            893,
            455,
            640,
            619,
            1139,
            295,
            589,
            449,
            2819,
            487,
            313,
            1044,
            671,
            153,
            1409,
            1805,
            545,
            772,
            298,
            597,
            635,
            234,
            292,
            500,
            847,
            38,
            298,
            984,
            1990,
            729,
            723,
            99,
            357,
            372,
            650,
            773
           ]
          },
          {
           "axis": {
            "matches": true
           },
           "label": "cop.duration",
           "values": [
            3869,
            221,
            1252,
            685,
            1244,
            5602,
            3880,
            4084,
            442,
            1981,
            305,
            1248,
            1874,
            469,
            4781,
            2979,
            790,
            4573,
            2042,
            3730,
            953,
            3624,
            768,
            3176,
            2603,
            584,
            3036,
            1835,
            3144,
            1669,
            2547,
            1032,
            3562,
            1806,
            395,
            2613,
            2306,
            3738,
            356,
            1920,
            4008,
            3734,
            4750,
            3575,
            4293,
            2324,
            5778,
            2092,
            4561,
            3743,
            1940,
            4760,
            1003,
            3120,
            6041,
            4541,
            2905,
            2501,
            1975,
            3802,
            987,
            1251,
            6672,
            2171,
            3056,
            379,
            1798,
            2815,
            3742,
            2097,
            2653,
            3406,
            1318,
            2223,
            3712,
            4785
           ]
          }
         ],
         "hovertemplate": "%{xaxis.title.text}=%{x}<br>%{yaxis.title.text}=%{y}<br>female.wt=%{marker.color}<extra></extra>",
         "legendgroup": "",
         "marker": {
          "color": [
           0.1347,
           0.1818,
           0.1215,
           0.1215,
           0.1222,
           0.1645,
           0.1755,
           0.1554,
           0.1554,
           0.1128,
           0.169,
           0.1265,
           0.1265,
           0.1512,
           0.1675,
           0.1675,
           0.1292,
           0.1753,
           0.1591,
           0.1102,
           0.1852,
           0.1315,
           0.1315,
           0.1243,
           0.1243,
           0.1836,
           0.1836,
           0.1931,
           0.187,
           0.1383,
           0.2311,
           0.2311,
           0.1741,
           0.1294,
           0.1292,
           0.1314,
           0.1673,
           0.1673,
           0.1784,
           0.1784,
           0.1979,
           0.1818,
           0.2096,
           0.1933,
           0.1933,
           0.1748,
           0.1618,
           0.1028,
           0.129,
           0.129,
           0.1474,
           0.16,
           0.1215,
           0.1449,
           0.1651,
           0.1651,
           0.1537,
           0.1537,
           0.1594,
           0.1276,
           0.1214,
           0.1574,
           0.1574,
           0.1472,
           0.1472,
           0.1434,
           0.1434,
           0.1648,
           0.1648,
           0.1919,
           0.1919,
           0.1533,
           0.1533,
           0.1464,
           0.1231,
           0.1231
          ],
          "coloraxis": "coloraxis",
          "symbol": "circle"
         },
         "name": "",
         "showlegend": false,
         "type": "splom"
        }
       ],
       "layout": {
        "coloraxis": {
         "colorbar": {
          "title": {
           "text": "female.wt"
          }
         },
         "colorscale": [
          [
           0,
           "#0d0887"
          ],
          [
           0.1111111111111111,
           "#46039f"
          ],
          [
           0.2222222222222222,
           "#7201a8"
          ],
          [
           0.3333333333333333,
           "#9c179e"
          ],
          [
           0.4444444444444444,
           "#bd3786"
          ],
          [
           0.5555555555555556,
           "#d8576b"
          ],
          [
           0.6666666666666666,
           "#ed7953"
          ],
          [
           0.7777777777777778,
           "#fb9f3a"
          ],
          [
           0.8888888888888888,
           "#fdca26"
          ],
          [
           1,
           "#f0f921"
          ]
         ]
        },
        "dragmode": "select",
        "legend": {
         "tracegroupgap": 0
        },
        "margin": {
         "t": 60
        },
        "template": {
         "data": {
          "bar": [
           {
            "error_x": {
             "color": "#2a3f5f"
            },
            "error_y": {
             "color": "#2a3f5f"
            },
            "marker": {
             "line": {
              "color": "#E5ECF6",
              "width": 0.5
             },
             "pattern": {
              "fillmode": "overlay",
              "size": 10,
              "solidity": 0.2
             }
            },
            "type": "bar"
           }
          ],
          "barpolar": [
           {
            "marker": {
             "line": {
              "color": "#E5ECF6",
              "width": 0.5
             },
             "pattern": {
              "fillmode": "overlay",
              "size": 10,
              "solidity": 0.2
             }
            },
            "type": "barpolar"
           }
          ],
          "carpet": [
           {
            "aaxis": {
             "endlinecolor": "#2a3f5f",
             "gridcolor": "white",
             "linecolor": "white",
             "minorgridcolor": "white",
             "startlinecolor": "#2a3f5f"
            },
            "baxis": {
             "endlinecolor": "#2a3f5f",
             "gridcolor": "white",
             "linecolor": "white",
             "minorgridcolor": "white",
             "startlinecolor": "#2a3f5f"
            },
            "type": "carpet"
           }
          ],
          "choropleth": [
           {
            "colorbar": {
             "outlinewidth": 0,
             "ticks": ""
            },
            "type": "choropleth"
           }
          ],
          "contour": [
           {
            "colorbar": {
             "outlinewidth": 0,
             "ticks": ""
            },
            "colorscale": [
             [
              0,
              "#0d0887"
             ],
             [
              0.1111111111111111,
              "#46039f"
             ],
             [
              0.2222222222222222,
              "#7201a8"
             ],
             [
              0.3333333333333333,
              "#9c179e"
             ],
             [
              0.4444444444444444,
              "#bd3786"
             ],
             [
              0.5555555555555556,
              "#d8576b"
             ],
             [
              0.6666666666666666,
              "#ed7953"
             ],
             [
              0.7777777777777778,
              "#fb9f3a"
             ],
             [
              0.8888888888888888,
              "#fdca26"
             ],
             [
              1,
              "#f0f921"
             ]
            ],
            "type": "contour"
           }
          ],
          "contourcarpet": [
           {
            "colorbar": {
             "outlinewidth": 0,
             "ticks": ""
            },
            "type": "contourcarpet"
           }
          ],
          "heatmap": [
           {
            "colorbar": {
             "outlinewidth": 0,
             "ticks": ""
            },
            "colorscale": [
             [
              0,
              "#0d0887"
             ],
             [
              0.1111111111111111,
              "#46039f"
             ],
             [
              0.2222222222222222,
              "#7201a8"
             ],
             [
              0.3333333333333333,
              "#9c179e"
             ],
             [
              0.4444444444444444,
              "#bd3786"
             ],
             [
              0.5555555555555556,
              "#d8576b"
             ],
             [
              0.6666666666666666,
              "#ed7953"
             ],
             [
              0.7777777777777778,
              "#fb9f3a"
             ],
             [
              0.8888888888888888,
              "#fdca26"
             ],
             [
              1,
              "#f0f921"
             ]
            ],
            "type": "heatmap"
           }
          ],
          "heatmapgl": [
           {
            "colorbar": {
             "outlinewidth": 0,
             "ticks": ""
            },
            "colorscale": [
             [
              0,
              "#0d0887"
             ],
             [
              0.1111111111111111,
              "#46039f"
             ],
             [
              0.2222222222222222,
              "#7201a8"
             ],
             [
              0.3333333333333333,
              "#9c179e"
             ],
             [
              0.4444444444444444,
              "#bd3786"
             ],
             [
              0.5555555555555556,
              "#d8576b"
             ],
             [
              0.6666666666666666,
              "#ed7953"
             ],
             [
              0.7777777777777778,
              "#fb9f3a"
             ],
             [
              0.8888888888888888,
              "#fdca26"
             ],
             [
              1,
              "#f0f921"
             ]
            ],
            "type": "heatmapgl"
           }
          ],
          "histogram": [
           {
            "marker": {
             "pattern": {
              "fillmode": "overlay",
              "size": 10,
              "solidity": 0.2
             }
            },
            "type": "histogram"
           }
          ],
          "histogram2d": [
           {
            "colorbar": {
             "outlinewidth": 0,
             "ticks": ""
            },
            "colorscale": [
             [
              0,
              "#0d0887"
             ],
             [
              0.1111111111111111,
              "#46039f"
             ],
             [
              0.2222222222222222,
              "#7201a8"
             ],
             [
              0.3333333333333333,
              "#9c179e"
             ],
             [
              0.4444444444444444,
              "#bd3786"
             ],
             [
              0.5555555555555556,
              "#d8576b"
             ],
             [
              0.6666666666666666,
              "#ed7953"
             ],
             [
              0.7777777777777778,
              "#fb9f3a"
             ],
             [
              0.8888888888888888,
              "#fdca26"
             ],
             [
              1,
              "#f0f921"
             ]
            ],
            "type": "histogram2d"
           }
          ],
          "histogram2dcontour": [
           {
            "colorbar": {
             "outlinewidth": 0,
             "ticks": ""
            },
            "colorscale": [
             [
              0,
              "#0d0887"
             ],
             [
              0.1111111111111111,
              "#46039f"
             ],
             [
              0.2222222222222222,
              "#7201a8"
             ],
             [
              0.3333333333333333,
              "#9c179e"
             ],
             [
              0.4444444444444444,
              "#bd3786"
             ],
             [
              0.5555555555555556,
              "#d8576b"
             ],
             [
              0.6666666666666666,
              "#ed7953"
             ],
             [
              0.7777777777777778,
              "#fb9f3a"
             ],
             [
              0.8888888888888888,
              "#fdca26"
             ],
             [
              1,
              "#f0f921"
             ]
            ],
            "type": "histogram2dcontour"
           }
          ],
          "mesh3d": [
           {
            "colorbar": {
             "outlinewidth": 0,
             "ticks": ""
            },
            "type": "mesh3d"
           }
          ],
          "parcoords": [
           {
            "line": {
             "colorbar": {
              "outlinewidth": 0,
              "ticks": ""
             }
            },
            "type": "parcoords"
           }
          ],
          "pie": [
           {
            "automargin": true,
            "type": "pie"
           }
          ],
          "scatter": [
           {
            "fillpattern": {
             "fillmode": "overlay",
             "size": 10,
             "solidity": 0.2
            },
            "type": "scatter"
           }
          ],
          "scatter3d": [
           {
            "line": {
             "colorbar": {
              "outlinewidth": 0,
              "ticks": ""
             }
            },
            "marker": {
             "colorbar": {
              "outlinewidth": 0,
              "ticks": ""
             }
            },
            "type": "scatter3d"
           }
          ],
          "scattercarpet": [
           {
            "marker": {
             "colorbar": {
              "outlinewidth": 0,
              "ticks": ""
             }
            },
            "type": "scattercarpet"
           }
          ],
          "scattergeo": [
           {
            "marker": {
             "colorbar": {
              "outlinewidth": 0,
              "ticks": ""
             }
            },
            "type": "scattergeo"
           }
          ],
          "scattergl": [
           {
            "marker": {
             "colorbar": {
              "outlinewidth": 0,
              "ticks": ""
             }
            },
            "type": "scattergl"
           }
          ],
          "scattermapbox": [
           {
            "marker": {
             "colorbar": {
              "outlinewidth": 0,
              "ticks": ""
             }
            },
            "type": "scattermapbox"
           }
          ],
          "scatterpolar": [
           {
            "marker": {
             "colorbar": {
              "outlinewidth": 0,
              "ticks": ""
             }
            },
            "type": "scatterpolar"
           }
          ],
          "scatterpolargl": [
           {
            "marker": {
             "colorbar": {
              "outlinewidth": 0,
              "ticks": ""
             }
            },
            "type": "scatterpolargl"
           }
          ],
          "scatterternary": [
           {
            "marker": {
             "colorbar": {
              "outlinewidth": 0,
              "ticks": ""
             }
            },
            "type": "scatterternary"
           }
          ],
          "surface": [
           {
            "colorbar": {
             "outlinewidth": 0,
             "ticks": ""
            },
            "colorscale": [
             [
              0,
              "#0d0887"
             ],
             [
              0.1111111111111111,
              "#46039f"
             ],
             [
              0.2222222222222222,
              "#7201a8"
             ],
             [
              0.3333333333333333,
              "#9c179e"
             ],
             [
              0.4444444444444444,
              "#bd3786"
             ],
             [
              0.5555555555555556,
              "#d8576b"
             ],
             [
              0.6666666666666666,
              "#ed7953"
             ],
             [
              0.7777777777777778,
              "#fb9f3a"
             ],
             [
              0.8888888888888888,
              "#fdca26"
             ],
             [
              1,
              "#f0f921"
             ]
            ],
            "type": "surface"
           }
          ],
          "table": [
           {
            "cells": {
             "fill": {
              "color": "#EBF0F8"
             },
             "line": {
              "color": "white"
             }
            },
            "header": {
             "fill": {
              "color": "#C8D4E3"
             },
             "line": {
              "color": "white"
             }
            },
            "type": "table"
           }
          ]
         },
         "layout": {
          "annotationdefaults": {
           "arrowcolor": "#2a3f5f",
           "arrowhead": 0,
           "arrowwidth": 1
          },
          "autotypenumbers": "strict",
          "coloraxis": {
           "colorbar": {
            "outlinewidth": 0,
            "ticks": ""
           }
          },
          "colorscale": {
           "diverging": [
            [
             0,
             "#8e0152"
            ],
            [
             0.1,
             "#c51b7d"
            ],
            [
             0.2,
             "#de77ae"
            ],
            [
             0.3,
             "#f1b6da"
            ],
            [
             0.4,
             "#fde0ef"
            ],
            [
             0.5,
             "#f7f7f7"
            ],
            [
             0.6,
             "#e6f5d0"
            ],
            [
             0.7,
             "#b8e186"
            ],
            [
             0.8,
             "#7fbc41"
            ],
            [
             0.9,
             "#4d9221"
            ],
            [
             1,
             "#276419"
            ]
           ],
           "sequential": [
            [
             0,
             "#0d0887"
            ],
            [
             0.1111111111111111,
             "#46039f"
            ],
            [
             0.2222222222222222,
             "#7201a8"
            ],
            [
             0.3333333333333333,
             "#9c179e"
            ],
            [
             0.4444444444444444,
             "#bd3786"
            ],
            [
             0.5555555555555556,
             "#d8576b"
            ],
            [
             0.6666666666666666,
             "#ed7953"
            ],
            [
             0.7777777777777778,
             "#fb9f3a"
            ],
            [
             0.8888888888888888,
             "#fdca26"
            ],
            [
             1,
             "#f0f921"
            ]
           ],
           "sequentialminus": [
            [
             0,
             "#0d0887"
            ],
            [
             0.1111111111111111,
             "#46039f"
            ],
            [
             0.2222222222222222,
             "#7201a8"
            ],
            [
             0.3333333333333333,
             "#9c179e"
            ],
            [
             0.4444444444444444,
             "#bd3786"
            ],
            [
             0.5555555555555556,
             "#d8576b"
            ],
            [
             0.6666666666666666,
             "#ed7953"
            ],
            [
             0.7777777777777778,
             "#fb9f3a"
            ],
            [
             0.8888888888888888,
             "#fdca26"
            ],
            [
             1,
             "#f0f921"
            ]
           ]
          },
          "colorway": [
           "#636efa",
           "#EF553B",
           "#00cc96",
           "#ab63fa",
           "#FFA15A",
           "#19d3f3",
           "#FF6692",
           "#B6E880",
           "#FF97FF",
           "#FECB52"
          ],
          "font": {
           "color": "#2a3f5f"
          },
          "geo": {
           "bgcolor": "white",
           "lakecolor": "white",
           "landcolor": "#E5ECF6",
           "showlakes": true,
           "showland": true,
           "subunitcolor": "white"
          },
          "hoverlabel": {
           "align": "left"
          },
          "hovermode": "closest",
          "mapbox": {
           "style": "light"
          },
          "paper_bgcolor": "white",
          "plot_bgcolor": "#E5ECF6",
          "polar": {
           "angularaxis": {
            "gridcolor": "white",
            "linecolor": "white",
            "ticks": ""
           },
           "bgcolor": "#E5ECF6",
           "radialaxis": {
            "gridcolor": "white",
            "linecolor": "white",
            "ticks": ""
           }
          },
          "scene": {
           "xaxis": {
            "backgroundcolor": "#E5ECF6",
            "gridcolor": "white",
            "gridwidth": 2,
            "linecolor": "white",
            "showbackground": true,
            "ticks": "",
            "zerolinecolor": "white"
           },
           "yaxis": {
            "backgroundcolor": "#E5ECF6",
            "gridcolor": "white",
            "gridwidth": 2,
            "linecolor": "white",
            "showbackground": true,
            "ticks": "",
            "zerolinecolor": "white"
           },
           "zaxis": {
            "backgroundcolor": "#E5ECF6",
            "gridcolor": "white",
            "gridwidth": 2,
            "linecolor": "white",
            "showbackground": true,
            "ticks": "",
            "zerolinecolor": "white"
           }
          },
          "shapedefaults": {
           "line": {
            "color": "#2a3f5f"
           }
          },
          "ternary": {
           "aaxis": {
            "gridcolor": "white",
            "linecolor": "white",
            "ticks": ""
           },
           "baxis": {
            "gridcolor": "white",
            "linecolor": "white",
            "ticks": ""
           },
           "bgcolor": "#E5ECF6",
           "caxis": {
            "gridcolor": "white",
            "linecolor": "white",
            "ticks": ""
           }
          },
          "title": {
           "x": 0.05
          },
          "xaxis": {
           "automargin": true,
           "gridcolor": "white",
           "linecolor": "white",
           "ticks": "",
           "title": {
            "standoff": 15
           },
           "zerolinecolor": "white",
           "zerolinewidth": 2
          },
          "yaxis": {
           "automargin": true,
           "gridcolor": "white",
           "linecolor": "white",
           "ticks": "",
           "title": {
            "standoff": 15
           },
           "zerolinecolor": "white",
           "zerolinewidth": 2
          }
         }
        }
       }
      }
     },
     "metadata": {},
     "output_type": "display_data"
    },
    {
     "data": {
      "application/vnd.plotly.v1+json": {
       "config": {
        "plotlyServerURL": "https://plot.ly"
       },
       "data": [
        {
         "diagonal": {
          "visible": false
         },
         "dimensions": [
          {
           "axis": {
            "matches": true
           },
           "label": "latency.gift",
           "values": [
            529,
            293,
            2092,
            64,
            916,
            301,
            608,
            70,
            283,
            16,
            279,
            8,
            502,
            95,
            24,
            537,
            545,
            262,
            172,
            93,
            591,
            855,
            232,
            315,
            256,
            17,
            812,
            378,
            870,
            54,
            501,
            425,
            51,
            442,
            121,
            474,
            330,
            41,
            76,
            403,
            667,
            376,
            544,
            170,
            1075,
            158,
            520,
            250,
            1773,
            367,
            1902,
            397,
            603,
            385,
            21,
            1726,
            410,
            583,
            289,
            466,
            410,
            1236,
            98,
            139,
            646,
            16,
            170,
            634,
            1701,
            16,
            561,
            19,
            132,
            232,
            564,
            581
           ]
          },
          {
           "axis": {
            "matches": true
           },
           "label": "latency.cop",
           "values": [
            606,
            559,
            162,
            243,
            545,
            383,
            691,
            107,
            544,
            928,
            426,
            422,
            656,
            185,
            160,
            600,
            661,
            650,
            266,
            199,
            728,
            906,
            286,
            416,
            361,
            82,
            262,
            597,
            1078,
            285,
            730,
            494,
            117,
            120,
            389,
            575,
            941,
            613,
            318,
            447,
            893,
            455,
            640,
            619,
            1139,
            295,
            589,
            449,
            2819,
            487,
            313,
            1044,
            671,
            153,
            1409,
            1805,
            545,
            772,
            298,
            597,
            635,
            234,
            292,
            500,
            847,
            38,
            298,
            984,
            1990,
            729,
            723,
            99,
            357,
            372,
            650,
            773
           ]
          },
          {
           "axis": {
            "matches": true
           },
           "label": "cop.duration",
           "values": [
            3869,
            221,
            1252,
            685,
            1244,
            5602,
            3880,
            4084,
            442,
            1981,
            305,
            1248,
            1874,
            469,
            4781,
            2979,
            790,
            4573,
            2042,
            3730,
            953,
            3624,
            768,
            3176,
            2603,
            584,
            3036,
            1835,
            3144,
            1669,
            2547,
            1032,
            3562,
            1806,
            395,
            2613,
            2306,
            3738,
            356,
            1920,
            4008,
            3734,
            4750,
            3575,
            4293,
            2324,
            5778,
            2092,
            4561,
            3743,
            1940,
            4760,
            1003,
            3120,
            6041,
            4541,
            2905,
            2501,
            1975,
            3802,
            987,
            1251,
            6672,
            2171,
            3056,
            379,
            1798,
            2815,
            3742,
            2097,
            2653,
            3406,
            1318,
            2223,
            3712,
            4785
           ]
          }
         ],
         "hovertemplate": "%{xaxis.title.text}=%{x}<br>%{yaxis.title.text}=%{y}<br>male.wt=%{marker.color}<extra></extra>",
         "legendgroup": "",
         "marker": {
          "color": [
           0.0788,
           0.0703,
           0.0788,
           0.0854,
           0.0754,
           0.0832,
           0.108,
           0.0754,
           0.0908,
           0.067,
           0.1027,
           0.0703,
           0.0854,
           0.0752,
           0.1126,
           0.0827,
           0.0793,
           0.1165,
           0.117,
           0.0683,
           0.0653,
           0.0988,
           0.0793,
           0.1165,
           0.0671,
           0.0841,
           0.1031,
           0.0965,
           0.0911,
           0.0911,
           0.0965,
           0.0853,
           0.0853,
           0.0882,
           0.0585,
           0.0841,
           0.0866,
           0.0882,
           0.0798,
           0.089,
           0.0955,
           0.0929,
           0.1214,
           0.1214,
           0.1207,
           0.096,
           0.0932,
           0.091,
           0.083,
           0.1065,
           0.0731,
           0.12,
           0.0731,
           0.1097,
           0.0729,
           0.0836,
           0.1096,
           0.1065,
           0.0992,
           0.083,
           0.1038,
           0.0958,
           0.0941,
           0.111,
           0.1025,
           0.0958,
           0.0941,
           0.1171,
           0.0962,
           0.1171,
           0.0979,
           0.0979,
           0.0779,
           0.1025,
           0.0798,
           0.1038
          ],
          "coloraxis": "coloraxis",
          "symbol": "circle"
         },
         "name": "",
         "showlegend": false,
         "type": "splom"
        }
       ],
       "layout": {
        "coloraxis": {
         "colorbar": {
          "title": {
           "text": "male.wt"
          }
         },
         "colorscale": [
          [
           0,
           "#0d0887"
          ],
          [
           0.1111111111111111,
           "#46039f"
          ],
          [
           0.2222222222222222,
           "#7201a8"
          ],
          [
           0.3333333333333333,
           "#9c179e"
          ],
          [
           0.4444444444444444,
           "#bd3786"
          ],
          [
           0.5555555555555556,
           "#d8576b"
          ],
          [
           0.6666666666666666,
           "#ed7953"
          ],
          [
           0.7777777777777778,
           "#fb9f3a"
          ],
          [
           0.8888888888888888,
           "#fdca26"
          ],
          [
           1,
           "#f0f921"
          ]
         ]
        },
        "dragmode": "select",
        "legend": {
         "tracegroupgap": 0
        },
        "margin": {
         "t": 60
        },
        "template": {
         "data": {
          "bar": [
           {
            "error_x": {
             "color": "#2a3f5f"
            },
            "error_y": {
             "color": "#2a3f5f"
            },
            "marker": {
             "line": {
              "color": "#E5ECF6",
              "width": 0.5
             },
             "pattern": {
              "fillmode": "overlay",
              "size": 10,
              "solidity": 0.2
             }
            },
            "type": "bar"
           }
          ],
          "barpolar": [
           {
            "marker": {
             "line": {
              "color": "#E5ECF6",
              "width": 0.5
             },
             "pattern": {
              "fillmode": "overlay",
              "size": 10,
              "solidity": 0.2
             }
            },
            "type": "barpolar"
           }
          ],
          "carpet": [
           {
            "aaxis": {
             "endlinecolor": "#2a3f5f",
             "gridcolor": "white",
             "linecolor": "white",
             "minorgridcolor": "white",
             "startlinecolor": "#2a3f5f"
            },
            "baxis": {
             "endlinecolor": "#2a3f5f",
             "gridcolor": "white",
             "linecolor": "white",
             "minorgridcolor": "white",
             "startlinecolor": "#2a3f5f"
            },
            "type": "carpet"
           }
          ],
          "choropleth": [
           {
            "colorbar": {
             "outlinewidth": 0,
             "ticks": ""
            },
            "type": "choropleth"
           }
          ],
          "contour": [
           {
            "colorbar": {
             "outlinewidth": 0,
             "ticks": ""
            },
            "colorscale": [
             [
              0,
              "#0d0887"
             ],
             [
              0.1111111111111111,
              "#46039f"
             ],
             [
              0.2222222222222222,
              "#7201a8"
             ],
             [
              0.3333333333333333,
              "#9c179e"
             ],
             [
              0.4444444444444444,
              "#bd3786"
             ],
             [
              0.5555555555555556,
              "#d8576b"
             ],
             [
              0.6666666666666666,
              "#ed7953"
             ],
             [
              0.7777777777777778,
              "#fb9f3a"
             ],
             [
              0.8888888888888888,
              "#fdca26"
             ],
             [
              1,
              "#f0f921"
             ]
            ],
            "type": "contour"
           }
          ],
          "contourcarpet": [
           {
            "colorbar": {
             "outlinewidth": 0,
             "ticks": ""
            },
            "type": "contourcarpet"
           }
          ],
          "heatmap": [
           {
            "colorbar": {
             "outlinewidth": 0,
             "ticks": ""
            },
            "colorscale": [
             [
              0,
              "#0d0887"
             ],
             [
              0.1111111111111111,
              "#46039f"
             ],
             [
              0.2222222222222222,
              "#7201a8"
             ],
             [
              0.3333333333333333,
              "#9c179e"
             ],
             [
              0.4444444444444444,
              "#bd3786"
             ],
             [
              0.5555555555555556,
              "#d8576b"
             ],
             [
              0.6666666666666666,
              "#ed7953"
             ],
             [
              0.7777777777777778,
              "#fb9f3a"
             ],
             [
              0.8888888888888888,
              "#fdca26"
             ],
             [
              1,
              "#f0f921"
             ]
            ],
            "type": "heatmap"
           }
          ],
          "heatmapgl": [
           {
            "colorbar": {
             "outlinewidth": 0,
             "ticks": ""
            },
            "colorscale": [
             [
              0,
              "#0d0887"
             ],
             [
              0.1111111111111111,
              "#46039f"
             ],
             [
              0.2222222222222222,
              "#7201a8"
             ],
             [
              0.3333333333333333,
              "#9c179e"
             ],
             [
              0.4444444444444444,
              "#bd3786"
             ],
             [
              0.5555555555555556,
              "#d8576b"
             ],
             [
              0.6666666666666666,
              "#ed7953"
             ],
             [
              0.7777777777777778,
              "#fb9f3a"
             ],
             [
              0.8888888888888888,
              "#fdca26"
             ],
             [
              1,
              "#f0f921"
             ]
            ],
            "type": "heatmapgl"
           }
          ],
          "histogram": [
           {
            "marker": {
             "pattern": {
              "fillmode": "overlay",
              "size": 10,
              "solidity": 0.2
             }
            },
            "type": "histogram"
           }
          ],
          "histogram2d": [
           {
            "colorbar": {
             "outlinewidth": 0,
             "ticks": ""
            },
            "colorscale": [
             [
              0,
              "#0d0887"
             ],
             [
              0.1111111111111111,
              "#46039f"
             ],
             [
              0.2222222222222222,
              "#7201a8"
             ],
             [
              0.3333333333333333,
              "#9c179e"
             ],
             [
              0.4444444444444444,
              "#bd3786"
             ],
             [
              0.5555555555555556,
              "#d8576b"
             ],
             [
              0.6666666666666666,
              "#ed7953"
             ],
             [
              0.7777777777777778,
              "#fb9f3a"
             ],
             [
              0.8888888888888888,
              "#fdca26"
             ],
             [
              1,
              "#f0f921"
             ]
            ],
            "type": "histogram2d"
           }
          ],
          "histogram2dcontour": [
           {
            "colorbar": {
             "outlinewidth": 0,
             "ticks": ""
            },
            "colorscale": [
             [
              0,
              "#0d0887"
             ],
             [
              0.1111111111111111,
              "#46039f"
             ],
             [
              0.2222222222222222,
              "#7201a8"
             ],
             [
              0.3333333333333333,
              "#9c179e"
             ],
             [
              0.4444444444444444,
              "#bd3786"
             ],
             [
              0.5555555555555556,
              "#d8576b"
             ],
             [
              0.6666666666666666,
              "#ed7953"
             ],
             [
              0.7777777777777778,
              "#fb9f3a"
             ],
             [
              0.8888888888888888,
              "#fdca26"
             ],
             [
              1,
              "#f0f921"
             ]
            ],
            "type": "histogram2dcontour"
           }
          ],
          "mesh3d": [
           {
            "colorbar": {
             "outlinewidth": 0,
             "ticks": ""
            },
            "type": "mesh3d"
           }
          ],
          "parcoords": [
           {
            "line": {
             "colorbar": {
              "outlinewidth": 0,
              "ticks": ""
             }
            },
            "type": "parcoords"
           }
          ],
          "pie": [
           {
            "automargin": true,
            "type": "pie"
           }
          ],
          "scatter": [
           {
            "fillpattern": {
             "fillmode": "overlay",
             "size": 10,
             "solidity": 0.2
            },
            "type": "scatter"
           }
          ],
          "scatter3d": [
           {
            "line": {
             "colorbar": {
              "outlinewidth": 0,
              "ticks": ""
             }
            },
            "marker": {
             "colorbar": {
              "outlinewidth": 0,
              "ticks": ""
             }
            },
            "type": "scatter3d"
           }
          ],
          "scattercarpet": [
           {
            "marker": {
             "colorbar": {
              "outlinewidth": 0,
              "ticks": ""
             }
            },
            "type": "scattercarpet"
           }
          ],
          "scattergeo": [
           {
            "marker": {
             "colorbar": {
              "outlinewidth": 0,
              "ticks": ""
             }
            },
            "type": "scattergeo"
           }
          ],
          "scattergl": [
           {
            "marker": {
             "colorbar": {
              "outlinewidth": 0,
              "ticks": ""
             }
            },
            "type": "scattergl"
           }
          ],
          "scattermapbox": [
           {
            "marker": {
             "colorbar": {
              "outlinewidth": 0,
              "ticks": ""
             }
            },
            "type": "scattermapbox"
           }
          ],
          "scatterpolar": [
           {
            "marker": {
             "colorbar": {
              "outlinewidth": 0,
              "ticks": ""
             }
            },
            "type": "scatterpolar"
           }
          ],
          "scatterpolargl": [
           {
            "marker": {
             "colorbar": {
              "outlinewidth": 0,
              "ticks": ""
             }
            },
            "type": "scatterpolargl"
           }
          ],
          "scatterternary": [
           {
            "marker": {
             "colorbar": {
              "outlinewidth": 0,
              "ticks": ""
             }
            },
            "type": "scatterternary"
           }
          ],
          "surface": [
           {
            "colorbar": {
             "outlinewidth": 0,
             "ticks": ""
            },
            "colorscale": [
             [
              0,
              "#0d0887"
             ],
             [
              0.1111111111111111,
              "#46039f"
             ],
             [
              0.2222222222222222,
              "#7201a8"
             ],
             [
              0.3333333333333333,
              "#9c179e"
             ],
             [
              0.4444444444444444,
              "#bd3786"
             ],
             [
              0.5555555555555556,
              "#d8576b"
             ],
             [
              0.6666666666666666,
              "#ed7953"
             ],
             [
              0.7777777777777778,
              "#fb9f3a"
             ],
             [
              0.8888888888888888,
              "#fdca26"
             ],
             [
              1,
              "#f0f921"
             ]
            ],
            "type": "surface"
           }
          ],
          "table": [
           {
            "cells": {
             "fill": {
              "color": "#EBF0F8"
             },
             "line": {
              "color": "white"
             }
            },
            "header": {
             "fill": {
              "color": "#C8D4E3"
             },
             "line": {
              "color": "white"
             }
            },
            "type": "table"
           }
          ]
         },
         "layout": {
          "annotationdefaults": {
           "arrowcolor": "#2a3f5f",
           "arrowhead": 0,
           "arrowwidth": 1
          },
          "autotypenumbers": "strict",
          "coloraxis": {
           "colorbar": {
            "outlinewidth": 0,
            "ticks": ""
           }
          },
          "colorscale": {
           "diverging": [
            [
             0,
             "#8e0152"
            ],
            [
             0.1,
             "#c51b7d"
            ],
            [
             0.2,
             "#de77ae"
            ],
            [
             0.3,
             "#f1b6da"
            ],
            [
             0.4,
             "#fde0ef"
            ],
            [
             0.5,
             "#f7f7f7"
            ],
            [
             0.6,
             "#e6f5d0"
            ],
            [
             0.7,
             "#b8e186"
            ],
            [
             0.8,
             "#7fbc41"
            ],
            [
             0.9,
             "#4d9221"
            ],
            [
             1,
             "#276419"
            ]
           ],
           "sequential": [
            [
             0,
             "#0d0887"
            ],
            [
             0.1111111111111111,
             "#46039f"
            ],
            [
             0.2222222222222222,
             "#7201a8"
            ],
            [
             0.3333333333333333,
             "#9c179e"
            ],
            [
             0.4444444444444444,
             "#bd3786"
            ],
            [
             0.5555555555555556,
             "#d8576b"
            ],
            [
             0.6666666666666666,
             "#ed7953"
            ],
            [
             0.7777777777777778,
             "#fb9f3a"
            ],
            [
             0.8888888888888888,
             "#fdca26"
            ],
            [
             1,
             "#f0f921"
            ]
           ],
           "sequentialminus": [
            [
             0,
             "#0d0887"
            ],
            [
             0.1111111111111111,
             "#46039f"
            ],
            [
             0.2222222222222222,
             "#7201a8"
            ],
            [
             0.3333333333333333,
             "#9c179e"
            ],
            [
             0.4444444444444444,
             "#bd3786"
            ],
            [
             0.5555555555555556,
             "#d8576b"
            ],
            [
             0.6666666666666666,
             "#ed7953"
            ],
            [
             0.7777777777777778,
             "#fb9f3a"
            ],
            [
             0.8888888888888888,
             "#fdca26"
            ],
            [
             1,
             "#f0f921"
            ]
           ]
          },
          "colorway": [
           "#636efa",
           "#EF553B",
           "#00cc96",
           "#ab63fa",
           "#FFA15A",
           "#19d3f3",
           "#FF6692",
           "#B6E880",
           "#FF97FF",
           "#FECB52"
          ],
          "font": {
           "color": "#2a3f5f"
          },
          "geo": {
           "bgcolor": "white",
           "lakecolor": "white",
           "landcolor": "#E5ECF6",
           "showlakes": true,
           "showland": true,
           "subunitcolor": "white"
          },
          "hoverlabel": {
           "align": "left"
          },
          "hovermode": "closest",
          "mapbox": {
           "style": "light"
          },
          "paper_bgcolor": "white",
          "plot_bgcolor": "#E5ECF6",
          "polar": {
           "angularaxis": {
            "gridcolor": "white",
            "linecolor": "white",
            "ticks": ""
           },
           "bgcolor": "#E5ECF6",
           "radialaxis": {
            "gridcolor": "white",
            "linecolor": "white",
            "ticks": ""
           }
          },
          "scene": {
           "xaxis": {
            "backgroundcolor": "#E5ECF6",
            "gridcolor": "white",
            "gridwidth": 2,
            "linecolor": "white",
            "showbackground": true,
            "ticks": "",
            "zerolinecolor": "white"
           },
           "yaxis": {
            "backgroundcolor": "#E5ECF6",
            "gridcolor": "white",
            "gridwidth": 2,
            "linecolor": "white",
            "showbackground": true,
            "ticks": "",
            "zerolinecolor": "white"
           },
           "zaxis": {
            "backgroundcolor": "#E5ECF6",
            "gridcolor": "white",
            "gridwidth": 2,
            "linecolor": "white",
            "showbackground": true,
            "ticks": "",
            "zerolinecolor": "white"
           }
          },
          "shapedefaults": {
           "line": {
            "color": "#2a3f5f"
           }
          },
          "ternary": {
           "aaxis": {
            "gridcolor": "white",
            "linecolor": "white",
            "ticks": ""
           },
           "baxis": {
            "gridcolor": "white",
            "linecolor": "white",
            "ticks": ""
           },
           "bgcolor": "#E5ECF6",
           "caxis": {
            "gridcolor": "white",
            "linecolor": "white",
            "ticks": ""
           }
          },
          "title": {
           "x": 0.05
          },
          "xaxis": {
           "automargin": true,
           "gridcolor": "white",
           "linecolor": "white",
           "ticks": "",
           "title": {
            "standoff": 15
           },
           "zerolinecolor": "white",
           "zerolinewidth": 2
          },
          "yaxis": {
           "automargin": true,
           "gridcolor": "white",
           "linecolor": "white",
           "ticks": "",
           "title": {
            "standoff": 15
           },
           "zerolinecolor": "white",
           "zerolinewidth": 2
          }
         }
        }
       }
      }
     },
     "metadata": {},
     "output_type": "display_data"
    },
    {
     "data": {
      "application/vnd.plotly.v1+json": {
       "config": {
        "plotlyServerURL": "https://plot.ly"
       },
       "data": [
        {
         "diagonal": {
          "visible": false
         },
         "dimensions": [
          {
           "axis": {
            "matches": true
           },
           "label": "latency.gift",
           "values": [
            529,
            293,
            2092,
            64,
            916,
            301,
            608,
            70,
            283,
            16,
            279,
            8,
            502,
            95,
            24,
            537,
            545,
            262,
            172,
            93,
            591,
            855,
            232,
            315,
            256,
            17,
            812,
            378,
            870,
            54,
            501,
            425,
            51,
            442,
            121,
            474,
            330,
            41,
            76,
            403,
            667,
            376,
            544,
            170,
            1075,
            158,
            520,
            250,
            1773,
            367,
            1902,
            397,
            603,
            385,
            21,
            1726,
            410,
            583,
            289,
            466,
            410,
            1236,
            98,
            139,
            646,
            16,
            170,
            634,
            1701,
            16,
            561,
            19,
            132,
            232,
            564,
            581
           ]
          },
          {
           "axis": {
            "matches": true
           },
           "label": "latency.cop",
           "values": [
            606,
            559,
            162,
            243,
            545,
            383,
            691,
            107,
            544,
            928,
            426,
            422,
            656,
            185,
            160,
            600,
            661,
            650,
            266,
            199,
            728,
            906,
            286,
            416,
            361,
            82,
            262,
            597,
            1078,
            285,
            730,
            494,
            117,
            120,
            389,
            575,
            941,
            613,
            318,
            447,
            893,
            455,
            640,
            619,
            1139,
            295,
            589,
            449,
            2819,
            487,
            313,
            1044,
            671,
            153,
            1409,
            1805,
            545,
            772,
            298,
            597,
            635,
            234,
            292,
            500,
            847,
            38,
            298,
            984,
            1990,
            729,
            723,
            99,
            357,
            372,
            650,
            773
           ]
          },
          {
           "axis": {
            "matches": true
           },
           "label": "cop.duration",
           "values": [
            3869,
            221,
            1252,
            685,
            1244,
            5602,
            3880,
            4084,
            442,
            1981,
            305,
            1248,
            1874,
            469,
            4781,
            2979,
            790,
            4573,
            2042,
            3730,
            953,
            3624,
            768,
            3176,
            2603,
            584,
            3036,
            1835,
            3144,
            1669,
            2547,
            1032,
            3562,
            1806,
            395,
            2613,
            2306,
            3738,
            356,
            1920,
            4008,
            3734,
            4750,
            3575,
            4293,
            2324,
            5778,
            2092,
            4561,
            3743,
            1940,
            4760,
            1003,
            3120,
            6041,
            4541,
            2905,
            2501,
            1975,
            3802,
            987,
            1251,
            6672,
            2171,
            3056,
            379,
            1798,
            2815,
            3742,
            2097,
            2653,
            3406,
            1318,
            2223,
            3712,
            4785
           ]
          }
         ],
         "hovertemplate": "%{xaxis.title.text}=%{x}<br>%{yaxis.title.text}=%{y}<br>gift.acceptance=%{marker.color}<extra></extra>",
         "legendgroup": "",
         "marker": {
          "color": [
           1,
           1,
           1,
           1,
           1,
           1,
           1,
           1,
           1,
           1,
           1,
           1,
           1,
           1,
           1,
           1,
           1,
           1,
           1,
           1,
           1,
           1,
           1,
           1,
           1,
           1,
           1,
           1,
           1,
           1,
           1,
           1,
           1,
           1,
           1,
           1,
           1,
           1,
           1,
           1,
           1,
           1,
           1,
           1,
           1,
           1,
           1,
           1,
           1,
           1,
           1,
           1,
           1,
           1,
           1,
           1,
           1,
           1,
           1,
           1,
           1,
           1,
           1,
           1,
           1,
           1,
           1,
           1,
           1,
           1,
           1,
           1,
           1,
           1,
           1,
           1
          ],
          "coloraxis": "coloraxis",
          "symbol": "circle"
         },
         "name": "",
         "showlegend": false,
         "type": "splom"
        }
       ],
       "layout": {
        "coloraxis": {
         "colorbar": {
          "title": {
           "text": "gift.acceptance"
          }
         },
         "colorscale": [
          [
           0,
           "#0d0887"
          ],
          [
           0.1111111111111111,
           "#46039f"
          ],
          [
           0.2222222222222222,
           "#7201a8"
          ],
          [
           0.3333333333333333,
           "#9c179e"
          ],
          [
           0.4444444444444444,
           "#bd3786"
          ],
          [
           0.5555555555555556,
           "#d8576b"
          ],
          [
           0.6666666666666666,
           "#ed7953"
          ],
          [
           0.7777777777777778,
           "#fb9f3a"
          ],
          [
           0.8888888888888888,
           "#fdca26"
          ],
          [
           1,
           "#f0f921"
          ]
         ]
        },
        "dragmode": "select",
        "legend": {
         "tracegroupgap": 0
        },
        "margin": {
         "t": 60
        },
        "template": {
         "data": {
          "bar": [
           {
            "error_x": {
             "color": "#2a3f5f"
            },
            "error_y": {
             "color": "#2a3f5f"
            },
            "marker": {
             "line": {
              "color": "#E5ECF6",
              "width": 0.5
             },
             "pattern": {
              "fillmode": "overlay",
              "size": 10,
              "solidity": 0.2
             }
            },
            "type": "bar"
           }
          ],
          "barpolar": [
           {
            "marker": {
             "line": {
              "color": "#E5ECF6",
              "width": 0.5
             },
             "pattern": {
              "fillmode": "overlay",
              "size": 10,
              "solidity": 0.2
             }
            },
            "type": "barpolar"
           }
          ],
          "carpet": [
           {
            "aaxis": {
             "endlinecolor": "#2a3f5f",
             "gridcolor": "white",
             "linecolor": "white",
             "minorgridcolor": "white",
             "startlinecolor": "#2a3f5f"
            },
            "baxis": {
             "endlinecolor": "#2a3f5f",
             "gridcolor": "white",
             "linecolor": "white",
             "minorgridcolor": "white",
             "startlinecolor": "#2a3f5f"
            },
            "type": "carpet"
           }
          ],
          "choropleth": [
           {
            "colorbar": {
             "outlinewidth": 0,
             "ticks": ""
            },
            "type": "choropleth"
           }
          ],
          "contour": [
           {
            "colorbar": {
             "outlinewidth": 0,
             "ticks": ""
            },
            "colorscale": [
             [
              0,
              "#0d0887"
             ],
             [
              0.1111111111111111,
              "#46039f"
             ],
             [
              0.2222222222222222,
              "#7201a8"
             ],
             [
              0.3333333333333333,
              "#9c179e"
             ],
             [
              0.4444444444444444,
              "#bd3786"
             ],
             [
              0.5555555555555556,
              "#d8576b"
             ],
             [
              0.6666666666666666,
              "#ed7953"
             ],
             [
              0.7777777777777778,
              "#fb9f3a"
             ],
             [
              0.8888888888888888,
              "#fdca26"
             ],
             [
              1,
              "#f0f921"
             ]
            ],
            "type": "contour"
           }
          ],
          "contourcarpet": [
           {
            "colorbar": {
             "outlinewidth": 0,
             "ticks": ""
            },
            "type": "contourcarpet"
           }
          ],
          "heatmap": [
           {
            "colorbar": {
             "outlinewidth": 0,
             "ticks": ""
            },
            "colorscale": [
             [
              0,
              "#0d0887"
             ],
             [
              0.1111111111111111,
              "#46039f"
             ],
             [
              0.2222222222222222,
              "#7201a8"
             ],
             [
              0.3333333333333333,
              "#9c179e"
             ],
             [
              0.4444444444444444,
              "#bd3786"
             ],
             [
              0.5555555555555556,
              "#d8576b"
             ],
             [
              0.6666666666666666,
              "#ed7953"
             ],
             [
              0.7777777777777778,
              "#fb9f3a"
             ],
             [
              0.8888888888888888,
              "#fdca26"
             ],
             [
              1,
              "#f0f921"
             ]
            ],
            "type": "heatmap"
           }
          ],
          "heatmapgl": [
           {
            "colorbar": {
             "outlinewidth": 0,
             "ticks": ""
            },
            "colorscale": [
             [
              0,
              "#0d0887"
             ],
             [
              0.1111111111111111,
              "#46039f"
             ],
             [
              0.2222222222222222,
              "#7201a8"
             ],
             [
              0.3333333333333333,
              "#9c179e"
             ],
             [
              0.4444444444444444,
              "#bd3786"
             ],
             [
              0.5555555555555556,
              "#d8576b"
             ],
             [
              0.6666666666666666,
              "#ed7953"
             ],
             [
              0.7777777777777778,
              "#fb9f3a"
             ],
             [
              0.8888888888888888,
              "#fdca26"
             ],
             [
              1,
              "#f0f921"
             ]
            ],
            "type": "heatmapgl"
           }
          ],
          "histogram": [
           {
            "marker": {
             "pattern": {
              "fillmode": "overlay",
              "size": 10,
              "solidity": 0.2
             }
            },
            "type": "histogram"
           }
          ],
          "histogram2d": [
           {
            "colorbar": {
             "outlinewidth": 0,
             "ticks": ""
            },
            "colorscale": [
             [
              0,
              "#0d0887"
             ],
             [
              0.1111111111111111,
              "#46039f"
             ],
             [
              0.2222222222222222,
              "#7201a8"
             ],
             [
              0.3333333333333333,
              "#9c179e"
             ],
             [
              0.4444444444444444,
              "#bd3786"
             ],
             [
              0.5555555555555556,
              "#d8576b"
             ],
             [
              0.6666666666666666,
              "#ed7953"
             ],
             [
              0.7777777777777778,
              "#fb9f3a"
             ],
             [
              0.8888888888888888,
              "#fdca26"
             ],
             [
              1,
              "#f0f921"
             ]
            ],
            "type": "histogram2d"
           }
          ],
          "histogram2dcontour": [
           {
            "colorbar": {
             "outlinewidth": 0,
             "ticks": ""
            },
            "colorscale": [
             [
              0,
              "#0d0887"
             ],
             [
              0.1111111111111111,
              "#46039f"
             ],
             [
              0.2222222222222222,
              "#7201a8"
             ],
             [
              0.3333333333333333,
              "#9c179e"
             ],
             [
              0.4444444444444444,
              "#bd3786"
             ],
             [
              0.5555555555555556,
              "#d8576b"
             ],
             [
              0.6666666666666666,
              "#ed7953"
             ],
             [
              0.7777777777777778,
              "#fb9f3a"
             ],
             [
              0.8888888888888888,
              "#fdca26"
             ],
             [
              1,
              "#f0f921"
             ]
            ],
            "type": "histogram2dcontour"
           }
          ],
          "mesh3d": [
           {
            "colorbar": {
             "outlinewidth": 0,
             "ticks": ""
            },
            "type": "mesh3d"
           }
          ],
          "parcoords": [
           {
            "line": {
             "colorbar": {
              "outlinewidth": 0,
              "ticks": ""
             }
            },
            "type": "parcoords"
           }
          ],
          "pie": [
           {
            "automargin": true,
            "type": "pie"
           }
          ],
          "scatter": [
           {
            "fillpattern": {
             "fillmode": "overlay",
             "size": 10,
             "solidity": 0.2
            },
            "type": "scatter"
           }
          ],
          "scatter3d": [
           {
            "line": {
             "colorbar": {
              "outlinewidth": 0,
              "ticks": ""
             }
            },
            "marker": {
             "colorbar": {
              "outlinewidth": 0,
              "ticks": ""
             }
            },
            "type": "scatter3d"
           }
          ],
          "scattercarpet": [
           {
            "marker": {
             "colorbar": {
              "outlinewidth": 0,
              "ticks": ""
             }
            },
            "type": "scattercarpet"
           }
          ],
          "scattergeo": [
           {
            "marker": {
             "colorbar": {
              "outlinewidth": 0,
              "ticks": ""
             }
            },
            "type": "scattergeo"
           }
          ],
          "scattergl": [
           {
            "marker": {
             "colorbar": {
              "outlinewidth": 0,
              "ticks": ""
             }
            },
            "type": "scattergl"
           }
          ],
          "scattermapbox": [
           {
            "marker": {
             "colorbar": {
              "outlinewidth": 0,
              "ticks": ""
             }
            },
            "type": "scattermapbox"
           }
          ],
          "scatterpolar": [
           {
            "marker": {
             "colorbar": {
              "outlinewidth": 0,
              "ticks": ""
             }
            },
            "type": "scatterpolar"
           }
          ],
          "scatterpolargl": [
           {
            "marker": {
             "colorbar": {
              "outlinewidth": 0,
              "ticks": ""
             }
            },
            "type": "scatterpolargl"
           }
          ],
          "scatterternary": [
           {
            "marker": {
             "colorbar": {
              "outlinewidth": 0,
              "ticks": ""
             }
            },
            "type": "scatterternary"
           }
          ],
          "surface": [
           {
            "colorbar": {
             "outlinewidth": 0,
             "ticks": ""
            },
            "colorscale": [
             [
              0,
              "#0d0887"
             ],
             [
              0.1111111111111111,
              "#46039f"
             ],
             [
              0.2222222222222222,
              "#7201a8"
             ],
             [
              0.3333333333333333,
              "#9c179e"
             ],
             [
              0.4444444444444444,
              "#bd3786"
             ],
             [
              0.5555555555555556,
              "#d8576b"
             ],
             [
              0.6666666666666666,
              "#ed7953"
             ],
             [
              0.7777777777777778,
              "#fb9f3a"
             ],
             [
              0.8888888888888888,
              "#fdca26"
             ],
             [
              1,
              "#f0f921"
             ]
            ],
            "type": "surface"
           }
          ],
          "table": [
           {
            "cells": {
             "fill": {
              "color": "#EBF0F8"
             },
             "line": {
              "color": "white"
             }
            },
            "header": {
             "fill": {
              "color": "#C8D4E3"
             },
             "line": {
              "color": "white"
             }
            },
            "type": "table"
           }
          ]
         },
         "layout": {
          "annotationdefaults": {
           "arrowcolor": "#2a3f5f",
           "arrowhead": 0,
           "arrowwidth": 1
          },
          "autotypenumbers": "strict",
          "coloraxis": {
           "colorbar": {
            "outlinewidth": 0,
            "ticks": ""
           }
          },
          "colorscale": {
           "diverging": [
            [
             0,
             "#8e0152"
            ],
            [
             0.1,
             "#c51b7d"
            ],
            [
             0.2,
             "#de77ae"
            ],
            [
             0.3,
             "#f1b6da"
            ],
            [
             0.4,
             "#fde0ef"
            ],
            [
             0.5,
             "#f7f7f7"
            ],
            [
             0.6,
             "#e6f5d0"
            ],
            [
             0.7,
             "#b8e186"
            ],
            [
             0.8,
             "#7fbc41"
            ],
            [
             0.9,
             "#4d9221"
            ],
            [
             1,
             "#276419"
            ]
           ],
           "sequential": [
            [
             0,
             "#0d0887"
            ],
            [
             0.1111111111111111,
             "#46039f"
            ],
            [
             0.2222222222222222,
             "#7201a8"
            ],
            [
             0.3333333333333333,
             "#9c179e"
            ],
            [
             0.4444444444444444,
             "#bd3786"
            ],
            [
             0.5555555555555556,
             "#d8576b"
            ],
            [
             0.6666666666666666,
             "#ed7953"
            ],
            [
             0.7777777777777778,
             "#fb9f3a"
            ],
            [
             0.8888888888888888,
             "#fdca26"
            ],
            [
             1,
             "#f0f921"
            ]
           ],
           "sequentialminus": [
            [
             0,
             "#0d0887"
            ],
            [
             0.1111111111111111,
             "#46039f"
            ],
            [
             0.2222222222222222,
             "#7201a8"
            ],
            [
             0.3333333333333333,
             "#9c179e"
            ],
            [
             0.4444444444444444,
             "#bd3786"
            ],
            [
             0.5555555555555556,
             "#d8576b"
            ],
            [
             0.6666666666666666,
             "#ed7953"
            ],
            [
             0.7777777777777778,
             "#fb9f3a"
            ],
            [
             0.8888888888888888,
             "#fdca26"
            ],
            [
             1,
             "#f0f921"
            ]
           ]
          },
          "colorway": [
           "#636efa",
           "#EF553B",
           "#00cc96",
           "#ab63fa",
           "#FFA15A",
           "#19d3f3",
           "#FF6692",
           "#B6E880",
           "#FF97FF",
           "#FECB52"
          ],
          "font": {
           "color": "#2a3f5f"
          },
          "geo": {
           "bgcolor": "white",
           "lakecolor": "white",
           "landcolor": "#E5ECF6",
           "showlakes": true,
           "showland": true,
           "subunitcolor": "white"
          },
          "hoverlabel": {
           "align": "left"
          },
          "hovermode": "closest",
          "mapbox": {
           "style": "light"
          },
          "paper_bgcolor": "white",
          "plot_bgcolor": "#E5ECF6",
          "polar": {
           "angularaxis": {
            "gridcolor": "white",
            "linecolor": "white",
            "ticks": ""
           },
           "bgcolor": "#E5ECF6",
           "radialaxis": {
            "gridcolor": "white",
            "linecolor": "white",
            "ticks": ""
           }
          },
          "scene": {
           "xaxis": {
            "backgroundcolor": "#E5ECF6",
            "gridcolor": "white",
            "gridwidth": 2,
            "linecolor": "white",
            "showbackground": true,
            "ticks": "",
            "zerolinecolor": "white"
           },
           "yaxis": {
            "backgroundcolor": "#E5ECF6",
            "gridcolor": "white",
            "gridwidth": 2,
            "linecolor": "white",
            "showbackground": true,
            "ticks": "",
            "zerolinecolor": "white"
           },
           "zaxis": {
            "backgroundcolor": "#E5ECF6",
            "gridcolor": "white",
            "gridwidth": 2,
            "linecolor": "white",
            "showbackground": true,
            "ticks": "",
            "zerolinecolor": "white"
           }
          },
          "shapedefaults": {
           "line": {
            "color": "#2a3f5f"
           }
          },
          "ternary": {
           "aaxis": {
            "gridcolor": "white",
            "linecolor": "white",
            "ticks": ""
           },
           "baxis": {
            "gridcolor": "white",
            "linecolor": "white",
            "ticks": ""
           },
           "bgcolor": "#E5ECF6",
           "caxis": {
            "gridcolor": "white",
            "linecolor": "white",
            "ticks": ""
           }
          },
          "title": {
           "x": 0.05
          },
          "xaxis": {
           "automargin": true,
           "gridcolor": "white",
           "linecolor": "white",
           "ticks": "",
           "title": {
            "standoff": 15
           },
           "zerolinecolor": "white",
           "zerolinewidth": 2
          },
          "yaxis": {
           "automargin": true,
           "gridcolor": "white",
           "linecolor": "white",
           "ticks": "",
           "title": {
            "standoff": 15
           },
           "zerolinecolor": "white",
           "zerolinewidth": 2
          }
         }
        }
       }
      }
     },
     "metadata": {},
     "output_type": "display_data"
    }
   ],
   "source": [
    "\n",
    "\n",
    "fig = px.scatter_matrix(df.dropna(axis=0), dimensions=[\"latency.gift\", \"latency.cop\", \"cop.duration\"], color=\"female.wt\")\n",
    "\n",
    "fig.update_traces(diagonal_visible=False)\n",
    "fig.show()\n",
    "fig.write_html(\"matrix.html\", include_plotlyjs=\"cdn\")\n"
   ]
  },
  {
   "cell_type": "code",
   "execution_count": 30,
   "metadata": {},
   "outputs": [
    {
     "data": {
      "application/vnd.plotly.v1+json": {
       "config": {
        "plotlyServerURL": "https://plot.ly"
       },
       "data": [
        {
         "diagonal": {
          "visible": false
         },
         "dimensions": [
          {
           "axis": {
            "matches": true
           },
           "label": "latency.gift",
           "values": [
            634,
            407.85714285714283,
            106.66666666666667,
            625.6,
            318.2,
            515,
            234.5,
            16,
            270,
            235.83333333333334,
            1773,
            464.5
           ]
          },
          {
           "axis": {
            "matches": true
           },
           "label": "latency.cop",
           "values": [
            984,
            319.25,
            247,
            605.5,
            557.6,
            623.5,
            372,
            729,
            634.8,
            554.6,
            2819,
            695.5
           ]
          },
          {
           "axis": {
            "matches": true
           },
           "label": "cop.duration",
           "values": [
            2815,
            1840,
            1839,
            1706.875,
            3163,
            3757,
            1111.5,
            2097,
            1032,
            1535.142857142857,
            2280.5,
            1749
           ]
          },
          {
           "axis": {
            "matches": true
           },
           "label": "mating.success",
           "values": [
            1,
            8,
            3,
            8,
            5,
            2,
            2,
            1,
            9,
            7,
            2,
            2
           ]
          }
         ],
         "hovertemplate": "male.qual=H<br>%{xaxis.title.text}=%{x}<br>%{yaxis.title.text}=%{y}<br>male.age=%{marker.color}<extra></extra>",
         "legendgroup": "H",
         "marker": {
          "color": [
           13,
           15,
           16,
           17,
           18,
           19,
           20,
           13,
           15,
           17,
           19,
           20
          ],
          "coloraxis": "coloraxis",
          "symbol": "circle"
         },
         "name": "H",
         "showlegend": true,
         "type": "splom"
        },
        {
         "diagonal": {
          "visible": false
         },
         "dimensions": [
          {
           "axis": {
            "matches": true
           },
           "label": "latency.gift",
           "values": [
            485.5,
            775,
            1059.6666666666667,
            373.7142857142857,
            308.25,
            139,
            300,
            155.5,
            678,
            933.3333333333334,
            905
           ]
          },
          {
           "axis": {
            "matches": true
           },
           "label": "latency.cop",
           "values": [
            679,
            603.375,
            1180.3333333333333,
            486.85714285714283,
            312.25,
            500,
            436,
            323,
            615,
            500.3333333333333,
            942.3333333333334
           ]
          },
          {
           "axis": {
            "matches": true
           },
           "label": "cop.duration",
           "values": [
            1820,
            1174.111111111111,
            2667.25,
            2629.25,
            3220.5,
            2171,
            4095.5,
            2219.125,
            1261.2,
            952.125,
            2331.6
           ]
          },
          {
           "axis": {
            "matches": true
           },
           "label": "mating.success",
           "values": [
            2,
            9,
            4,
            8,
            4,
            1,
            2,
            8,
            5,
            8,
            5
           ]
          }
         ],
         "hovertemplate": "male.qual=L<br>%{xaxis.title.text}=%{x}<br>%{yaxis.title.text}=%{y}<br>male.age=%{marker.color}<extra></extra>",
         "legendgroup": "L",
         "marker": {
          "color": [
           13,
           15,
           17,
           18,
           19,
           20,
           13,
           15,
           17,
           18,
           19
          ],
          "coloraxis": "coloraxis",
          "symbol": "diamond"
         },
         "name": "L",
         "showlegend": true,
         "type": "splom"
        }
       ],
       "layout": {
        "coloraxis": {
         "colorbar": {
          "title": {
           "text": "male.age"
          }
         },
         "colorscale": [
          [
           0,
           "#0d0887"
          ],
          [
           0.1111111111111111,
           "#46039f"
          ],
          [
           0.2222222222222222,
           "#7201a8"
          ],
          [
           0.3333333333333333,
           "#9c179e"
          ],
          [
           0.4444444444444444,
           "#bd3786"
          ],
          [
           0.5555555555555556,
           "#d8576b"
          ],
          [
           0.6666666666666666,
           "#ed7953"
          ],
          [
           0.7777777777777778,
           "#fb9f3a"
          ],
          [
           0.8888888888888888,
           "#fdca26"
          ],
          [
           1,
           "#f0f921"
          ]
         ]
        },
        "dragmode": "select",
        "legend": {
         "title": {
          "text": "male.qual"
         },
         "tracegroupgap": 0
        },
        "margin": {
         "t": 60
        },
        "template": {
         "data": {
          "bar": [
           {
            "error_x": {
             "color": "#2a3f5f"
            },
            "error_y": {
             "color": "#2a3f5f"
            },
            "marker": {
             "line": {
              "color": "#E5ECF6",
              "width": 0.5
             },
             "pattern": {
              "fillmode": "overlay",
              "size": 10,
              "solidity": 0.2
             }
            },
            "type": "bar"
           }
          ],
          "barpolar": [
           {
            "marker": {
             "line": {
              "color": "#E5ECF6",
              "width": 0.5
             },
             "pattern": {
              "fillmode": "overlay",
              "size": 10,
              "solidity": 0.2
             }
            },
            "type": "barpolar"
           }
          ],
          "carpet": [
           {
            "aaxis": {
             "endlinecolor": "#2a3f5f",
             "gridcolor": "white",
             "linecolor": "white",
             "minorgridcolor": "white",
             "startlinecolor": "#2a3f5f"
            },
            "baxis": {
             "endlinecolor": "#2a3f5f",
             "gridcolor": "white",
             "linecolor": "white",
             "minorgridcolor": "white",
             "startlinecolor": "#2a3f5f"
            },
            "type": "carpet"
           }
          ],
          "choropleth": [
           {
            "colorbar": {
             "outlinewidth": 0,
             "ticks": ""
            },
            "type": "choropleth"
           }
          ],
          "contour": [
           {
            "colorbar": {
             "outlinewidth": 0,
             "ticks": ""
            },
            "colorscale": [
             [
              0,
              "#0d0887"
             ],
             [
              0.1111111111111111,
              "#46039f"
             ],
             [
              0.2222222222222222,
              "#7201a8"
             ],
             [
              0.3333333333333333,
              "#9c179e"
             ],
             [
              0.4444444444444444,
              "#bd3786"
             ],
             [
              0.5555555555555556,
              "#d8576b"
             ],
             [
              0.6666666666666666,
              "#ed7953"
             ],
             [
              0.7777777777777778,
              "#fb9f3a"
             ],
             [
              0.8888888888888888,
              "#fdca26"
             ],
             [
              1,
              "#f0f921"
             ]
            ],
            "type": "contour"
           }
          ],
          "contourcarpet": [
           {
            "colorbar": {
             "outlinewidth": 0,
             "ticks": ""
            },
            "type": "contourcarpet"
           }
          ],
          "heatmap": [
           {
            "colorbar": {
             "outlinewidth": 0,
             "ticks": ""
            },
            "colorscale": [
             [
              0,
              "#0d0887"
             ],
             [
              0.1111111111111111,
              "#46039f"
             ],
             [
              0.2222222222222222,
              "#7201a8"
             ],
             [
              0.3333333333333333,
              "#9c179e"
             ],
             [
              0.4444444444444444,
              "#bd3786"
             ],
             [
              0.5555555555555556,
              "#d8576b"
             ],
             [
              0.6666666666666666,
              "#ed7953"
             ],
             [
              0.7777777777777778,
              "#fb9f3a"
             ],
             [
              0.8888888888888888,
              "#fdca26"
             ],
             [
              1,
              "#f0f921"
             ]
            ],
            "type": "heatmap"
           }
          ],
          "heatmapgl": [
           {
            "colorbar": {
             "outlinewidth": 0,
             "ticks": ""
            },
            "colorscale": [
             [
              0,
              "#0d0887"
             ],
             [
              0.1111111111111111,
              "#46039f"
             ],
             [
              0.2222222222222222,
              "#7201a8"
             ],
             [
              0.3333333333333333,
              "#9c179e"
             ],
             [
              0.4444444444444444,
              "#bd3786"
             ],
             [
              0.5555555555555556,
              "#d8576b"
             ],
             [
              0.6666666666666666,
              "#ed7953"
             ],
             [
              0.7777777777777778,
              "#fb9f3a"
             ],
             [
              0.8888888888888888,
              "#fdca26"
             ],
             [
              1,
              "#f0f921"
             ]
            ],
            "type": "heatmapgl"
           }
          ],
          "histogram": [
           {
            "marker": {
             "pattern": {
              "fillmode": "overlay",
              "size": 10,
              "solidity": 0.2
             }
            },
            "type": "histogram"
           }
          ],
          "histogram2d": [
           {
            "colorbar": {
             "outlinewidth": 0,
             "ticks": ""
            },
            "colorscale": [
             [
              0,
              "#0d0887"
             ],
             [
              0.1111111111111111,
              "#46039f"
             ],
             [
              0.2222222222222222,
              "#7201a8"
             ],
             [
              0.3333333333333333,
              "#9c179e"
             ],
             [
              0.4444444444444444,
              "#bd3786"
             ],
             [
              0.5555555555555556,
              "#d8576b"
             ],
             [
              0.6666666666666666,
              "#ed7953"
             ],
             [
              0.7777777777777778,
              "#fb9f3a"
             ],
             [
              0.8888888888888888,
              "#fdca26"
             ],
             [
              1,
              "#f0f921"
             ]
            ],
            "type": "histogram2d"
           }
          ],
          "histogram2dcontour": [
           {
            "colorbar": {
             "outlinewidth": 0,
             "ticks": ""
            },
            "colorscale": [
             [
              0,
              "#0d0887"
             ],
             [
              0.1111111111111111,
              "#46039f"
             ],
             [
              0.2222222222222222,
              "#7201a8"
             ],
             [
              0.3333333333333333,
              "#9c179e"
             ],
             [
              0.4444444444444444,
              "#bd3786"
             ],
             [
              0.5555555555555556,
              "#d8576b"
             ],
             [
              0.6666666666666666,
              "#ed7953"
             ],
             [
              0.7777777777777778,
              "#fb9f3a"
             ],
             [
              0.8888888888888888,
              "#fdca26"
             ],
             [
              1,
              "#f0f921"
             ]
            ],
            "type": "histogram2dcontour"
           }
          ],
          "mesh3d": [
           {
            "colorbar": {
             "outlinewidth": 0,
             "ticks": ""
            },
            "type": "mesh3d"
           }
          ],
          "parcoords": [
           {
            "line": {
             "colorbar": {
              "outlinewidth": 0,
              "ticks": ""
             }
            },
            "type": "parcoords"
           }
          ],
          "pie": [
           {
            "automargin": true,
            "type": "pie"
           }
          ],
          "scatter": [
           {
            "fillpattern": {
             "fillmode": "overlay",
             "size": 10,
             "solidity": 0.2
            },
            "type": "scatter"
           }
          ],
          "scatter3d": [
           {
            "line": {
             "colorbar": {
              "outlinewidth": 0,
              "ticks": ""
             }
            },
            "marker": {
             "colorbar": {
              "outlinewidth": 0,
              "ticks": ""
             }
            },
            "type": "scatter3d"
           }
          ],
          "scattercarpet": [
           {
            "marker": {
             "colorbar": {
              "outlinewidth": 0,
              "ticks": ""
             }
            },
            "type": "scattercarpet"
           }
          ],
          "scattergeo": [
           {
            "marker": {
             "colorbar": {
              "outlinewidth": 0,
              "ticks": ""
             }
            },
            "type": "scattergeo"
           }
          ],
          "scattergl": [
           {
            "marker": {
             "colorbar": {
              "outlinewidth": 0,
              "ticks": ""
             }
            },
            "type": "scattergl"
           }
          ],
          "scattermapbox": [
           {
            "marker": {
             "colorbar": {
              "outlinewidth": 0,
              "ticks": ""
             }
            },
            "type": "scattermapbox"
           }
          ],
          "scatterpolar": [
           {
            "marker": {
             "colorbar": {
              "outlinewidth": 0,
              "ticks": ""
             }
            },
            "type": "scatterpolar"
           }
          ],
          "scatterpolargl": [
           {
            "marker": {
             "colorbar": {
              "outlinewidth": 0,
              "ticks": ""
             }
            },
            "type": "scatterpolargl"
           }
          ],
          "scatterternary": [
           {
            "marker": {
             "colorbar": {
              "outlinewidth": 0,
              "ticks": ""
             }
            },
            "type": "scatterternary"
           }
          ],
          "surface": [
           {
            "colorbar": {
             "outlinewidth": 0,
             "ticks": ""
            },
            "colorscale": [
             [
              0,
              "#0d0887"
             ],
             [
              0.1111111111111111,
              "#46039f"
             ],
             [
              0.2222222222222222,
              "#7201a8"
             ],
             [
              0.3333333333333333,
              "#9c179e"
             ],
             [
              0.4444444444444444,
              "#bd3786"
             ],
             [
              0.5555555555555556,
              "#d8576b"
             ],
             [
              0.6666666666666666,
              "#ed7953"
             ],
             [
              0.7777777777777778,
              "#fb9f3a"
             ],
             [
              0.8888888888888888,
              "#fdca26"
             ],
             [
              1,
              "#f0f921"
             ]
            ],
            "type": "surface"
           }
          ],
          "table": [
           {
            "cells": {
             "fill": {
              "color": "#EBF0F8"
             },
             "line": {
              "color": "white"
             }
            },
            "header": {
             "fill": {
              "color": "#C8D4E3"
             },
             "line": {
              "color": "white"
             }
            },
            "type": "table"
           }
          ]
         },
         "layout": {
          "annotationdefaults": {
           "arrowcolor": "#2a3f5f",
           "arrowhead": 0,
           "arrowwidth": 1
          },
          "autotypenumbers": "strict",
          "coloraxis": {
           "colorbar": {
            "outlinewidth": 0,
            "ticks": ""
           }
          },
          "colorscale": {
           "diverging": [
            [
             0,
             "#8e0152"
            ],
            [
             0.1,
             "#c51b7d"
            ],
            [
             0.2,
             "#de77ae"
            ],
            [
             0.3,
             "#f1b6da"
            ],
            [
             0.4,
             "#fde0ef"
            ],
            [
             0.5,
             "#f7f7f7"
            ],
            [
             0.6,
             "#e6f5d0"
            ],
            [
             0.7,
             "#b8e186"
            ],
            [
             0.8,
             "#7fbc41"
            ],
            [
             0.9,
             "#4d9221"
            ],
            [
             1,
             "#276419"
            ]
           ],
           "sequential": [
            [
             0,
             "#0d0887"
            ],
            [
             0.1111111111111111,
             "#46039f"
            ],
            [
             0.2222222222222222,
             "#7201a8"
            ],
            [
             0.3333333333333333,
             "#9c179e"
            ],
            [
             0.4444444444444444,
             "#bd3786"
            ],
            [
             0.5555555555555556,
             "#d8576b"
            ],
            [
             0.6666666666666666,
             "#ed7953"
            ],
            [
             0.7777777777777778,
             "#fb9f3a"
            ],
            [
             0.8888888888888888,
             "#fdca26"
            ],
            [
             1,
             "#f0f921"
            ]
           ],
           "sequentialminus": [
            [
             0,
             "#0d0887"
            ],
            [
             0.1111111111111111,
             "#46039f"
            ],
            [
             0.2222222222222222,
             "#7201a8"
            ],
            [
             0.3333333333333333,
             "#9c179e"
            ],
            [
             0.4444444444444444,
             "#bd3786"
            ],
            [
             0.5555555555555556,
             "#d8576b"
            ],
            [
             0.6666666666666666,
             "#ed7953"
            ],
            [
             0.7777777777777778,
             "#fb9f3a"
            ],
            [
             0.8888888888888888,
             "#fdca26"
            ],
            [
             1,
             "#f0f921"
            ]
           ]
          },
          "colorway": [
           "#636efa",
           "#EF553B",
           "#00cc96",
           "#ab63fa",
           "#FFA15A",
           "#19d3f3",
           "#FF6692",
           "#B6E880",
           "#FF97FF",
           "#FECB52"
          ],
          "font": {
           "color": "#2a3f5f"
          },
          "geo": {
           "bgcolor": "white",
           "lakecolor": "white",
           "landcolor": "#E5ECF6",
           "showlakes": true,
           "showland": true,
           "subunitcolor": "white"
          },
          "hoverlabel": {
           "align": "left"
          },
          "hovermode": "closest",
          "mapbox": {
           "style": "light"
          },
          "paper_bgcolor": "white",
          "plot_bgcolor": "#E5ECF6",
          "polar": {
           "angularaxis": {
            "gridcolor": "white",
            "linecolor": "white",
            "ticks": ""
           },
           "bgcolor": "#E5ECF6",
           "radialaxis": {
            "gridcolor": "white",
            "linecolor": "white",
            "ticks": ""
           }
          },
          "scene": {
           "xaxis": {
            "backgroundcolor": "#E5ECF6",
            "gridcolor": "white",
            "gridwidth": 2,
            "linecolor": "white",
            "showbackground": true,
            "ticks": "",
            "zerolinecolor": "white"
           },
           "yaxis": {
            "backgroundcolor": "#E5ECF6",
            "gridcolor": "white",
            "gridwidth": 2,
            "linecolor": "white",
            "showbackground": true,
            "ticks": "",
            "zerolinecolor": "white"
           },
           "zaxis": {
            "backgroundcolor": "#E5ECF6",
            "gridcolor": "white",
            "gridwidth": 2,
            "linecolor": "white",
            "showbackground": true,
            "ticks": "",
            "zerolinecolor": "white"
           }
          },
          "shapedefaults": {
           "line": {
            "color": "#2a3f5f"
           }
          },
          "ternary": {
           "aaxis": {
            "gridcolor": "white",
            "linecolor": "white",
            "ticks": ""
           },
           "baxis": {
            "gridcolor": "white",
            "linecolor": "white",
            "ticks": ""
           },
           "bgcolor": "#E5ECF6",
           "caxis": {
            "gridcolor": "white",
            "linecolor": "white",
            "ticks": ""
           }
          },
          "title": {
           "x": 0.05
          },
          "xaxis": {
           "automargin": true,
           "gridcolor": "white",
           "linecolor": "white",
           "ticks": "",
           "title": {
            "standoff": 15
           },
           "zerolinecolor": "white",
           "zerolinewidth": 2
          },
          "yaxis": {
           "automargin": true,
           "gridcolor": "white",
           "linecolor": "white",
           "ticks": "",
           "title": {
            "standoff": 15
           },
           "zerolinecolor": "white",
           "zerolinewidth": 2
          }
         }
        }
       }
      }
     },
     "metadata": {},
     "output_type": "display_data"
    },
    {
     "data": {
      "application/vnd.plotly.v1+json": {
       "config": {
        "plotlyServerURL": "https://plot.ly"
       },
       "data": [
        {
         "error_x": {
          "array": [
           null,
           246.61537433246704,
           21.96208854670551,
           373.4317876132132,
           109.87811429033536,
           69.29646455628166,
           null
          ]
         },
         "error_y": {
          "array": [
           null,
           1270.727688036606,
           1691.7774676357408,
           1879.3973530667447,
           1094.7575073960443,
           63.63961030678928,
           null
          ]
         },
         "hovertemplate": "male.qual=H<br>mating.order=1<br>latency.gift=%{x}<br>cop.duration=%{y}<br>mating.success=%{marker.size}<extra></extra>",
         "legendgroup": "H, 1",
         "marker": {
          "color": "#636efa",
          "size": [
           1,
           8,
           3,
           8,
           5,
           2,
           2
          ],
          "sizemode": "area",
          "sizeref": 0.0225,
          "symbol": "circle"
         },
         "mode": "markers",
         "name": "H, 1",
         "orientation": "v",
         "showlegend": true,
         "type": "scatter",
         "x": [
          634,
          407.85714285714283,
          106.66666666666667,
          625.6,
          318.2,
          515,
          234.5
         ],
         "xaxis": "x",
         "y": [
          2815,
          1840,
          1839,
          1706.875,
          3163,
          3757,
          1111.5
         ],
         "yaxis": "y"
        },
        {
         "error_x": {
          "array": [
           null,
           318.7530392011973,
           384.2995793214802,
           null,
           256.6797615707168
          ]
         },
         "error_y": {
          "array": [
           null,
           1312.914220351048,
           2352.4477626911244,
           null,
           1848.3771260216351
          ]
         },
         "hovertemplate": "male.qual=H<br>mating.order=2<br>latency.gift=%{x}<br>cop.duration=%{y}<br>mating.success=%{marker.size}<extra></extra>",
         "legendgroup": "H, 2",
         "marker": {
          "color": "#636efa",
          "size": [
           1,
           9,
           7,
           2,
           2
          ],
          "sizemode": "area",
          "sizeref": 0.0225,
          "symbol": "diamond"
         },
         "mode": "markers",
         "name": "H, 2",
         "orientation": "v",
         "showlegend": true,
         "type": "scatter",
         "x": [
          16,
          270,
          235.83333333333334,
          1773,
          464.5
         ],
         "xaxis": "x",
         "y": [
          2097,
          1032,
          1535.142857142857,
          2280.5,
          1749
         ],
         "yaxis": "y"
        },
        {
         "error_x": {
          "array": [
           106.77312395916867,
           677.9852505770314,
           674.1307983865842,
           150.1218552662184,
           239.1768871219235,
           null
          ]
         },
         "error_y": {
          "array": [
           1178.0398974567881,
           1232.4252963612485,
           2157.225436372688,
           1918.5863657540003,
           1035.0811562384854,
           null
          ]
         },
         "hovertemplate": "male.qual=L<br>mating.order=1<br>latency.gift=%{x}<br>cop.duration=%{y}<br>mating.success=%{marker.size}<extra></extra>",
         "legendgroup": "L, 1",
         "marker": {
          "color": "#EF553B",
          "size": [
           2,
           9,
           4,
           8,
           4,
           1
          ],
          "sizemode": "area",
          "sizeref": 0.0225,
          "symbol": "circle"
         },
         "mode": "markers",
         "name": "L, 1",
         "orientation": "v",
         "showlegend": true,
         "type": "scatter",
         "x": [
          485.5,
          775,
          1059.6666666666667,
          373.7142857142857,
          308.25,
          139
         ],
         "xaxis": "x",
         "y": [
          1820,
          1174.111111111111,
          2667.25,
          2629.25,
          3220.5,
          2171
         ],
         "yaxis": "y"
        },
        {
         "error_x": {
          "array": [
           397.39401102683973,
           214.10534790144783,
           250.31580054003783,
           849.5247691111387,
           801.5566106021458
          ]
         },
         "error_y": {
          "array": [
           975.1002512562491,
           2219.958843730474,
           1709.216399406465,
           1355.0561862362545,
           2867.223883829095
          ]
         },
         "hovertemplate": "male.qual=L<br>mating.order=2<br>latency.gift=%{x}<br>cop.duration=%{y}<br>mating.success=%{marker.size}<extra></extra>",
         "legendgroup": "L, 2",
         "marker": {
          "color": "#EF553B",
          "size": [
           2,
           8,
           5,
           8,
           5
          ],
          "sizemode": "area",
          "sizeref": 0.0225,
          "symbol": "diamond"
         },
         "mode": "markers",
         "name": "L, 2",
         "orientation": "v",
         "showlegend": true,
         "type": "scatter",
         "x": [
          300,
          155.5,
          678,
          933.3333333333334,
          905
         ],
         "xaxis": "x",
         "y": [
          4095.5,
          2219.125,
          1261.2,
          952.125,
          2331.6
         ],
         "yaxis": "y"
        }
       ],
       "layout": {
        "legend": {
         "itemsizing": "constant",
         "title": {
          "text": "male.qual, mating.order"
         },
         "tracegroupgap": 0
        },
        "margin": {
         "t": 60
        },
        "template": {
         "data": {
          "bar": [
           {
            "error_x": {
             "color": "#2a3f5f"
            },
            "error_y": {
             "color": "#2a3f5f"
            },
            "marker": {
             "line": {
              "color": "#E5ECF6",
              "width": 0.5
             },
             "pattern": {
              "fillmode": "overlay",
              "size": 10,
              "solidity": 0.2
             }
            },
            "type": "bar"
           }
          ],
          "barpolar": [
           {
            "marker": {
             "line": {
              "color": "#E5ECF6",
              "width": 0.5
             },
             "pattern": {
              "fillmode": "overlay",
              "size": 10,
              "solidity": 0.2
             }
            },
            "type": "barpolar"
           }
          ],
          "carpet": [
           {
            "aaxis": {
             "endlinecolor": "#2a3f5f",
             "gridcolor": "white",
             "linecolor": "white",
             "minorgridcolor": "white",
             "startlinecolor": "#2a3f5f"
            },
            "baxis": {
             "endlinecolor": "#2a3f5f",
             "gridcolor": "white",
             "linecolor": "white",
             "minorgridcolor": "white",
             "startlinecolor": "#2a3f5f"
            },
            "type": "carpet"
           }
          ],
          "choropleth": [
           {
            "colorbar": {
             "outlinewidth": 0,
             "ticks": ""
            },
            "type": "choropleth"
           }
          ],
          "contour": [
           {
            "colorbar": {
             "outlinewidth": 0,
             "ticks": ""
            },
            "colorscale": [
             [
              0,
              "#0d0887"
             ],
             [
              0.1111111111111111,
              "#46039f"
             ],
             [
              0.2222222222222222,
              "#7201a8"
             ],
             [
              0.3333333333333333,
              "#9c179e"
             ],
             [
              0.4444444444444444,
              "#bd3786"
             ],
             [
              0.5555555555555556,
              "#d8576b"
             ],
             [
              0.6666666666666666,
              "#ed7953"
             ],
             [
              0.7777777777777778,
              "#fb9f3a"
             ],
             [
              0.8888888888888888,
              "#fdca26"
             ],
             [
              1,
              "#f0f921"
             ]
            ],
            "type": "contour"
           }
          ],
          "contourcarpet": [
           {
            "colorbar": {
             "outlinewidth": 0,
             "ticks": ""
            },
            "type": "contourcarpet"
           }
          ],
          "heatmap": [
           {
            "colorbar": {
             "outlinewidth": 0,
             "ticks": ""
            },
            "colorscale": [
             [
              0,
              "#0d0887"
             ],
             [
              0.1111111111111111,
              "#46039f"
             ],
             [
              0.2222222222222222,
              "#7201a8"
             ],
             [
              0.3333333333333333,
              "#9c179e"
             ],
             [
              0.4444444444444444,
              "#bd3786"
             ],
             [
              0.5555555555555556,
              "#d8576b"
             ],
             [
              0.6666666666666666,
              "#ed7953"
             ],
             [
              0.7777777777777778,
              "#fb9f3a"
             ],
             [
              0.8888888888888888,
              "#fdca26"
             ],
             [
              1,
              "#f0f921"
             ]
            ],
            "type": "heatmap"
           }
          ],
          "heatmapgl": [
           {
            "colorbar": {
             "outlinewidth": 0,
             "ticks": ""
            },
            "colorscale": [
             [
              0,
              "#0d0887"
             ],
             [
              0.1111111111111111,
              "#46039f"
             ],
             [
              0.2222222222222222,
              "#7201a8"
             ],
             [
              0.3333333333333333,
              "#9c179e"
             ],
             [
              0.4444444444444444,
              "#bd3786"
             ],
             [
              0.5555555555555556,
              "#d8576b"
             ],
             [
              0.6666666666666666,
              "#ed7953"
             ],
             [
              0.7777777777777778,
              "#fb9f3a"
             ],
             [
              0.8888888888888888,
              "#fdca26"
             ],
             [
              1,
              "#f0f921"
             ]
            ],
            "type": "heatmapgl"
           }
          ],
          "histogram": [
           {
            "marker": {
             "pattern": {
              "fillmode": "overlay",
              "size": 10,
              "solidity": 0.2
             }
            },
            "type": "histogram"
           }
          ],
          "histogram2d": [
           {
            "colorbar": {
             "outlinewidth": 0,
             "ticks": ""
            },
            "colorscale": [
             [
              0,
              "#0d0887"
             ],
             [
              0.1111111111111111,
              "#46039f"
             ],
             [
              0.2222222222222222,
              "#7201a8"
             ],
             [
              0.3333333333333333,
              "#9c179e"
             ],
             [
              0.4444444444444444,
              "#bd3786"
             ],
             [
              0.5555555555555556,
              "#d8576b"
             ],
             [
              0.6666666666666666,
              "#ed7953"
             ],
             [
              0.7777777777777778,
              "#fb9f3a"
             ],
             [
              0.8888888888888888,
              "#fdca26"
             ],
             [
              1,
              "#f0f921"
             ]
            ],
            "type": "histogram2d"
           }
          ],
          "histogram2dcontour": [
           {
            "colorbar": {
             "outlinewidth": 0,
             "ticks": ""
            },
            "colorscale": [
             [
              0,
              "#0d0887"
             ],
             [
              0.1111111111111111,
              "#46039f"
             ],
             [
              0.2222222222222222,
              "#7201a8"
             ],
             [
              0.3333333333333333,
              "#9c179e"
             ],
             [
              0.4444444444444444,
              "#bd3786"
             ],
             [
              0.5555555555555556,
              "#d8576b"
             ],
             [
              0.6666666666666666,
              "#ed7953"
             ],
             [
              0.7777777777777778,
              "#fb9f3a"
             ],
             [
              0.8888888888888888,
              "#fdca26"
             ],
             [
              1,
              "#f0f921"
             ]
            ],
            "type": "histogram2dcontour"
           }
          ],
          "mesh3d": [
           {
            "colorbar": {
             "outlinewidth": 0,
             "ticks": ""
            },
            "type": "mesh3d"
           }
          ],
          "parcoords": [
           {
            "line": {
             "colorbar": {
              "outlinewidth": 0,
              "ticks": ""
             }
            },
            "type": "parcoords"
           }
          ],
          "pie": [
           {
            "automargin": true,
            "type": "pie"
           }
          ],
          "scatter": [
           {
            "fillpattern": {
             "fillmode": "overlay",
             "size": 10,
             "solidity": 0.2
            },
            "type": "scatter"
           }
          ],
          "scatter3d": [
           {
            "line": {
             "colorbar": {
              "outlinewidth": 0,
              "ticks": ""
             }
            },
            "marker": {
             "colorbar": {
              "outlinewidth": 0,
              "ticks": ""
             }
            },
            "type": "scatter3d"
           }
          ],
          "scattercarpet": [
           {
            "marker": {
             "colorbar": {
              "outlinewidth": 0,
              "ticks": ""
             }
            },
            "type": "scattercarpet"
           }
          ],
          "scattergeo": [
           {
            "marker": {
             "colorbar": {
              "outlinewidth": 0,
              "ticks": ""
             }
            },
            "type": "scattergeo"
           }
          ],
          "scattergl": [
           {
            "marker": {
             "colorbar": {
              "outlinewidth": 0,
              "ticks": ""
             }
            },
            "type": "scattergl"
           }
          ],
          "scattermapbox": [
           {
            "marker": {
             "colorbar": {
              "outlinewidth": 0,
              "ticks": ""
             }
            },
            "type": "scattermapbox"
           }
          ],
          "scatterpolar": [
           {
            "marker": {
             "colorbar": {
              "outlinewidth": 0,
              "ticks": ""
             }
            },
            "type": "scatterpolar"
           }
          ],
          "scatterpolargl": [
           {
            "marker": {
             "colorbar": {
              "outlinewidth": 0,
              "ticks": ""
             }
            },
            "type": "scatterpolargl"
           }
          ],
          "scatterternary": [
           {
            "marker": {
             "colorbar": {
              "outlinewidth": 0,
              "ticks": ""
             }
            },
            "type": "scatterternary"
           }
          ],
          "surface": [
           {
            "colorbar": {
             "outlinewidth": 0,
             "ticks": ""
            },
            "colorscale": [
             [
              0,
              "#0d0887"
             ],
             [
              0.1111111111111111,
              "#46039f"
             ],
             [
              0.2222222222222222,
              "#7201a8"
             ],
             [
              0.3333333333333333,
              "#9c179e"
             ],
             [
              0.4444444444444444,
              "#bd3786"
             ],
             [
              0.5555555555555556,
              "#d8576b"
             ],
             [
              0.6666666666666666,
              "#ed7953"
             ],
             [
              0.7777777777777778,
              "#fb9f3a"
             ],
             [
              0.8888888888888888,
              "#fdca26"
             ],
             [
              1,
              "#f0f921"
             ]
            ],
            "type": "surface"
           }
          ],
          "table": [
           {
            "cells": {
             "fill": {
              "color": "#EBF0F8"
             },
             "line": {
              "color": "white"
             }
            },
            "header": {
             "fill": {
              "color": "#C8D4E3"
             },
             "line": {
              "color": "white"
             }
            },
            "type": "table"
           }
          ]
         },
         "layout": {
          "annotationdefaults": {
           "arrowcolor": "#2a3f5f",
           "arrowhead": 0,
           "arrowwidth": 1
          },
          "autotypenumbers": "strict",
          "coloraxis": {
           "colorbar": {
            "outlinewidth": 0,
            "ticks": ""
           }
          },
          "colorscale": {
           "diverging": [
            [
             0,
             "#8e0152"
            ],
            [
             0.1,
             "#c51b7d"
            ],
            [
             0.2,
             "#de77ae"
            ],
            [
             0.3,
             "#f1b6da"
            ],
            [
             0.4,
             "#fde0ef"
            ],
            [
             0.5,
             "#f7f7f7"
            ],
            [
             0.6,
             "#e6f5d0"
            ],
            [
             0.7,
             "#b8e186"
            ],
            [
             0.8,
             "#7fbc41"
            ],
            [
             0.9,
             "#4d9221"
            ],
            [
             1,
             "#276419"
            ]
           ],
           "sequential": [
            [
             0,
             "#0d0887"
            ],
            [
             0.1111111111111111,
             "#46039f"
            ],
            [
             0.2222222222222222,
             "#7201a8"
            ],
            [
             0.3333333333333333,
             "#9c179e"
            ],
            [
             0.4444444444444444,
             "#bd3786"
            ],
            [
             0.5555555555555556,
             "#d8576b"
            ],
            [
             0.6666666666666666,
             "#ed7953"
            ],
            [
             0.7777777777777778,
             "#fb9f3a"
            ],
            [
             0.8888888888888888,
             "#fdca26"
            ],
            [
             1,
             "#f0f921"
            ]
           ],
           "sequentialminus": [
            [
             0,
             "#0d0887"
            ],
            [
             0.1111111111111111,
             "#46039f"
            ],
            [
             0.2222222222222222,
             "#7201a8"
            ],
            [
             0.3333333333333333,
             "#9c179e"
            ],
            [
             0.4444444444444444,
             "#bd3786"
            ],
            [
             0.5555555555555556,
             "#d8576b"
            ],
            [
             0.6666666666666666,
             "#ed7953"
            ],
            [
             0.7777777777777778,
             "#fb9f3a"
            ],
            [
             0.8888888888888888,
             "#fdca26"
            ],
            [
             1,
             "#f0f921"
            ]
           ]
          },
          "colorway": [
           "#636efa",
           "#EF553B",
           "#00cc96",
           "#ab63fa",
           "#FFA15A",
           "#19d3f3",
           "#FF6692",
           "#B6E880",
           "#FF97FF",
           "#FECB52"
          ],
          "font": {
           "color": "#2a3f5f"
          },
          "geo": {
           "bgcolor": "white",
           "lakecolor": "white",
           "landcolor": "#E5ECF6",
           "showlakes": true,
           "showland": true,
           "subunitcolor": "white"
          },
          "hoverlabel": {
           "align": "left"
          },
          "hovermode": "closest",
          "mapbox": {
           "style": "light"
          },
          "paper_bgcolor": "white",
          "plot_bgcolor": "#E5ECF6",
          "polar": {
           "angularaxis": {
            "gridcolor": "white",
            "linecolor": "white",
            "ticks": ""
           },
           "bgcolor": "#E5ECF6",
           "radialaxis": {
            "gridcolor": "white",
            "linecolor": "white",
            "ticks": ""
           }
          },
          "scene": {
           "xaxis": {
            "backgroundcolor": "#E5ECF6",
            "gridcolor": "white",
            "gridwidth": 2,
            "linecolor": "white",
            "showbackground": true,
            "ticks": "",
            "zerolinecolor": "white"
           },
           "yaxis": {
            "backgroundcolor": "#E5ECF6",
            "gridcolor": "white",
            "gridwidth": 2,
            "linecolor": "white",
            "showbackground": true,
            "ticks": "",
            "zerolinecolor": "white"
           },
           "zaxis": {
            "backgroundcolor": "#E5ECF6",
            "gridcolor": "white",
            "gridwidth": 2,
            "linecolor": "white",
            "showbackground": true,
            "ticks": "",
            "zerolinecolor": "white"
           }
          },
          "shapedefaults": {
           "line": {
            "color": "#2a3f5f"
           }
          },
          "ternary": {
           "aaxis": {
            "gridcolor": "white",
            "linecolor": "white",
            "ticks": ""
           },
           "baxis": {
            "gridcolor": "white",
            "linecolor": "white",
            "ticks": ""
           },
           "bgcolor": "#E5ECF6",
           "caxis": {
            "gridcolor": "white",
            "linecolor": "white",
            "ticks": ""
           }
          },
          "title": {
           "x": 0.05
          },
          "xaxis": {
           "automargin": true,
           "gridcolor": "white",
           "linecolor": "white",
           "ticks": "",
           "title": {
            "standoff": 15
           },
           "zerolinecolor": "white",
           "zerolinewidth": 2
          },
          "yaxis": {
           "automargin": true,
           "gridcolor": "white",
           "linecolor": "white",
           "ticks": "",
           "title": {
            "standoff": 15
           },
           "zerolinecolor": "white",
           "zerolinewidth": 2
          }
         }
        },
        "xaxis": {
         "anchor": "y",
         "domain": [
          0,
          1
         ],
         "title": {
          "text": "latency.gift"
         }
        },
        "yaxis": {
         "anchor": "x",
         "domain": [
          0,
          1
         ],
         "title": {
          "text": "cop.duration"
         }
        }
       }
      }
     },
     "metadata": {},
     "output_type": "display_data"
    },
    {
     "data": {
      "application/vnd.plotly.v1+json": {
       "config": {
        "plotlyServerURL": "https://plot.ly"
       },
       "data": [
        {
         "error_x": {
          "array": [
           null,
           246.61537433246704,
           21.96208854670551,
           373.4317876132132,
           109.87811429033536,
           69.29646455628166,
           null
          ]
         },
         "error_y": {
          "array": [
           null,
           221.2127289026819,
           95.51963149007642,
           302.8205739377693,
           286.3665483257428,
           37.476659402887016,
           null
          ]
         },
         "hovertemplate": "male.qual=H<br>mating.order=1<br>latency.gift=%{x}<br>latency.cop=%{y}<br>mating.success=%{marker.size}<extra></extra>",
         "legendgroup": "H, 1",
         "marker": {
          "color": "#636efa",
          "size": [
           1,
           8,
           3,
           8,
           5,
           2,
           2
          ],
          "sizemode": "area",
          "sizeref": 0.0225,
          "symbol": "circle"
         },
         "mode": "markers",
         "name": "H, 1",
         "orientation": "v",
         "showlegend": true,
         "type": "scatter",
         "x": [
          634,
          407.85714285714283,
          106.66666666666667,
          625.6,
          318.2,
          515,
          234.5
         ],
         "xaxis": "x",
         "y": [
          984,
          319.25,
          247,
          605.5,
          557.6,
          623.5,
          372
         ],
         "yaxis": "y"
        },
        {
         "error_x": {
          "array": [
           null,
           318.7530392011973,
           384.2995793214802,
           null,
           256.6797615707168
          ]
         },
         "error_y": {
          "array": [
           null,
           249.75427924261876,
           520.6786917091961,
           null,
           214.2533546995239
          ]
         },
         "hovertemplate": "male.qual=H<br>mating.order=2<br>latency.gift=%{x}<br>latency.cop=%{y}<br>mating.success=%{marker.size}<extra></extra>",
         "legendgroup": "H, 2",
         "marker": {
          "color": "#636efa",
          "size": [
           1,
           9,
           7,
           2,
           2
          ],
          "sizemode": "area",
          "sizeref": 0.0225,
          "symbol": "diamond"
         },
         "mode": "markers",
         "name": "H, 2",
         "orientation": "v",
         "showlegend": true,
         "type": "scatter",
         "x": [
          16,
          270,
          235.83333333333334,
          1773,
          464.5
         ],
         "xaxis": "x",
         "y": [
          729,
          634.8,
          554.6,
          2819,
          695.5
         ],
         "yaxis": "y"
        },
        {
         "error_x": {
          "array": [
           106.77312395916867,
           677.9852505770314,
           674.1307983865842,
           150.1218552662184,
           239.1768871219235,
           null
          ]
         },
         "error_y": {
          "array": [
           62.22539674441618,
           324.6223905225445,
           605.0597766612266,
           161.75643065159065,
           265.2940192817521,
           null
          ]
         },
         "hovertemplate": "male.qual=L<br>mating.order=1<br>latency.gift=%{x}<br>latency.cop=%{y}<br>mating.success=%{marker.size}<extra></extra>",
         "legendgroup": "L, 1",
         "marker": {
          "color": "#EF553B",
          "size": [
           2,
           9,
           4,
           8,
           4,
           1
          ],
          "sizemode": "area",
          "sizeref": 0.0225,
          "symbol": "circle"
         },
         "mode": "markers",
         "name": "L, 1",
         "orientation": "v",
         "showlegend": true,
         "type": "scatter",
         "x": [
          485.5,
          775,
          1059.6666666666667,
          373.7142857142857,
          308.25,
          139
         ],
         "xaxis": "x",
         "y": [
          679,
          603.375,
          1180.3333333333333,
          486.85714285714283,
          312.25,
          500
         ],
         "yaxis": "y"
        },
        {
         "error_x": {
          "array": [
           397.39401102683973,
           214.10534790144783,
           250.31580054003783,
           849.5247691111387,
           801.5566106021458
          ]
         },
         "error_y": {
          "array": [
           476.589970519733,
           189.5172815339013,
           362.45137604925714,
           240.84088800146318,
           916.0820560044461
          ]
         },
         "hovertemplate": "male.qual=L<br>mating.order=2<br>latency.gift=%{x}<br>latency.cop=%{y}<br>mating.success=%{marker.size}<extra></extra>",
         "legendgroup": "L, 2",
         "marker": {
          "color": "#EF553B",
          "size": [
           2,
           8,
           5,
           8,
           5
          ],
          "sizemode": "area",
          "sizeref": 0.0225,
          "symbol": "diamond"
         },
         "mode": "markers",
         "name": "L, 2",
         "orientation": "v",
         "showlegend": true,
         "type": "scatter",
         "x": [
          300,
          155.5,
          678,
          933.3333333333334,
          905
         ],
         "xaxis": "x",
         "y": [
          436,
          323,
          615,
          500.3333333333333,
          942.3333333333334
         ],
         "yaxis": "y"
        }
       ],
       "layout": {
        "legend": {
         "itemsizing": "constant",
         "title": {
          "text": "male.qual, mating.order"
         },
         "tracegroupgap": 0
        },
        "margin": {
         "t": 60
        },
        "template": {
         "data": {
          "bar": [
           {
            "error_x": {
             "color": "#2a3f5f"
            },
            "error_y": {
             "color": "#2a3f5f"
            },
            "marker": {
             "line": {
              "color": "#E5ECF6",
              "width": 0.5
             },
             "pattern": {
              "fillmode": "overlay",
              "size": 10,
              "solidity": 0.2
             }
            },
            "type": "bar"
           }
          ],
          "barpolar": [
           {
            "marker": {
             "line": {
              "color": "#E5ECF6",
              "width": 0.5
             },
             "pattern": {
              "fillmode": "overlay",
              "size": 10,
              "solidity": 0.2
             }
            },
            "type": "barpolar"
           }
          ],
          "carpet": [
           {
            "aaxis": {
             "endlinecolor": "#2a3f5f",
             "gridcolor": "white",
             "linecolor": "white",
             "minorgridcolor": "white",
             "startlinecolor": "#2a3f5f"
            },
            "baxis": {
             "endlinecolor": "#2a3f5f",
             "gridcolor": "white",
             "linecolor": "white",
             "minorgridcolor": "white",
             "startlinecolor": "#2a3f5f"
            },
            "type": "carpet"
           }
          ],
          "choropleth": [
           {
            "colorbar": {
             "outlinewidth": 0,
             "ticks": ""
            },
            "type": "choropleth"
           }
          ],
          "contour": [
           {
            "colorbar": {
             "outlinewidth": 0,
             "ticks": ""
            },
            "colorscale": [
             [
              0,
              "#0d0887"
             ],
             [
              0.1111111111111111,
              "#46039f"
             ],
             [
              0.2222222222222222,
              "#7201a8"
             ],
             [
              0.3333333333333333,
              "#9c179e"
             ],
             [
              0.4444444444444444,
              "#bd3786"
             ],
             [
              0.5555555555555556,
              "#d8576b"
             ],
             [
              0.6666666666666666,
              "#ed7953"
             ],
             [
              0.7777777777777778,
              "#fb9f3a"
             ],
             [
              0.8888888888888888,
              "#fdca26"
             ],
             [
              1,
              "#f0f921"
             ]
            ],
            "type": "contour"
           }
          ],
          "contourcarpet": [
           {
            "colorbar": {
             "outlinewidth": 0,
             "ticks": ""
            },
            "type": "contourcarpet"
           }
          ],
          "heatmap": [
           {
            "colorbar": {
             "outlinewidth": 0,
             "ticks": ""
            },
            "colorscale": [
             [
              0,
              "#0d0887"
             ],
             [
              0.1111111111111111,
              "#46039f"
             ],
             [
              0.2222222222222222,
              "#7201a8"
             ],
             [
              0.3333333333333333,
              "#9c179e"
             ],
             [
              0.4444444444444444,
              "#bd3786"
             ],
             [
              0.5555555555555556,
              "#d8576b"
             ],
             [
              0.6666666666666666,
              "#ed7953"
             ],
             [
              0.7777777777777778,
              "#fb9f3a"
             ],
             [
              0.8888888888888888,
              "#fdca26"
             ],
             [
              1,
              "#f0f921"
             ]
            ],
            "type": "heatmap"
           }
          ],
          "heatmapgl": [
           {
            "colorbar": {
             "outlinewidth": 0,
             "ticks": ""
            },
            "colorscale": [
             [
              0,
              "#0d0887"
             ],
             [
              0.1111111111111111,
              "#46039f"
             ],
             [
              0.2222222222222222,
              "#7201a8"
             ],
             [
              0.3333333333333333,
              "#9c179e"
             ],
             [
              0.4444444444444444,
              "#bd3786"
             ],
             [
              0.5555555555555556,
              "#d8576b"
             ],
             [
              0.6666666666666666,
              "#ed7953"
             ],
             [
              0.7777777777777778,
              "#fb9f3a"
             ],
             [
              0.8888888888888888,
              "#fdca26"
             ],
             [
              1,
              "#f0f921"
             ]
            ],
            "type": "heatmapgl"
           }
          ],
          "histogram": [
           {
            "marker": {
             "pattern": {
              "fillmode": "overlay",
              "size": 10,
              "solidity": 0.2
             }
            },
            "type": "histogram"
           }
          ],
          "histogram2d": [
           {
            "colorbar": {
             "outlinewidth": 0,
             "ticks": ""
            },
            "colorscale": [
             [
              0,
              "#0d0887"
             ],
             [
              0.1111111111111111,
              "#46039f"
             ],
             [
              0.2222222222222222,
              "#7201a8"
             ],
             [
              0.3333333333333333,
              "#9c179e"
             ],
             [
              0.4444444444444444,
              "#bd3786"
             ],
             [
              0.5555555555555556,
              "#d8576b"
             ],
             [
              0.6666666666666666,
              "#ed7953"
             ],
             [
              0.7777777777777778,
              "#fb9f3a"
             ],
             [
              0.8888888888888888,
              "#fdca26"
             ],
             [
              1,
              "#f0f921"
             ]
            ],
            "type": "histogram2d"
           }
          ],
          "histogram2dcontour": [
           {
            "colorbar": {
             "outlinewidth": 0,
             "ticks": ""
            },
            "colorscale": [
             [
              0,
              "#0d0887"
             ],
             [
              0.1111111111111111,
              "#46039f"
             ],
             [
              0.2222222222222222,
              "#7201a8"
             ],
             [
              0.3333333333333333,
              "#9c179e"
             ],
             [
              0.4444444444444444,
              "#bd3786"
             ],
             [
              0.5555555555555556,
              "#d8576b"
             ],
             [
              0.6666666666666666,
              "#ed7953"
             ],
             [
              0.7777777777777778,
              "#fb9f3a"
             ],
             [
              0.8888888888888888,
              "#fdca26"
             ],
             [
              1,
              "#f0f921"
             ]
            ],
            "type": "histogram2dcontour"
           }
          ],
          "mesh3d": [
           {
            "colorbar": {
             "outlinewidth": 0,
             "ticks": ""
            },
            "type": "mesh3d"
           }
          ],
          "parcoords": [
           {
            "line": {
             "colorbar": {
              "outlinewidth": 0,
              "ticks": ""
             }
            },
            "type": "parcoords"
           }
          ],
          "pie": [
           {
            "automargin": true,
            "type": "pie"
           }
          ],
          "scatter": [
           {
            "fillpattern": {
             "fillmode": "overlay",
             "size": 10,
             "solidity": 0.2
            },
            "type": "scatter"
           }
          ],
          "scatter3d": [
           {
            "line": {
             "colorbar": {
              "outlinewidth": 0,
              "ticks": ""
             }
            },
            "marker": {
             "colorbar": {
              "outlinewidth": 0,
              "ticks": ""
             }
            },
            "type": "scatter3d"
           }
          ],
          "scattercarpet": [
           {
            "marker": {
             "colorbar": {
              "outlinewidth": 0,
              "ticks": ""
             }
            },
            "type": "scattercarpet"
           }
          ],
          "scattergeo": [
           {
            "marker": {
             "colorbar": {
              "outlinewidth": 0,
              "ticks": ""
             }
            },
            "type": "scattergeo"
           }
          ],
          "scattergl": [
           {
            "marker": {
             "colorbar": {
              "outlinewidth": 0,
              "ticks": ""
             }
            },
            "type": "scattergl"
           }
          ],
          "scattermapbox": [
           {
            "marker": {
             "colorbar": {
              "outlinewidth": 0,
              "ticks": ""
             }
            },
            "type": "scattermapbox"
           }
          ],
          "scatterpolar": [
           {
            "marker": {
             "colorbar": {
              "outlinewidth": 0,
              "ticks": ""
             }
            },
            "type": "scatterpolar"
           }
          ],
          "scatterpolargl": [
           {
            "marker": {
             "colorbar": {
              "outlinewidth": 0,
              "ticks": ""
             }
            },
            "type": "scatterpolargl"
           }
          ],
          "scatterternary": [
           {
            "marker": {
             "colorbar": {
              "outlinewidth": 0,
              "ticks": ""
             }
            },
            "type": "scatterternary"
           }
          ],
          "surface": [
           {
            "colorbar": {
             "outlinewidth": 0,
             "ticks": ""
            },
            "colorscale": [
             [
              0,
              "#0d0887"
             ],
             [
              0.1111111111111111,
              "#46039f"
             ],
             [
              0.2222222222222222,
              "#7201a8"
             ],
             [
              0.3333333333333333,
              "#9c179e"
             ],
             [
              0.4444444444444444,
              "#bd3786"
             ],
             [
              0.5555555555555556,
              "#d8576b"
             ],
             [
              0.6666666666666666,
              "#ed7953"
             ],
             [
              0.7777777777777778,
              "#fb9f3a"
             ],
             [
              0.8888888888888888,
              "#fdca26"
             ],
             [
              1,
              "#f0f921"
             ]
            ],
            "type": "surface"
           }
          ],
          "table": [
           {
            "cells": {
             "fill": {
              "color": "#EBF0F8"
             },
             "line": {
              "color": "white"
             }
            },
            "header": {
             "fill": {
              "color": "#C8D4E3"
             },
             "line": {
              "color": "white"
             }
            },
            "type": "table"
           }
          ]
         },
         "layout": {
          "annotationdefaults": {
           "arrowcolor": "#2a3f5f",
           "arrowhead": 0,
           "arrowwidth": 1
          },
          "autotypenumbers": "strict",
          "coloraxis": {
           "colorbar": {
            "outlinewidth": 0,
            "ticks": ""
           }
          },
          "colorscale": {
           "diverging": [
            [
             0,
             "#8e0152"
            ],
            [
             0.1,
             "#c51b7d"
            ],
            [
             0.2,
             "#de77ae"
            ],
            [
             0.3,
             "#f1b6da"
            ],
            [
             0.4,
             "#fde0ef"
            ],
            [
             0.5,
             "#f7f7f7"
            ],
            [
             0.6,
             "#e6f5d0"
            ],
            [
             0.7,
             "#b8e186"
            ],
            [
             0.8,
             "#7fbc41"
            ],
            [
             0.9,
             "#4d9221"
            ],
            [
             1,
             "#276419"
            ]
           ],
           "sequential": [
            [
             0,
             "#0d0887"
            ],
            [
             0.1111111111111111,
             "#46039f"
            ],
            [
             0.2222222222222222,
             "#7201a8"
            ],
            [
             0.3333333333333333,
             "#9c179e"
            ],
            [
             0.4444444444444444,
             "#bd3786"
            ],
            [
             0.5555555555555556,
             "#d8576b"
            ],
            [
             0.6666666666666666,
             "#ed7953"
            ],
            [
             0.7777777777777778,
             "#fb9f3a"
            ],
            [
             0.8888888888888888,
             "#fdca26"
            ],
            [
             1,
             "#f0f921"
            ]
           ],
           "sequentialminus": [
            [
             0,
             "#0d0887"
            ],
            [
             0.1111111111111111,
             "#46039f"
            ],
            [
             0.2222222222222222,
             "#7201a8"
            ],
            [
             0.3333333333333333,
             "#9c179e"
            ],
            [
             0.4444444444444444,
             "#bd3786"
            ],
            [
             0.5555555555555556,
             "#d8576b"
            ],
            [
             0.6666666666666666,
             "#ed7953"
            ],
            [
             0.7777777777777778,
             "#fb9f3a"
            ],
            [
             0.8888888888888888,
             "#fdca26"
            ],
            [
             1,
             "#f0f921"
            ]
           ]
          },
          "colorway": [
           "#636efa",
           "#EF553B",
           "#00cc96",
           "#ab63fa",
           "#FFA15A",
           "#19d3f3",
           "#FF6692",
           "#B6E880",
           "#FF97FF",
           "#FECB52"
          ],
          "font": {
           "color": "#2a3f5f"
          },
          "geo": {
           "bgcolor": "white",
           "lakecolor": "white",
           "landcolor": "#E5ECF6",
           "showlakes": true,
           "showland": true,
           "subunitcolor": "white"
          },
          "hoverlabel": {
           "align": "left"
          },
          "hovermode": "closest",
          "mapbox": {
           "style": "light"
          },
          "paper_bgcolor": "white",
          "plot_bgcolor": "#E5ECF6",
          "polar": {
           "angularaxis": {
            "gridcolor": "white",
            "linecolor": "white",
            "ticks": ""
           },
           "bgcolor": "#E5ECF6",
           "radialaxis": {
            "gridcolor": "white",
            "linecolor": "white",
            "ticks": ""
           }
          },
          "scene": {
           "xaxis": {
            "backgroundcolor": "#E5ECF6",
            "gridcolor": "white",
            "gridwidth": 2,
            "linecolor": "white",
            "showbackground": true,
            "ticks": "",
            "zerolinecolor": "white"
           },
           "yaxis": {
            "backgroundcolor": "#E5ECF6",
            "gridcolor": "white",
            "gridwidth": 2,
            "linecolor": "white",
            "showbackground": true,
            "ticks": "",
            "zerolinecolor": "white"
           },
           "zaxis": {
            "backgroundcolor": "#E5ECF6",
            "gridcolor": "white",
            "gridwidth": 2,
            "linecolor": "white",
            "showbackground": true,
            "ticks": "",
            "zerolinecolor": "white"
           }
          },
          "shapedefaults": {
           "line": {
            "color": "#2a3f5f"
           }
          },
          "ternary": {
           "aaxis": {
            "gridcolor": "white",
            "linecolor": "white",
            "ticks": ""
           },
           "baxis": {
            "gridcolor": "white",
            "linecolor": "white",
            "ticks": ""
           },
           "bgcolor": "#E5ECF6",
           "caxis": {
            "gridcolor": "white",
            "linecolor": "white",
            "ticks": ""
           }
          },
          "title": {
           "x": 0.05
          },
          "xaxis": {
           "automargin": true,
           "gridcolor": "white",
           "linecolor": "white",
           "ticks": "",
           "title": {
            "standoff": 15
           },
           "zerolinecolor": "white",
           "zerolinewidth": 2
          },
          "yaxis": {
           "automargin": true,
           "gridcolor": "white",
           "linecolor": "white",
           "ticks": "",
           "title": {
            "standoff": 15
           },
           "zerolinecolor": "white",
           "zerolinewidth": 2
          }
         }
        },
        "xaxis": {
         "anchor": "y",
         "domain": [
          0,
          1
         ],
         "title": {
          "text": "latency.gift"
         }
        },
        "yaxis": {
         "anchor": "x",
         "domain": [
          0,
          1
         ],
         "title": {
          "text": "latency.cop"
         }
        }
       }
      }
     },
     "metadata": {},
     "output_type": "display_data"
    },
    {
     "data": {
      "application/vnd.plotly.v1+json": {
       "config": {
        "plotlyServerURL": "https://plot.ly"
       },
       "data": [
        {
         "error_x": {
          "array": [
           null,
           221.2127289026819,
           95.51963149007642,
           302.8205739377693,
           286.3665483257428,
           37.476659402887016,
           null
          ]
         },
         "error_y": {
          "array": [
           null,
           1270.727688036606,
           1691.7774676357408,
           1879.3973530667447,
           1094.7575073960443,
           63.63961030678928,
           null
          ]
         },
         "hovertemplate": "male.qual=H<br>mating.order=1<br>latency.cop=%{x}<br>cop.duration=%{y}<br>mating.success=%{marker.size}<extra></extra>",
         "legendgroup": "H, 1",
         "marker": {
          "color": "#636efa",
          "size": [
           1,
           8,
           3,
           8,
           5,
           2,
           2
          ],
          "sizemode": "area",
          "sizeref": 0.0225,
          "symbol": "circle"
         },
         "mode": "markers",
         "name": "H, 1",
         "orientation": "v",
         "showlegend": true,
         "type": "scatter",
         "x": [
          984,
          319.25,
          247,
          605.5,
          557.6,
          623.5,
          372
         ],
         "xaxis": "x",
         "y": [
          2815,
          1840,
          1839,
          1706.875,
          3163,
          3757,
          1111.5
         ],
         "yaxis": "y"
        },
        {
         "error_x": {
          "array": [
           null,
           249.75427924261876,
           520.6786917091961,
           null,
           214.2533546995239
          ]
         },
         "error_y": {
          "array": [
           null,
           1312.914220351048,
           2352.4477626911244,
           null,
           1848.3771260216351
          ]
         },
         "hovertemplate": "male.qual=H<br>mating.order=2<br>latency.cop=%{x}<br>cop.duration=%{y}<br>mating.success=%{marker.size}<extra></extra>",
         "legendgroup": "H, 2",
         "marker": {
          "color": "#636efa",
          "size": [
           1,
           9,
           7,
           2,
           2
          ],
          "sizemode": "area",
          "sizeref": 0.0225,
          "symbol": "diamond"
         },
         "mode": "markers",
         "name": "H, 2",
         "orientation": "v",
         "showlegend": true,
         "type": "scatter",
         "x": [
          729,
          634.8,
          554.6,
          2819,
          695.5
         ],
         "xaxis": "x",
         "y": [
          2097,
          1032,
          1535.142857142857,
          2280.5,
          1749
         ],
         "yaxis": "y"
        },
        {
         "error_x": {
          "array": [
           62.22539674441618,
           324.6223905225445,
           605.0597766612266,
           161.75643065159065,
           265.2940192817521,
           null
          ]
         },
         "error_y": {
          "array": [
           1178.0398974567881,
           1232.4252963612485,
           2157.225436372688,
           1918.5863657540003,
           1035.0811562384854,
           null
          ]
         },
         "hovertemplate": "male.qual=L<br>mating.order=1<br>latency.cop=%{x}<br>cop.duration=%{y}<br>mating.success=%{marker.size}<extra></extra>",
         "legendgroup": "L, 1",
         "marker": {
          "color": "#EF553B",
          "size": [
           2,
           9,
           4,
           8,
           4,
           1
          ],
          "sizemode": "area",
          "sizeref": 0.0225,
          "symbol": "circle"
         },
         "mode": "markers",
         "name": "L, 1",
         "orientation": "v",
         "showlegend": true,
         "type": "scatter",
         "x": [
          679,
          603.375,
          1180.3333333333333,
          486.85714285714283,
          312.25,
          500
         ],
         "xaxis": "x",
         "y": [
          1820,
          1174.111111111111,
          2667.25,
          2629.25,
          3220.5,
          2171
         ],
         "yaxis": "y"
        },
        {
         "error_x": {
          "array": [
           476.589970519733,
           189.5172815339013,
           362.45137604925714,
           240.84088800146318,
           916.0820560044461
          ]
         },
         "error_y": {
          "array": [
           975.1002512562491,
           2219.958843730474,
           1709.216399406465,
           1355.0561862362545,
           2867.223883829095
          ]
         },
         "hovertemplate": "male.qual=L<br>mating.order=2<br>latency.cop=%{x}<br>cop.duration=%{y}<br>mating.success=%{marker.size}<extra></extra>",
         "legendgroup": "L, 2",
         "marker": {
          "color": "#EF553B",
          "size": [
           2,
           8,
           5,
           8,
           5
          ],
          "sizemode": "area",
          "sizeref": 0.0225,
          "symbol": "diamond"
         },
         "mode": "markers",
         "name": "L, 2",
         "orientation": "v",
         "showlegend": true,
         "type": "scatter",
         "x": [
          436,
          323,
          615,
          500.3333333333333,
          942.3333333333334
         ],
         "xaxis": "x",
         "y": [
          4095.5,
          2219.125,
          1261.2,
          952.125,
          2331.6
         ],
         "yaxis": "y"
        }
       ],
       "layout": {
        "legend": {
         "itemsizing": "constant",
         "title": {
          "text": "male.qual, mating.order"
         },
         "tracegroupgap": 0
        },
        "margin": {
         "t": 60
        },
        "template": {
         "data": {
          "bar": [
           {
            "error_x": {
             "color": "#2a3f5f"
            },
            "error_y": {
             "color": "#2a3f5f"
            },
            "marker": {
             "line": {
              "color": "#E5ECF6",
              "width": 0.5
             },
             "pattern": {
              "fillmode": "overlay",
              "size": 10,
              "solidity": 0.2
             }
            },
            "type": "bar"
           }
          ],
          "barpolar": [
           {
            "marker": {
             "line": {
              "color": "#E5ECF6",
              "width": 0.5
             },
             "pattern": {
              "fillmode": "overlay",
              "size": 10,
              "solidity": 0.2
             }
            },
            "type": "barpolar"
           }
          ],
          "carpet": [
           {
            "aaxis": {
             "endlinecolor": "#2a3f5f",
             "gridcolor": "white",
             "linecolor": "white",
             "minorgridcolor": "white",
             "startlinecolor": "#2a3f5f"
            },
            "baxis": {
             "endlinecolor": "#2a3f5f",
             "gridcolor": "white",
             "linecolor": "white",
             "minorgridcolor": "white",
             "startlinecolor": "#2a3f5f"
            },
            "type": "carpet"
           }
          ],
          "choropleth": [
           {
            "colorbar": {
             "outlinewidth": 0,
             "ticks": ""
            },
            "type": "choropleth"
           }
          ],
          "contour": [
           {
            "colorbar": {
             "outlinewidth": 0,
             "ticks": ""
            },
            "colorscale": [
             [
              0,
              "#0d0887"
             ],
             [
              0.1111111111111111,
              "#46039f"
             ],
             [
              0.2222222222222222,
              "#7201a8"
             ],
             [
              0.3333333333333333,
              "#9c179e"
             ],
             [
              0.4444444444444444,
              "#bd3786"
             ],
             [
              0.5555555555555556,
              "#d8576b"
             ],
             [
              0.6666666666666666,
              "#ed7953"
             ],
             [
              0.7777777777777778,
              "#fb9f3a"
             ],
             [
              0.8888888888888888,
              "#fdca26"
             ],
             [
              1,
              "#f0f921"
             ]
            ],
            "type": "contour"
           }
          ],
          "contourcarpet": [
           {
            "colorbar": {
             "outlinewidth": 0,
             "ticks": ""
            },
            "type": "contourcarpet"
           }
          ],
          "heatmap": [
           {
            "colorbar": {
             "outlinewidth": 0,
             "ticks": ""
            },
            "colorscale": [
             [
              0,
              "#0d0887"
             ],
             [
              0.1111111111111111,
              "#46039f"
             ],
             [
              0.2222222222222222,
              "#7201a8"
             ],
             [
              0.3333333333333333,
              "#9c179e"
             ],
             [
              0.4444444444444444,
              "#bd3786"
             ],
             [
              0.5555555555555556,
              "#d8576b"
             ],
             [
              0.6666666666666666,
              "#ed7953"
             ],
             [
              0.7777777777777778,
              "#fb9f3a"
             ],
             [
              0.8888888888888888,
              "#fdca26"
             ],
             [
              1,
              "#f0f921"
             ]
            ],
            "type": "heatmap"
           }
          ],
          "heatmapgl": [
           {
            "colorbar": {
             "outlinewidth": 0,
             "ticks": ""
            },
            "colorscale": [
             [
              0,
              "#0d0887"
             ],
             [
              0.1111111111111111,
              "#46039f"
             ],
             [
              0.2222222222222222,
              "#7201a8"
             ],
             [
              0.3333333333333333,
              "#9c179e"
             ],
             [
              0.4444444444444444,
              "#bd3786"
             ],
             [
              0.5555555555555556,
              "#d8576b"
             ],
             [
              0.6666666666666666,
              "#ed7953"
             ],
             [
              0.7777777777777778,
              "#fb9f3a"
             ],
             [
              0.8888888888888888,
              "#fdca26"
             ],
             [
              1,
              "#f0f921"
             ]
            ],
            "type": "heatmapgl"
           }
          ],
          "histogram": [
           {
            "marker": {
             "pattern": {
              "fillmode": "overlay",
              "size": 10,
              "solidity": 0.2
             }
            },
            "type": "histogram"
           }
          ],
          "histogram2d": [
           {
            "colorbar": {
             "outlinewidth": 0,
             "ticks": ""
            },
            "colorscale": [
             [
              0,
              "#0d0887"
             ],
             [
              0.1111111111111111,
              "#46039f"
             ],
             [
              0.2222222222222222,
              "#7201a8"
             ],
             [
              0.3333333333333333,
              "#9c179e"
             ],
             [
              0.4444444444444444,
              "#bd3786"
             ],
             [
              0.5555555555555556,
              "#d8576b"
             ],
             [
              0.6666666666666666,
              "#ed7953"
             ],
             [
              0.7777777777777778,
              "#fb9f3a"
             ],
             [
              0.8888888888888888,
              "#fdca26"
             ],
             [
              1,
              "#f0f921"
             ]
            ],
            "type": "histogram2d"
           }
          ],
          "histogram2dcontour": [
           {
            "colorbar": {
             "outlinewidth": 0,
             "ticks": ""
            },
            "colorscale": [
             [
              0,
              "#0d0887"
             ],
             [
              0.1111111111111111,
              "#46039f"
             ],
             [
              0.2222222222222222,
              "#7201a8"
             ],
             [
              0.3333333333333333,
              "#9c179e"
             ],
             [
              0.4444444444444444,
              "#bd3786"
             ],
             [
              0.5555555555555556,
              "#d8576b"
             ],
             [
              0.6666666666666666,
              "#ed7953"
             ],
             [
              0.7777777777777778,
              "#fb9f3a"
             ],
             [
              0.8888888888888888,
              "#fdca26"
             ],
             [
              1,
              "#f0f921"
             ]
            ],
            "type": "histogram2dcontour"
           }
          ],
          "mesh3d": [
           {
            "colorbar": {
             "outlinewidth": 0,
             "ticks": ""
            },
            "type": "mesh3d"
           }
          ],
          "parcoords": [
           {
            "line": {
             "colorbar": {
              "outlinewidth": 0,
              "ticks": ""
             }
            },
            "type": "parcoords"
           }
          ],
          "pie": [
           {
            "automargin": true,
            "type": "pie"
           }
          ],
          "scatter": [
           {
            "fillpattern": {
             "fillmode": "overlay",
             "size": 10,
             "solidity": 0.2
            },
            "type": "scatter"
           }
          ],
          "scatter3d": [
           {
            "line": {
             "colorbar": {
              "outlinewidth": 0,
              "ticks": ""
             }
            },
            "marker": {
             "colorbar": {
              "outlinewidth": 0,
              "ticks": ""
             }
            },
            "type": "scatter3d"
           }
          ],
          "scattercarpet": [
           {
            "marker": {
             "colorbar": {
              "outlinewidth": 0,
              "ticks": ""
             }
            },
            "type": "scattercarpet"
           }
          ],
          "scattergeo": [
           {
            "marker": {
             "colorbar": {
              "outlinewidth": 0,
              "ticks": ""
             }
            },
            "type": "scattergeo"
           }
          ],
          "scattergl": [
           {
            "marker": {
             "colorbar": {
              "outlinewidth": 0,
              "ticks": ""
             }
            },
            "type": "scattergl"
           }
          ],
          "scattermapbox": [
           {
            "marker": {
             "colorbar": {
              "outlinewidth": 0,
              "ticks": ""
             }
            },
            "type": "scattermapbox"
           }
          ],
          "scatterpolar": [
           {
            "marker": {
             "colorbar": {
              "outlinewidth": 0,
              "ticks": ""
             }
            },
            "type": "scatterpolar"
           }
          ],
          "scatterpolargl": [
           {
            "marker": {
             "colorbar": {
              "outlinewidth": 0,
              "ticks": ""
             }
            },
            "type": "scatterpolargl"
           }
          ],
          "scatterternary": [
           {
            "marker": {
             "colorbar": {
              "outlinewidth": 0,
              "ticks": ""
             }
            },
            "type": "scatterternary"
           }
          ],
          "surface": [
           {
            "colorbar": {
             "outlinewidth": 0,
             "ticks": ""
            },
            "colorscale": [
             [
              0,
              "#0d0887"
             ],
             [
              0.1111111111111111,
              "#46039f"
             ],
             [
              0.2222222222222222,
              "#7201a8"
             ],
             [
              0.3333333333333333,
              "#9c179e"
             ],
             [
              0.4444444444444444,
              "#bd3786"
             ],
             [
              0.5555555555555556,
              "#d8576b"
             ],
             [
              0.6666666666666666,
              "#ed7953"
             ],
             [
              0.7777777777777778,
              "#fb9f3a"
             ],
             [
              0.8888888888888888,
              "#fdca26"
             ],
             [
              1,
              "#f0f921"
             ]
            ],
            "type": "surface"
           }
          ],
          "table": [
           {
            "cells": {
             "fill": {
              "color": "#EBF0F8"
             },
             "line": {
              "color": "white"
             }
            },
            "header": {
             "fill": {
              "color": "#C8D4E3"
             },
             "line": {
              "color": "white"
             }
            },
            "type": "table"
           }
          ]
         },
         "layout": {
          "annotationdefaults": {
           "arrowcolor": "#2a3f5f",
           "arrowhead": 0,
           "arrowwidth": 1
          },
          "autotypenumbers": "strict",
          "coloraxis": {
           "colorbar": {
            "outlinewidth": 0,
            "ticks": ""
           }
          },
          "colorscale": {
           "diverging": [
            [
             0,
             "#8e0152"
            ],
            [
             0.1,
             "#c51b7d"
            ],
            [
             0.2,
             "#de77ae"
            ],
            [
             0.3,
             "#f1b6da"
            ],
            [
             0.4,
             "#fde0ef"
            ],
            [
             0.5,
             "#f7f7f7"
            ],
            [
             0.6,
             "#e6f5d0"
            ],
            [
             0.7,
             "#b8e186"
            ],
            [
             0.8,
             "#7fbc41"
            ],
            [
             0.9,
             "#4d9221"
            ],
            [
             1,
             "#276419"
            ]
           ],
           "sequential": [
            [
             0,
             "#0d0887"
            ],
            [
             0.1111111111111111,
             "#46039f"
            ],
            [
             0.2222222222222222,
             "#7201a8"
            ],
            [
             0.3333333333333333,
             "#9c179e"
            ],
            [
             0.4444444444444444,
             "#bd3786"
            ],
            [
             0.5555555555555556,
             "#d8576b"
            ],
            [
             0.6666666666666666,
             "#ed7953"
            ],
            [
             0.7777777777777778,
             "#fb9f3a"
            ],
            [
             0.8888888888888888,
             "#fdca26"
            ],
            [
             1,
             "#f0f921"
            ]
           ],
           "sequentialminus": [
            [
             0,
             "#0d0887"
            ],
            [
             0.1111111111111111,
             "#46039f"
            ],
            [
             0.2222222222222222,
             "#7201a8"
            ],
            [
             0.3333333333333333,
             "#9c179e"
            ],
            [
             0.4444444444444444,
             "#bd3786"
            ],
            [
             0.5555555555555556,
             "#d8576b"
            ],
            [
             0.6666666666666666,
             "#ed7953"
            ],
            [
             0.7777777777777778,
             "#fb9f3a"
            ],
            [
             0.8888888888888888,
             "#fdca26"
            ],
            [
             1,
             "#f0f921"
            ]
           ]
          },
          "colorway": [
           "#636efa",
           "#EF553B",
           "#00cc96",
           "#ab63fa",
           "#FFA15A",
           "#19d3f3",
           "#FF6692",
           "#B6E880",
           "#FF97FF",
           "#FECB52"
          ],
          "font": {
           "color": "#2a3f5f"
          },
          "geo": {
           "bgcolor": "white",
           "lakecolor": "white",
           "landcolor": "#E5ECF6",
           "showlakes": true,
           "showland": true,
           "subunitcolor": "white"
          },
          "hoverlabel": {
           "align": "left"
          },
          "hovermode": "closest",
          "mapbox": {
           "style": "light"
          },
          "paper_bgcolor": "white",
          "plot_bgcolor": "#E5ECF6",
          "polar": {
           "angularaxis": {
            "gridcolor": "white",
            "linecolor": "white",
            "ticks": ""
           },
           "bgcolor": "#E5ECF6",
           "radialaxis": {
            "gridcolor": "white",
            "linecolor": "white",
            "ticks": ""
           }
          },
          "scene": {
           "xaxis": {
            "backgroundcolor": "#E5ECF6",
            "gridcolor": "white",
            "gridwidth": 2,
            "linecolor": "white",
            "showbackground": true,
            "ticks": "",
            "zerolinecolor": "white"
           },
           "yaxis": {
            "backgroundcolor": "#E5ECF6",
            "gridcolor": "white",
            "gridwidth": 2,
            "linecolor": "white",
            "showbackground": true,
            "ticks": "",
            "zerolinecolor": "white"
           },
           "zaxis": {
            "backgroundcolor": "#E5ECF6",
            "gridcolor": "white",
            "gridwidth": 2,
            "linecolor": "white",
            "showbackground": true,
            "ticks": "",
            "zerolinecolor": "white"
           }
          },
          "shapedefaults": {
           "line": {
            "color": "#2a3f5f"
           }
          },
          "ternary": {
           "aaxis": {
            "gridcolor": "white",
            "linecolor": "white",
            "ticks": ""
           },
           "baxis": {
            "gridcolor": "white",
            "linecolor": "white",
            "ticks": ""
           },
           "bgcolor": "#E5ECF6",
           "caxis": {
            "gridcolor": "white",
            "linecolor": "white",
            "ticks": ""
           }
          },
          "title": {
           "x": 0.05
          },
          "xaxis": {
           "automargin": true,
           "gridcolor": "white",
           "linecolor": "white",
           "ticks": "",
           "title": {
            "standoff": 15
           },
           "zerolinecolor": "white",
           "zerolinewidth": 2
          },
          "yaxis": {
           "automargin": true,
           "gridcolor": "white",
           "linecolor": "white",
           "ticks": "",
           "title": {
            "standoff": 15
           },
           "zerolinecolor": "white",
           "zerolinewidth": 2
          }
         }
        },
        "xaxis": {
         "anchor": "y",
         "domain": [
          0,
          1
         ],
         "title": {
          "text": "latency.cop"
         }
        },
        "yaxis": {
         "anchor": "x",
         "domain": [
          0,
          1
         ],
         "title": {
          "text": "cop.duration"
         }
        }
       }
      }
     },
     "metadata": {},
     "output_type": "display_data"
    }
   ],
   "source": [
    "\n",
    "fig = px.scatter_matrix(groupcontinous, dimensions=[\"latency.gift\", \"latency.cop\", \"cop.duration\", \"mating.success\"], color=\"male.age\", symbol=\"male.qual\")\n",
    "fig.update_traces(diagonal_visible=False)\n",
    "fig.show()\n",
    "fig.write_html(\"matrix.html\", include_plotlyjs=\"cdn\")\n",
    "\n",
    "fig = px.scatter(groupcontinous, x=\"latency.gift\", y=\"cop.duration\", color=\"male.qual\", symbol=\"mating.order\", size=\"mating.success\", error_x = \"latency.gift.std\", error_y = \"cop.duration.std\")\n",
    "fig.show()\n",
    "fig.write_html(\"scattergiftduration.html\", include_plotlyjs=\"cdn\")\n",
    "fig = px.scatter(groupcontinous, x=\"latency.gift\", y=\"latency.cop\", color=\"male.qual\", symbol=\"mating.order\", size=\"mating.success\", error_x = \"latency.gift.std\", error_y = \"latency.cop.std\")\n",
    "fig.show()\n",
    "fig.write_html(\"scattergiftlatcop.html\", include_plotlyjs=\"cdn\")\n",
    "fig = px.scatter(groupcontinous, x=\"latency.cop\", y=\"cop.duration\", color=\"male.qual\", symbol=\"mating.order\", size=\"mating.success\", error_x = \"latency.cop.std\", error_y = \"cop.duration.std\")\n",
    "fig.show()\n",
    "fig.write_html(\"scatterlatcopduration.html\", include_plotlyjs=\"cdn\")\n",
    "\n",
    "\n"
   ]
  },
  {
   "cell_type": "code",
   "execution_count": 21,
   "metadata": {},
   "outputs": [
    {
     "data": {
      "application/vnd.plotly.v1+json": {
       "config": {
        "plotlyServerURL": "https://plot.ly"
       },
       "data": [
        {
         "error_x": {
          "array": [
           null,
           221.2127289026819,
           95.51963149007642,
           302.8205739377693,
           286.3665483257428,
           37.476659402887016,
           null,
           null,
           249.75427924261876,
           520.6786917091961,
           null,
           214.2533546995239
          ]
         },
         "error_y": {
          "array": [
           null,
           1270.727688036606,
           1691.7774676357408,
           1879.3973530667447,
           1094.7575073960443,
           63.63961030678928,
           null,
           null,
           1312.914220351048,
           2352.4477626911244,
           null,
           1848.3771260216351
          ]
         },
         "hovertemplate": "male.qual=H<br>latency.cop=%{x}<br>cop.duration=%{y}<br>mating.success=%{marker.size}<br>male.age=%{marker.color}<extra></extra>",
         "legendgroup": "H",
         "marker": {
          "color": [
           13,
           15,
           16,
           17,
           18,
           19,
           20,
           13,
           15,
           17,
           19,
           20
          ],
          "coloraxis": "coloraxis",
          "size": [
           1,
           8,
           3,
           8,
           5,
           2,
           2,
           1,
           9,
           7,
           2,
           2
          ],
          "sizemode": "area",
          "sizeref": 0.0225,
          "symbol": "circle"
         },
         "mode": "markers",
         "name": "H",
         "orientation": "v",
         "showlegend": true,
         "type": "scatter",
         "x": [
          984,
          319.25,
          247,
          605.5,
          557.6,
          623.5,
          372,
          729,
          634.8,
          554.6,
          2819,
          695.5
         ],
         "xaxis": "x",
         "y": [
          2815,
          1840,
          1839,
          1706.875,
          3163,
          3757,
          1111.5,
          2097,
          1032,
          1535.142857142857,
          2280.5,
          1749
         ],
         "yaxis": "y"
        },
        {
         "error_x": {
          "array": [
           62.22539674441618,
           324.6223905225445,
           605.0597766612266,
           161.75643065159065,
           265.2940192817521,
           null,
           476.589970519733,
           189.5172815339013,
           362.45137604925714,
           240.84088800146318,
           916.0820560044461
          ]
         },
         "error_y": {
          "array": [
           1178.0398974567881,
           1232.4252963612485,
           2157.225436372688,
           1918.5863657540003,
           1035.0811562384854,
           null,
           975.1002512562491,
           2219.958843730474,
           1709.216399406465,
           1355.0561862362545,
           2867.223883829095
          ]
         },
         "hovertemplate": "male.qual=L<br>latency.cop=%{x}<br>cop.duration=%{y}<br>mating.success=%{marker.size}<br>male.age=%{marker.color}<extra></extra>",
         "legendgroup": "L",
         "marker": {
          "color": [
           13,
           15,
           17,
           18,
           19,
           20,
           13,
           15,
           17,
           18,
           19
          ],
          "coloraxis": "coloraxis",
          "size": [
           2,
           9,
           4,
           8,
           4,
           1,
           2,
           8,
           5,
           8,
           5
          ],
          "sizemode": "area",
          "sizeref": 0.0225,
          "symbol": "diamond"
         },
         "mode": "markers",
         "name": "L",
         "orientation": "v",
         "showlegend": true,
         "type": "scatter",
         "x": [
          679,
          603.375,
          1180.3333333333333,
          486.85714285714283,
          312.25,
          500,
          436,
          323,
          615,
          500.3333333333333,
          942.3333333333334
         ],
         "xaxis": "x",
         "y": [
          1820,
          1174.111111111111,
          2667.25,
          2629.25,
          3220.5,
          2171,
          4095.5,
          2219.125,
          1261.2,
          952.125,
          2331.6
         ],
         "yaxis": "y"
        }
       ],
       "layout": {
        "coloraxis": {
         "colorbar": {
          "title": {
           "text": "male.age"
          }
         },
         "colorscale": [
          [
           0,
           "#0d0887"
          ],
          [
           0.1111111111111111,
           "#46039f"
          ],
          [
           0.2222222222222222,
           "#7201a8"
          ],
          [
           0.3333333333333333,
           "#9c179e"
          ],
          [
           0.4444444444444444,
           "#bd3786"
          ],
          [
           0.5555555555555556,
           "#d8576b"
          ],
          [
           0.6666666666666666,
           "#ed7953"
          ],
          [
           0.7777777777777778,
           "#fb9f3a"
          ],
          [
           0.8888888888888888,
           "#fdca26"
          ],
          [
           1,
           "#f0f921"
          ]
         ]
        },
        "legend": {
         "itemsizing": "constant",
         "title": {
          "text": "male.qual"
         },
         "tracegroupgap": 0
        },
        "margin": {
         "t": 60
        },
        "template": {
         "data": {
          "bar": [
           {
            "error_x": {
             "color": "#2a3f5f"
            },
            "error_y": {
             "color": "#2a3f5f"
            },
            "marker": {
             "line": {
              "color": "#E5ECF6",
              "width": 0.5
             },
             "pattern": {
              "fillmode": "overlay",
              "size": 10,
              "solidity": 0.2
             }
            },
            "type": "bar"
           }
          ],
          "barpolar": [
           {
            "marker": {
             "line": {
              "color": "#E5ECF6",
              "width": 0.5
             },
             "pattern": {
              "fillmode": "overlay",
              "size": 10,
              "solidity": 0.2
             }
            },
            "type": "barpolar"
           }
          ],
          "carpet": [
           {
            "aaxis": {
             "endlinecolor": "#2a3f5f",
             "gridcolor": "white",
             "linecolor": "white",
             "minorgridcolor": "white",
             "startlinecolor": "#2a3f5f"
            },
            "baxis": {
             "endlinecolor": "#2a3f5f",
             "gridcolor": "white",
             "linecolor": "white",
             "minorgridcolor": "white",
             "startlinecolor": "#2a3f5f"
            },
            "type": "carpet"
           }
          ],
          "choropleth": [
           {
            "colorbar": {
             "outlinewidth": 0,
             "ticks": ""
            },
            "type": "choropleth"
           }
          ],
          "contour": [
           {
            "colorbar": {
             "outlinewidth": 0,
             "ticks": ""
            },
            "colorscale": [
             [
              0,
              "#0d0887"
             ],
             [
              0.1111111111111111,
              "#46039f"
             ],
             [
              0.2222222222222222,
              "#7201a8"
             ],
             [
              0.3333333333333333,
              "#9c179e"
             ],
             [
              0.4444444444444444,
              "#bd3786"
             ],
             [
              0.5555555555555556,
              "#d8576b"
             ],
             [
              0.6666666666666666,
              "#ed7953"
             ],
             [
              0.7777777777777778,
              "#fb9f3a"
             ],
             [
              0.8888888888888888,
              "#fdca26"
             ],
             [
              1,
              "#f0f921"
             ]
            ],
            "type": "contour"
           }
          ],
          "contourcarpet": [
           {
            "colorbar": {
             "outlinewidth": 0,
             "ticks": ""
            },
            "type": "contourcarpet"
           }
          ],
          "heatmap": [
           {
            "colorbar": {
             "outlinewidth": 0,
             "ticks": ""
            },
            "colorscale": [
             [
              0,
              "#0d0887"
             ],
             [
              0.1111111111111111,
              "#46039f"
             ],
             [
              0.2222222222222222,
              "#7201a8"
             ],
             [
              0.3333333333333333,
              "#9c179e"
             ],
             [
              0.4444444444444444,
              "#bd3786"
             ],
             [
              0.5555555555555556,
              "#d8576b"
             ],
             [
              0.6666666666666666,
              "#ed7953"
             ],
             [
              0.7777777777777778,
              "#fb9f3a"
             ],
             [
              0.8888888888888888,
              "#fdca26"
             ],
             [
              1,
              "#f0f921"
             ]
            ],
            "type": "heatmap"
           }
          ],
          "heatmapgl": [
           {
            "colorbar": {
             "outlinewidth": 0,
             "ticks": ""
            },
            "colorscale": [
             [
              0,
              "#0d0887"
             ],
             [
              0.1111111111111111,
              "#46039f"
             ],
             [
              0.2222222222222222,
              "#7201a8"
             ],
             [
              0.3333333333333333,
              "#9c179e"
             ],
             [
              0.4444444444444444,
              "#bd3786"
             ],
             [
              0.5555555555555556,
              "#d8576b"
             ],
             [
              0.6666666666666666,
              "#ed7953"
             ],
             [
              0.7777777777777778,
              "#fb9f3a"
             ],
             [
              0.8888888888888888,
              "#fdca26"
             ],
             [
              1,
              "#f0f921"
             ]
            ],
            "type": "heatmapgl"
           }
          ],
          "histogram": [
           {
            "marker": {
             "pattern": {
              "fillmode": "overlay",
              "size": 10,
              "solidity": 0.2
             }
            },
            "type": "histogram"
           }
          ],
          "histogram2d": [
           {
            "colorbar": {
             "outlinewidth": 0,
             "ticks": ""
            },
            "colorscale": [
             [
              0,
              "#0d0887"
             ],
             [
              0.1111111111111111,
              "#46039f"
             ],
             [
              0.2222222222222222,
              "#7201a8"
             ],
             [
              0.3333333333333333,
              "#9c179e"
             ],
             [
              0.4444444444444444,
              "#bd3786"
             ],
             [
              0.5555555555555556,
              "#d8576b"
             ],
             [
              0.6666666666666666,
              "#ed7953"
             ],
             [
              0.7777777777777778,
              "#fb9f3a"
             ],
             [
              0.8888888888888888,
              "#fdca26"
             ],
             [
              1,
              "#f0f921"
             ]
            ],
            "type": "histogram2d"
           }
          ],
          "histogram2dcontour": [
           {
            "colorbar": {
             "outlinewidth": 0,
             "ticks": ""
            },
            "colorscale": [
             [
              0,
              "#0d0887"
             ],
             [
              0.1111111111111111,
              "#46039f"
             ],
             [
              0.2222222222222222,
              "#7201a8"
             ],
             [
              0.3333333333333333,
              "#9c179e"
             ],
             [
              0.4444444444444444,
              "#bd3786"
             ],
             [
              0.5555555555555556,
              "#d8576b"
             ],
             [
              0.6666666666666666,
              "#ed7953"
             ],
             [
              0.7777777777777778,
              "#fb9f3a"
             ],
             [
              0.8888888888888888,
              "#fdca26"
             ],
             [
              1,
              "#f0f921"
             ]
            ],
            "type": "histogram2dcontour"
           }
          ],
          "mesh3d": [
           {
            "colorbar": {
             "outlinewidth": 0,
             "ticks": ""
            },
            "type": "mesh3d"
           }
          ],
          "parcoords": [
           {
            "line": {
             "colorbar": {
              "outlinewidth": 0,
              "ticks": ""
             }
            },
            "type": "parcoords"
           }
          ],
          "pie": [
           {
            "automargin": true,
            "type": "pie"
           }
          ],
          "scatter": [
           {
            "fillpattern": {
             "fillmode": "overlay",
             "size": 10,
             "solidity": 0.2
            },
            "type": "scatter"
           }
          ],
          "scatter3d": [
           {
            "line": {
             "colorbar": {
              "outlinewidth": 0,
              "ticks": ""
             }
            },
            "marker": {
             "colorbar": {
              "outlinewidth": 0,
              "ticks": ""
             }
            },
            "type": "scatter3d"
           }
          ],
          "scattercarpet": [
           {
            "marker": {
             "colorbar": {
              "outlinewidth": 0,
              "ticks": ""
             }
            },
            "type": "scattercarpet"
           }
          ],
          "scattergeo": [
           {
            "marker": {
             "colorbar": {
              "outlinewidth": 0,
              "ticks": ""
             }
            },
            "type": "scattergeo"
           }
          ],
          "scattergl": [
           {
            "marker": {
             "colorbar": {
              "outlinewidth": 0,
              "ticks": ""
             }
            },
            "type": "scattergl"
           }
          ],
          "scattermapbox": [
           {
            "marker": {
             "colorbar": {
              "outlinewidth": 0,
              "ticks": ""
             }
            },
            "type": "scattermapbox"
           }
          ],
          "scatterpolar": [
           {
            "marker": {
             "colorbar": {
              "outlinewidth": 0,
              "ticks": ""
             }
            },
            "type": "scatterpolar"
           }
          ],
          "scatterpolargl": [
           {
            "marker": {
             "colorbar": {
              "outlinewidth": 0,
              "ticks": ""
             }
            },
            "type": "scatterpolargl"
           }
          ],
          "scatterternary": [
           {
            "marker": {
             "colorbar": {
              "outlinewidth": 0,
              "ticks": ""
             }
            },
            "type": "scatterternary"
           }
          ],
          "surface": [
           {
            "colorbar": {
             "outlinewidth": 0,
             "ticks": ""
            },
            "colorscale": [
             [
              0,
              "#0d0887"
             ],
             [
              0.1111111111111111,
              "#46039f"
             ],
             [
              0.2222222222222222,
              "#7201a8"
             ],
             [
              0.3333333333333333,
              "#9c179e"
             ],
             [
              0.4444444444444444,
              "#bd3786"
             ],
             [
              0.5555555555555556,
              "#d8576b"
             ],
             [
              0.6666666666666666,
              "#ed7953"
             ],
             [
              0.7777777777777778,
              "#fb9f3a"
             ],
             [
              0.8888888888888888,
              "#fdca26"
             ],
             [
              1,
              "#f0f921"
             ]
            ],
            "type": "surface"
           }
          ],
          "table": [
           {
            "cells": {
             "fill": {
              "color": "#EBF0F8"
             },
             "line": {
              "color": "white"
             }
            },
            "header": {
             "fill": {
              "color": "#C8D4E3"
             },
             "line": {
              "color": "white"
             }
            },
            "type": "table"
           }
          ]
         },
         "layout": {
          "annotationdefaults": {
           "arrowcolor": "#2a3f5f",
           "arrowhead": 0,
           "arrowwidth": 1
          },
          "autotypenumbers": "strict",
          "coloraxis": {
           "colorbar": {
            "outlinewidth": 0,
            "ticks": ""
           }
          },
          "colorscale": {
           "diverging": [
            [
             0,
             "#8e0152"
            ],
            [
             0.1,
             "#c51b7d"
            ],
            [
             0.2,
             "#de77ae"
            ],
            [
             0.3,
             "#f1b6da"
            ],
            [
             0.4,
             "#fde0ef"
            ],
            [
             0.5,
             "#f7f7f7"
            ],
            [
             0.6,
             "#e6f5d0"
            ],
            [
             0.7,
             "#b8e186"
            ],
            [
             0.8,
             "#7fbc41"
            ],
            [
             0.9,
             "#4d9221"
            ],
            [
             1,
             "#276419"
            ]
           ],
           "sequential": [
            [
             0,
             "#0d0887"
            ],
            [
             0.1111111111111111,
             "#46039f"
            ],
            [
             0.2222222222222222,
             "#7201a8"
            ],
            [
             0.3333333333333333,
             "#9c179e"
            ],
            [
             0.4444444444444444,
             "#bd3786"
            ],
            [
             0.5555555555555556,
             "#d8576b"
            ],
            [
             0.6666666666666666,
             "#ed7953"
            ],
            [
             0.7777777777777778,
             "#fb9f3a"
            ],
            [
             0.8888888888888888,
             "#fdca26"
            ],
            [
             1,
             "#f0f921"
            ]
           ],
           "sequentialminus": [
            [
             0,
             "#0d0887"
            ],
            [
             0.1111111111111111,
             "#46039f"
            ],
            [
             0.2222222222222222,
             "#7201a8"
            ],
            [
             0.3333333333333333,
             "#9c179e"
            ],
            [
             0.4444444444444444,
             "#bd3786"
            ],
            [
             0.5555555555555556,
             "#d8576b"
            ],
            [
             0.6666666666666666,
             "#ed7953"
            ],
            [
             0.7777777777777778,
             "#fb9f3a"
            ],
            [
             0.8888888888888888,
             "#fdca26"
            ],
            [
             1,
             "#f0f921"
            ]
           ]
          },
          "colorway": [
           "#636efa",
           "#EF553B",
           "#00cc96",
           "#ab63fa",
           "#FFA15A",
           "#19d3f3",
           "#FF6692",
           "#B6E880",
           "#FF97FF",
           "#FECB52"
          ],
          "font": {
           "color": "#2a3f5f"
          },
          "geo": {
           "bgcolor": "white",
           "lakecolor": "white",
           "landcolor": "#E5ECF6",
           "showlakes": true,
           "showland": true,
           "subunitcolor": "white"
          },
          "hoverlabel": {
           "align": "left"
          },
          "hovermode": "closest",
          "mapbox": {
           "style": "light"
          },
          "paper_bgcolor": "white",
          "plot_bgcolor": "#E5ECF6",
          "polar": {
           "angularaxis": {
            "gridcolor": "white",
            "linecolor": "white",
            "ticks": ""
           },
           "bgcolor": "#E5ECF6",
           "radialaxis": {
            "gridcolor": "white",
            "linecolor": "white",
            "ticks": ""
           }
          },
          "scene": {
           "xaxis": {
            "backgroundcolor": "#E5ECF6",
            "gridcolor": "white",
            "gridwidth": 2,
            "linecolor": "white",
            "showbackground": true,
            "ticks": "",
            "zerolinecolor": "white"
           },
           "yaxis": {
            "backgroundcolor": "#E5ECF6",
            "gridcolor": "white",
            "gridwidth": 2,
            "linecolor": "white",
            "showbackground": true,
            "ticks": "",
            "zerolinecolor": "white"
           },
           "zaxis": {
            "backgroundcolor": "#E5ECF6",
            "gridcolor": "white",
            "gridwidth": 2,
            "linecolor": "white",
            "showbackground": true,
            "ticks": "",
            "zerolinecolor": "white"
           }
          },
          "shapedefaults": {
           "line": {
            "color": "#2a3f5f"
           }
          },
          "ternary": {
           "aaxis": {
            "gridcolor": "white",
            "linecolor": "white",
            "ticks": ""
           },
           "baxis": {
            "gridcolor": "white",
            "linecolor": "white",
            "ticks": ""
           },
           "bgcolor": "#E5ECF6",
           "caxis": {
            "gridcolor": "white",
            "linecolor": "white",
            "ticks": ""
           }
          },
          "title": {
           "x": 0.05
          },
          "xaxis": {
           "automargin": true,
           "gridcolor": "white",
           "linecolor": "white",
           "ticks": "",
           "title": {
            "standoff": 15
           },
           "zerolinecolor": "white",
           "zerolinewidth": 2
          },
          "yaxis": {
           "automargin": true,
           "gridcolor": "white",
           "linecolor": "white",
           "ticks": "",
           "title": {
            "standoff": 15
           },
           "zerolinecolor": "white",
           "zerolinewidth": 2
          }
         }
        },
        "xaxis": {
         "anchor": "y",
         "domain": [
          0,
          1
         ],
         "title": {
          "text": "latency.cop"
         }
        },
        "yaxis": {
         "anchor": "x",
         "domain": [
          0,
          1
         ],
         "title": {
          "text": "cop.duration"
         }
        }
       }
      }
     },
     "metadata": {},
     "output_type": "display_data"
    }
   ],
   "source": [
    "\n",
    "fig = px.scatter(groupcontinous, x=\"latency.cop\", y=\"cop.duration\", color=\"male.age\", symbol=\"male.qual\", size=\"mating.success\", error_x = \"latency.cop.std\", error_y = \"cop.duration.std\")\n",
    "fig.show()\n",
    "fig.write_html(\"scatterlatcopduration.html\", include_plotlyjs=\"cdn\")\n"
   ]
  },
  {
   "cell_type": "code",
   "execution_count": null,
   "metadata": {},
   "outputs": [
    {
     "data": {
      "application/vnd.plotly.v1+json": {
       "config": {
        "plotlyServerURL": "https://plot.ly"
       },
       "data": [
        {
         "alignmentgroup": "True",
         "box": {
          "visible": true
         },
         "customdata": [
          [
           "116x85",
           1,
           116,
           "HL",
           12,
           0.1347,
           85,
           15,
           0.067,
           "1",
           "5/16/2023",
           "DB",
           null,
           2650,
           "N",
           1,
           1,
           0,
           0,
           0,
           1,
           87,
           390
          ],
          [
           "122x75",
           1,
           122,
           "LH",
           12,
           0.1818,
           75,
           15,
           0.0703,
           "1",
           "5/16/2023",
           "DB",
           0.0078,
           2156,
           "N",
           1,
           1,
           1,
           0,
           0,
           0,
           559,
           221
          ],
          [
           "123x86",
           1,
           123,
           "LH",
           13,
           0.1215,
           86,
           15,
           0.0788,
           "1",
           "5/16/2023",
           "DB",
           0.0069,
           2793,
           "N",
           0,
           1,
           1,
           1,
           1,
           1,
           162,
           1252
          ],
          [
           "124x76",
           1,
           124,
           "HL",
           12,
           0.1222,
           76,
           24,
           0.0621,
           "1",
           "5/16/2023",
           "DB",
           0.0235,
           2403,
           "N",
           0,
           0,
           0,
           0,
           0,
           0,
           null,
           0
          ],
          [
           "46x25",
           1,
           46,
           "HL",
           15,
           0.1645,
           25,
           20,
           0.0908,
           "1",
           "5/16/2023",
           "MMO",
           0.0137,
           2448,
           "N",
           0,
           0,
           1,
           1,
           1,
           1,
           null,
           0
          ],
          [
           "87x90",
           1,
           87,
           "LH",
           15,
           0.1755,
           90,
           19,
           0.108,
           "1",
           "5/16/2023",
           "MMO",
           0.0043,
           4770,
           "N",
           1,
           1,
           1,
           1,
           0,
           1,
           691,
           3880
          ],
          [
           "92x20",
           1,
           92,
           "LH",
           15,
           0.1554,
           20,
           19,
           0.0754,
           "1",
           "5/16/2023",
           "DB",
           0.008,
           4931,
           "N",
           0,
           1,
           1,
           0,
           0,
           0,
           107,
           4084
          ],
          [
           "93x80",
           1,
           93,
           "LH",
           11,
           0.1128,
           80,
           15,
           0.0832,
           "1",
           "5/16/2023",
           "MMO",
           0.0145,
           2475,
           "N",
           0,
           1,
           0,
           0,
           0,
           0,
           173,
           45
          ],
          [
           "95x77",
           1,
           95,
           "HL",
           12,
           0.169,
           77,
           15,
           0.1027,
           "1",
           "5/16/2023",
           "MMO",
           0.0099,
           1513,
           "Y",
           0,
           1,
           1,
           0,
           0,
           0,
           426,
           305
          ],
          [
           "99x89",
           1,
           99,
           "HL",
           11,
           0.1265,
           89,
           15,
           0.0854,
           "1",
           "5/16/2023",
           "MMO",
           0.0114,
           3706,
           "N",
           1,
           1,
           1,
           1,
           0,
           0,
           656,
           1874
          ],
          [
           "121x105",
           2,
           121,
           "LH",
           12,
           0.1159,
           105,
           17,
           0.0988,
           "1",
           "5/19/2023",
           "MMO",
           0.0064,
           2405,
           "N",
           1,
           0,
           0,
           1,
           1,
           1,
           null,
           0
          ],
          [
           "128x74",
           2,
           128,
           "HL",
           12,
           0.1512,
           74,
           16,
           0.0752,
           "1",
           "5/19/2023",
           "MMO",
           0.0057,
           2397,
           "N",
           1,
           1,
           1,
           1,
           0,
           0,
           185,
           469
          ],
          [
           "139x162",
           2,
           139,
           "HL",
           12,
           0.1675,
           162,
           15,
           0.0827,
           "1",
           "5/19/2023",
           "MMO",
           0.0072,
           4184,
           "N",
           1,
           1,
           1,
           1,
           1,
           1,
           600,
           2979
          ],
          [
           "144x157",
           2,
           144,
           "LH",
           12,
           0.1292,
           157,
           15,
           0.1126,
           "1",
           "5/19/2023",
           "MMO",
           0.0137,
           2405,
           "N",
           1,
           1,
           1,
           0,
           1,
           1,
           611,
           33
          ],
          [
           "149x109",
           2,
           149,
           "LH",
           12,
           0.1753,
           109,
           18,
           0.1165,
           "1",
           "5/19/2023",
           "MMO",
           0.0052,
           6017,
           "N",
           1,
           1,
           1,
           0,
           0,
           1,
           650,
           4573
          ],
          [
           "155x108",
           2,
           155,
           "LH",
           12,
           0.1591,
           108,
           18,
           0.117,
           "1",
           "5/19/2023",
           "MMO",
           0.0071,
           4209,
           "N",
           1,
           1,
           1,
           0,
           1,
           1,
           266,
           2042
          ],
          [
           "203x129",
           2,
           203,
           "HL",
           12,
           0.1102,
           129,
           16,
           0.0683,
           "1",
           "5/19/2023",
           "MMO",
           0.0056,
           4567,
           "N",
           1,
           1,
           1,
           0,
           0,
           0,
           199,
           3730
          ],
          [
           "44x64",
           2,
           44,
           "LH",
           12,
           0.1852,
           64,
           15,
           0.0653,
           "1",
           "5/19/2023",
           "MMO",
           0.009,
           2240,
           "Y",
           1,
           1,
           1,
           0,
           0,
           1,
           728,
           953
          ],
          [
           "53x113",
           2,
           53,
           "HL",
           12,
           0.1315,
           113,
           15,
           0.0793,
           "1",
           "5/19/2023",
           "MMO",
           0.0083,
           2441,
           "N",
           1,
           1,
           1,
           1,
           0,
           0,
           286,
           768
          ],
          [
           "56x62",
           2,
           56,
           "HL",
           12,
           0.1243,
           62,
           17,
           0.0671,
           "1",
           "5/19/2023",
           "MMO",
           0.0092,
           4334,
           "N",
           1,
           1,
           1,
           0,
           0,
           1,
           361,
           2603
          ],
          [
           "125x161",
           3,
           125,
           "HL",
           14,
           0.1836,
           161,
           15,
           0.1031,
           "1",
           "5/22/2023",
           "DB",
           0.0133,
           4041,
           "N",
           0,
           1,
           1,
           1,
           1,
           1,
           262,
           3036
          ],
          [
           "138x100",
           3,
           138,
           "LH",
           13,
           0.1931,
           100,
           17,
           0.0965,
           "1",
           "5/22/2023",
           "DB",
           0.0028,
           3228,
           "N",
           1,
           1,
           1,
           1,
           1,
           1,
           597,
           1835
          ],
          [
           "141x135",
           3,
           141,
           "LH",
           14,
           0.187,
           135,
           15,
           0.0911,
           "1",
           "5/22/2023",
           "DB",
           0.0119,
           5412,
           "N",
           1,
           1,
           1,
           1,
           0,
           1,
           1078,
           3144
          ],
          [
           "142x60",
           3,
           142,
           "HL",
           14,
           0.1383,
           60,
           17,
           0.0585,
           "1",
           "5/22/2023",
           "MMO",
           0.0064,
           2502,
           "N",
           0,
           0,
           0,
           1,
           0,
           0,
           null,
           0
          ],
          [
           "143x134",
           3,
           143,
           "HL",
           13,
           0.2311,
           134,
           17,
           0.0853,
           "1",
           "5/22/2023",
           "MMO",
           0.0082,
           2411,
           "N",
           1,
           1,
           1,
           0,
           1,
           1,
           494,
           1032
          ],
          [
           "153x159",
           3,
           153,
           "HL",
           14,
           0.1741,
           159,
           15,
           0.0853,
           "1",
           "5/22/2023",
           "MMO",
           0.0073,
           4996,
           "N",
           1,
           1,
           1,
           0,
           0,
           0,
           117,
           3562
          ],
          [
           "42x156",
           3,
           42,
           "HL",
           13,
           0.1294,
           156,
           15,
           0.0882,
           "1",
           "5/22/2023",
           "DB",
           0.0135,
           2317,
           "N",
           0,
           1,
           1,
           1,
           0,
           1,
           120,
           1806
          ],
          [
           "48x133",
           3,
           48,
           "LH",
           13,
           0.1292,
           133,
           15,
           0.0637,
           "1",
           "5/22/2023",
           "MMO",
           0.0029,
           2419,
           "N",
           0,
           0,
           0,
           0,
           0,
           0,
           null,
           0
          ],
          [
           "50x107",
           3,
           50,
           "LH",
           14,
           0.1314,
           107,
           15,
           0.0841,
           "1",
           "5/22/2023",
           "MMO",
           0.0152,
           3257,
           "N",
           0,
           1,
           1,
           0,
           1,
           1,
           575,
           2613
          ],
          [
           "94x118",
           3,
           94,
           "LH",
           13,
           0.1673,
           118,
           15,
           0.0866,
           "1",
           "5/22/2023",
           "DB",
           0.0052,
           3804,
           "N",
           0,
           1,
           1,
           1,
           0,
           1,
           941,
           2306
          ],
          [
           "115x230",
           4,
           115,
           "HL",
           15,
           0.1792,
           230,
           17,
           0.0798,
           "1",
           "5/25/2023",
           "DB",
           0.0047,
           2446,
           "N",
           1,
           1,
           0,
           1,
           1,
           1,
           1011,
           11
          ],
          [
           "140x246",
           4,
           140,
           "LH",
           16,
           0.1784,
           246,
           18,
           0.089,
           "1",
           "5/25/2023",
           "DB",
           0.0068,
           3262,
           "N",
           1,
           1,
           1,
           1,
           1,
           1,
           447,
           1920
          ],
          [
           "145x218",
           4,
           145,
           "HL",
           15,
           0.1979,
           218,
           17,
           0.0955,
           "1",
           "5/25/2023",
           "MMO",
           0.0092,
           5090,
           "N",
           0,
           1,
           1,
           1,
           1,
           1,
           893,
           4008
          ],
          [
           "150x167",
           4,
           150,
           "HL",
           16,
           0.1818,
           167,
           18,
           0.0929,
           "1",
           "5/25/2023",
           "MMO",
           0.0078,
           4258,
           "N",
           1,
           1,
           1,
           0,
           1,
           1,
           455,
           3734
          ],
          [
           "152x160",
           4,
           152,
           "HL",
           16,
           0.2096,
           160,
           17,
           0.1214,
           "1",
           "5/25/2023",
           "MMO",
           0.0092,
           5437,
           "N",
           0,
           1,
           1,
           1,
           1,
           1,
           640,
           4750
          ],
          [
           "178x240",
           4,
           178,
           "LH",
           15,
           0.1933,
           240,
           17,
           0.1207,
           "1",
           "5/25/2023",
           "DB",
           0.0058,
           5674,
           "N",
           1,
           1,
           1,
           1,
           1,
           1,
           1139,
           4293
          ],
          [
           "184x170",
           4,
           184,
           "HL",
           16,
           0.1748,
           170,
           18,
           0.096,
           "1",
           "5/25/2023",
           "DB",
           0.0109,
           2744,
           "N",
           0,
           1,
           1,
           0,
           0,
           1,
           295,
           2324
          ],
          [
           "192x223",
           4,
           192,
           "LH",
           16,
           0.1746,
           223,
           18,
           0.063,
           "1",
           "5/25/2023",
           "MMO",
           0.0135,
           2423,
           "N",
           0,
           0,
           0,
           1,
           0,
           0,
           null,
           0
          ],
          [
           "194x171",
           4,
           194,
           "LH",
           16,
           0.1618,
           171,
           18,
           0.0932,
           "1",
           "5/25/2023",
           "DB",
           0.0139,
           7290,
           "N",
           0,
           1,
           1,
           0,
           1,
           1,
           589,
           5778
          ],
          [
           "174x231",
           5,
           174,
           "HL",
           17,
           0.1028,
           231,
           18,
           0.091,
           "1",
           "5/28/2023",
           "DB",
           0.007,
           3121,
           "N",
           0,
           1,
           1,
           1,
           0,
           0,
           449,
           2092
          ],
          [
           "175x245",
           5,
           175,
           "LH",
           17,
           0.129,
           245,
           18,
           0.1065,
           "1",
           "5/28/2023",
           "DB",
           0.0052,
           4550,
           "N",
           0,
           1,
           1,
           1,
           1,
           1,
           487,
           3743
          ],
          [
           "176x221",
           5,
           176,
           "HL",
           17,
           0.1474,
           221,
           17,
           0.0729,
           "1",
           "5/28/2023",
           "DB",
           0.0069,
           795,
           "Y",
           0,
           0,
           0,
           1,
           1,
           1,
           null,
           0
          ],
          [
           "188x234",
           5,
           188,
           "HL",
           18,
           0.16,
           234,
           18,
           0.12,
           "1",
           "5/28/2023",
           "DB",
           0.0064,
           5917,
           "N",
           1,
           1,
           1,
           0,
           1,
           1,
           1044,
           4760
          ],
          [
           "189x247",
           5,
           189,
           "LH",
           18,
           0.1215,
           247,
           18,
           0.0731,
           "1",
           "5/28/2023",
           "DB",
           0.0083,
           2401,
           "N",
           1,
           1,
           1,
           1,
           1,
           0,
           671,
           1003
          ],
          [
           "190x228",
           5,
           190,
           "LH",
           18,
           0.1449,
           228,
           19,
           0.1097,
           "1",
           "5/28/2023",
           "DB",
           0.0063,
           4147,
           "N",
           0,
           1,
           1,
           0,
           1,
           1,
           153,
           3120
          ],
          [
           "193x233",
           5,
           193,
           "LH",
           18,
           0.1651,
           233,
           17,
           0.0836,
           "1",
           "5/28/2023",
           "DB",
           0.0042,
           6677,
           "N",
           0,
           1,
           1,
           1,
           1,
           1,
           1805,
           4541
          ],
          [
           "200x173",
           5,
           200,
           "HL",
           18,
           0.1537,
           173,
           18,
           0.1096,
           "1",
           "5/28/2023",
           "DB",
           0.0075,
           4132,
           "N",
           1,
           1,
           1,
           1,
           1,
           1,
           545,
           2905
          ],
          [
           "51x81",
           5,
           51,
           "LH",
           17,
           0.1594,
           81,
           18,
           0.0992,
           "1",
           "5/28/2023",
           "DB",
           0.0089,
           3821,
           "N",
           0,
           1,
           1,
           0,
           0,
           0,
           298,
           1975
          ],
          [
           "71x232",
           5,
           71,
           "HL",
           17,
           0.1276,
           232,
           19,
           0.083,
           "1",
           "5/28/2023",
           "DB",
           0.01,
           4916,
           "N",
           1,
           1,
           1,
           1,
           0,
           1,
           597,
           3802
          ],
          [
           "154x248",
           6,
           154,
           "LH",
           24,
           0.1214,
           248,
           13,
           0.1038,
           "1",
           "5/31/2023",
           "DB",
           0.0182,
           2406,
           "N",
           1,
           1,
           1,
           1,
           1,
           1,
           635,
           987
          ],
          [
           "196x127",
           6,
           196,
           "HL",
           19,
           0.1574,
           127,
           17,
           0.0958,
           "1",
           "5/31/2023",
           "DB",
           0.0035,
           2465,
           "N",
           0,
           1,
           1,
           0,
           1,
           1,
           234,
           1251
          ],
          [
           "197x236",
           6,
           197,
           "LH",
           20,
           0.1472,
           236,
           20,
           0.111,
           "1",
           "5/31/2023",
           "DB",
           0.0144,
           4101,
           "N",
           1,
           1,
           1,
           0,
           0,
           0,
           500,
           2171
          ],
          [
           "202x219",
           6,
           202,
           "LH",
           20,
           0.1434,
           219,
           19,
           0.0941,
           "1",
           "5/31/2023",
           "DB",
           0.0031,
           2409,
           "N",
           1,
           1,
           1,
           1,
           0,
           1,
           298,
           1798
          ],
          [
           "208x249",
           6,
           208,
           "HL",
           20,
           0.1648,
           249,
           13,
           0.1171,
           "1",
           "5/31/2023",
           "DB",
           0.0031,
           4436,
           "N",
           1,
           1,
           1,
           1,
           1,
           1,
           984,
           2815
          ],
          [
           "209x250",
           6,
           209,
           "LH",
           20,
           0.1919,
           250,
           13,
           0.0979,
           "1",
           "5/31/2023",
           "DB",
           0.0034,
           4251,
           "N",
           1,
           1,
           1,
           1,
           0,
           1,
           723,
           2653
          ],
          [
           "213x59",
           6,
           213,
           "HL",
           20,
           0.1533,
           59,
           16,
           0.0779,
           "1",
           "5/31/2023",
           "DB",
           0.0069,
           2391,
           "N",
           0,
           1,
           1,
           0,
           0,
           0,
           357,
           1318
          ],
          [
           "263x238",
           6,
           263,
           "HL",
           15,
           0.1464,
           238,
           20,
           0.1025,
           "1",
           "5/31/2023",
           "DB",
           0.0068,
           3174,
           "N",
           1,
           1,
           1,
           1,
           0,
           1,
           372,
           2223
          ],
          [
           "91x222",
           6,
           91,
           "HL",
           19,
           0.1231,
           222,
           19,
           0.0798,
           "1",
           "5/31/2023",
           "DB",
           0.0107,
           4460,
           "N",
           1,
           1,
           1,
           1,
           1,
           1,
           650,
           3712
          ]
         ],
         "hovertemplate": "mating.order=%{customdata[9]}<br>male.qual=%{x}<br>latency.gift=%{y}<br>mating.ID=%{customdata[0]}<br>cohort=%{customdata[1]}<br>female.ID=%{customdata[2]}<br>female.group=%{customdata[3]}<br>female.age=%{customdata[4]}<br>female.wt=%{customdata[5]}<br>male.ID=%{customdata[6]}<br>male.age=%{customdata[7]}<br>male.wt=%{customdata[8]}<br>date=%{customdata[10]}<br>scorer=%{customdata[11]}<br>gift.wt=%{customdata[12]}<br>trial.dur=%{customdata[13]}<br>female.aggression=%{customdata[14]}<br>male.w.gift=%{customdata[15]}<br>mating.success=%{customdata[16]}<br>gift.acceptance=%{customdata[17]}<br>signal=%{customdata[18]}<br>wrapping=%{customdata[19]}<br>rubbing=%{customdata[20]}<br>latency.cop=%{customdata[21]}<br>cop.duration=%{customdata[22]}<extra></extra>",
         "legendgroup": "1",
         "marker": {
          "color": "#636efa"
         },
         "name": "1",
         "offsetgroup": "1",
         "orientation": "v",
         "points": "all",
         "scalegroup": "True",
         "showlegend": true,
         "type": "violin",
         "x": [
          "H",
          "L",
          "L",
          "H",
          "H",
          "L",
          "L",
          "L",
          "H",
          "H",
          "L",
          "H",
          "H",
          "L",
          "L",
          "L",
          "H",
          "L",
          "H",
          "H",
          "H",
          "L",
          "L",
          "H",
          "H",
          "H",
          "H",
          "L",
          "L",
          "L",
          "H",
          "L",
          "H",
          "H",
          "H",
          "L",
          "H",
          "L",
          "L",
          "H",
          "L",
          "H",
          "H",
          "L",
          "L",
          "L",
          "H",
          "L",
          "H",
          "L",
          "H",
          "L",
          "L",
          "H",
          "L",
          "H",
          "H",
          "H"
         ],
         "x0": " ",
         "xaxis": "x",
         "y": [
          null,
          293,
          2092,
          null,
          237,
          608,
          70,
          null,
          279,
          502,
          null,
          95,
          537,
          null,
          262,
          172,
          93,
          591,
          232,
          256,
          812,
          378,
          870,
          null,
          425,
          51,
          442,
          null,
          474,
          330,
          null,
          403,
          667,
          376,
          544,
          1075,
          158,
          null,
          520,
          250,
          367,
          null,
          397,
          603,
          385,
          1726,
          410,
          289,
          466,
          410,
          1236,
          139,
          170,
          634,
          561,
          132,
          232,
          564
         ],
         "y0": " ",
         "yaxis": "y"
        },
        {
         "alignmentgroup": "True",
         "box": {
          "visible": true
         },
         "customdata": [
          [
           "116x86",
           1,
           116,
           "HL",
           12,
           0.1347,
           86,
           15,
           0.0788,
           "2",
           "5/17/2023",
           "MMO",
           0.014,
           6453,
           "N",
           1,
           1,
           1,
           0,
           0,
           1,
           606,
           3869
          ],
          [
           "122x76",
           1,
           122,
           "LH",
           12,
           0.1818,
           76,
           24,
           0.0621,
           "2",
           "5/17/2023",
           "MMO",
           0.0085,
           1567,
           "Y",
           1,
           0,
           0,
           0,
           0,
           0,
           null,
           0
          ],
          [
           "123x89",
           1,
           123,
           "LH",
           13,
           0.1215,
           89,
           15,
           0.0854,
           "2",
           "5/17/2023",
           "MMO",
           0.0112,
           2399,
           "N",
           0,
           1,
           1,
           0,
           0,
           0,
           243,
           685
          ],
          [
           "124x20",
           1,
           124,
           "HL",
           12,
           0.1222,
           20,
           19,
           0.0754,
           "2",
           "5/17/2023",
           "MMO",
           0.0168,
           2459,
           "N",
           0,
           1,
           1,
           0,
           0,
           1,
           545,
           1244
          ],
          [
           "46x80",
           1,
           46,
           "HL",
           15,
           0.1645,
           80,
           15,
           0.0832,
           "2",
           "5/17/2023",
           "MMO",
           0.012,
           6595,
           "N",
           1,
           1,
           1,
           1,
           0,
           1,
           383,
           5602
          ],
          [
           "87x77",
           1,
           87,
           "LH",
           15,
           0.1755,
           77,
           15,
           0.1027,
           "2",
           "5/17/2023",
           "MMO",
           0.0075,
           2406,
           "N",
           1,
           0,
           0,
           1,
           0,
           1,
           null,
           0
          ],
          [
           "92x25",
           1,
           92,
           "LH",
           15,
           0.1554,
           25,
           20,
           0.0908,
           "2",
           "5/17/2023",
           "MMO",
           0.0084,
           2407,
           "N",
           1,
           1,
           1,
           1,
           1,
           1,
           544,
           442
          ],
          [
           "93x85",
           1,
           93,
           "LH",
           11,
           0.1128,
           85,
           15,
           0.067,
           "2",
           "5/17/2023",
           "MMO",
           0.0092,
           2943,
           "N",
           1,
           1,
           1,
           0,
           0,
           0,
           928,
           1981
          ],
          [
           "95x90",
           1,
           95,
           "HL",
           12,
           0.169,
           90,
           19,
           0.108,
           "2",
           "5/17/2023",
           "MMO",
           0.0042,
           2379,
           "N",
           0,
           0,
           0,
           0,
           0,
           0,
           null,
           0
          ],
          [
           "99x75",
           1,
           99,
           "HL",
           11,
           0.1265,
           75,
           15,
           0.0703,
           "2",
           "5/17/2023",
           "MMO",
           0.0139,
           2386,
           "N",
           1,
           1,
           1,
           0,
           0,
           0,
           422,
           1248
          ],
          [
           "121x162",
           2,
           121,
           "LH",
           12,
           0.1159,
           162,
           15,
           0.0827,
           "2",
           "5/20/2023",
           "MMO",
           null,
           2826,
           "N",
           0,
           1,
           1,
           1,
           1,
           1,
           729,
           2094
          ],
          [
           "128x108",
           2,
           128,
           "HL",
           12,
           0.1512,
           108,
           18,
           0.117,
           "2",
           "5/20/2023",
           "MMO",
           0.0178,
           286,
           "Y",
           0,
           0,
           0,
           0,
           0,
           0,
           null,
           0
          ],
          [
           "139x157",
           2,
           139,
           "HL",
           12,
           0.1675,
           157,
           15,
           0.1126,
           "2",
           "5/20/2023",
           "DB",
           0.0175,
           5706,
           "N",
           1,
           1,
           1,
           0,
           0,
           0,
           160,
           4781
          ],
          [
           "144x113",
           2,
           144,
           "LH",
           12,
           0.1292,
           113,
           15,
           0.0793,
           "2",
           "5/20/2023",
           "DB",
           0.0174,
           2401,
           "N",
           1,
           1,
           1,
           0,
           0,
           1,
           661,
           790
          ],
          [
           "149x62",
           2,
           149,
           "LH",
           12,
           0.1753,
           62,
           17,
           0.0671,
           "2",
           "5/20/2023",
           "MMO",
           0.0049,
           1041,
           "Y",
           0,
           0,
           0,
           0,
           0,
           0,
           null,
           0
          ],
          [
           "155x113",
           2,
           155,
           "LH",
           12,
           0.1591,
           113,
           15,
           0.0793,
           "2",
           "5/20/2023",
           "MMO",
           0.0174,
           1363,
           "Y",
           0,
           0,
           0,
           0,
           0,
           0,
           null,
           0
          ],
          [
           "203x105",
           2,
           203,
           "HL",
           12,
           0.1102,
           105,
           17,
           0.0988,
           "2",
           "5/20/2023",
           "MMO",
           0.0147,
           2410,
           "N",
           1,
           0,
           0,
           1,
           0,
           0,
           null,
           0
          ],
          [
           "44x74",
           2,
           44,
           "LH",
           12,
           0.1852,
           74,
           16,
           0.0752,
           "2",
           "5/20/2023",
           "MMO",
           0.0161,
           2447,
           "N",
           1,
           0,
           1,
           1,
           0,
           0,
           null,
           0
          ],
          [
           "53x105",
           2,
           53,
           "HL",
           12,
           0.1315,
           105,
           17,
           0.0988,
           "2",
           "5/20/2023",
           "MMO",
           0.0147,
           5230,
           "N",
           1,
           1,
           1,
           1,
           0,
           1,
           906,
           3624
          ],
          [
           "56x109",
           2,
           56,
           "HL",
           12,
           0.1243,
           109,
           18,
           0.1165,
           "2",
           "5/20/2023",
           "DB",
           0.0043,
           3783,
           "N",
           0,
           1,
           1,
           0,
           1,
           1,
           416,
           3176
          ],
          [
           "125x107",
           3,
           125,
           "HL",
           14,
           0.1836,
           107,
           15,
           0.0841,
           "2",
           "5/23/2023",
           "MMO",
           0.0061,
           2472,
           "N",
           1,
           1,
           1,
           0,
           1,
           0,
           82,
           584
          ],
          [
           "138x161",
           3,
           138,
           "LH",
           13,
           0.1931,
           161,
           15,
           0.1031,
           "2",
           "5/23/2023",
           "DB",
           0.0181,
           139,
           "Y",
           0,
           0,
           0,
           0,
           0,
           0,
           null,
           0
          ],
          [
           "141x159",
           3,
           141,
           "LH",
           14,
           0.187,
           159,
           15,
           0.0853,
           "2",
           "5/23/2023",
           "MMO",
           0.0105,
           104,
           "Y",
           1,
           0,
           0,
           0,
           0,
           0,
           null,
           0
          ],
          [
           "142x135",
           3,
           142,
           "HL",
           14,
           0.1383,
           135,
           15,
           0.0911,
           "2",
           "5/23/2023",
           "DB",
           0.0121,
           2431,
           "N",
           1,
           1,
           1,
           0,
           0,
           0,
           285,
           1669
          ],
          [
           "143x100",
           3,
           143,
           "HL",
           13,
           0.2311,
           100,
           17,
           0.0965,
           "2",
           "5/23/2023",
           "DB",
           0.0083,
           3857,
           "N",
           0,
           1,
           1,
           1,
           0,
           1,
           730,
           2547
          ],
          [
           "153x133",
           3,
           153,
           "HL",
           14,
           0.1741,
           133,
           15,
           0.0637,
           "2",
           "5/23/2023",
           "DB",
           0.0104,
           61,
           "Y",
           1,
           0,
           0,
           0,
           0,
           0,
           null,
           0
          ],
          [
           "42x118",
           3,
           42,
           "HL",
           13,
           0.1294,
           118,
           15,
           0.0866,
           "2",
           "5/23/2023",
           "DB",
           0.0047,
           2458,
           "N",
           0,
           0,
           0,
           1,
           1,
           1,
           null,
           0
          ],
          [
           "48x60",
           3,
           48,
           "LH",
           13,
           0.1292,
           60,
           17,
           0.0585,
           "2",
           "5/23/2023",
           "MMO",
           0.0118,
           2402,
           "N",
           1,
           1,
           1,
           0,
           0,
           0,
           389,
           395
          ],
          [
           "50x134",
           3,
           50,
           "LH",
           14,
           0.1314,
           134,
           17,
           0.0853,
           "2",
           "5/23/2023",
           "MMO",
           0.0192,
           2410,
           "N",
           1,
           0,
           0,
           1,
           1,
           1,
           null,
           0
          ],
          [
           "94x156",
           3,
           94,
           "LH",
           13,
           0.1673,
           156,
           15,
           0.0882,
           "2",
           "5/23/2023",
           "MMO",
           0.0093,
           4531,
           "N",
           1,
           1,
           1,
           0,
           0,
           0,
           613,
           3738
          ],
          [
           "115x171",
           4,
           115,
           "HL",
           15,
           0.1792,
           171,
           18,
           0.0932,
           "2",
           "5/26/2023",
           "DB",
           0.0146,
           2404,
           "N",
           1,
           0,
           0,
           1,
           1,
           1,
           null,
           0
          ],
          [
           "140x230",
           4,
           140,
           "LH",
           16,
           0.1784,
           230,
           17,
           0.0798,
           "2",
           "5/26/2023",
           "MMO",
           0.0047,
           2435,
           "N",
           1,
           1,
           1,
           0,
           0,
           1,
           318,
           356
          ],
          [
           "145x223",
           4,
           145,
           "HL",
           15,
           0.1979,
           223,
           18,
           0.063,
           "2",
           "5/26/2023",
           "DB",
           0.0028,
           2410,
           "N",
           1,
           0,
           0,
           1,
           0,
           1,
           null,
           0
          ],
          [
           "150x240",
           4,
           150,
           "HL",
           16,
           0.1818,
           240,
           17,
           0.1207,
           "2",
           "5/26/2023",
           "DB",
           0.0056,
           2411,
           "N",
           0,
           0,
           0,
           1,
           0,
           0,
           null,
           0
          ],
          [
           "152x163",
           4,
           152,
           "HL",
           16,
           0.2096,
           163,
           18,
           0.1101,
           "2",
           "5/26/2023",
           "MMO",
           0.0048,
           2398,
           "N",
           1,
           0,
           0,
           1,
           0,
           1,
           null,
           0
          ],
          [
           "178x160",
           4,
           178,
           "LH",
           15,
           0.1933,
           160,
           17,
           0.1214,
           "2",
           "5/26/2023",
           "MMO",
           0.007,
           4525,
           "N",
           1,
           1,
           1,
           1,
           0,
           1,
           619,
           3575
          ],
          [
           "184x246",
           4,
           184,
           "HL",
           16,
           0.1748,
           246,
           18,
           0.089,
           "2",
           "5/26/2023",
           "DB",
           0.0071,
           2418,
           "N",
           1,
           0,
           0,
           1,
           1,
           1,
           null,
           0
          ],
          [
           "192x167",
           4,
           192,
           "LH",
           16,
           0.1746,
           167,
           18,
           0.0929,
           "2",
           "5/26/2023",
           "MMO",
           0.0213,
           2665,
           "N",
           0,
           0,
           0,
           0,
           1,
           1,
           null,
           0
          ],
          [
           "194x170",
           4,
           194,
           "LH",
           16,
           0.1618,
           170,
           18,
           0.096,
           "2",
           "5/26/2023",
           "MMO",
           0.0104,
           2400,
           "N",
           0,
           0,
           0,
           0,
           0,
           0,
           null,
           0
          ],
          [
           "174x233",
           5,
           174,
           "HL",
           17,
           0.1028,
           233,
           17,
           0.0836,
           "2",
           "5/29/2023",
           "PH",
           0.0024,
           2397,
           "N",
           0,
           0,
           0,
           0,
           0,
           0,
           209,
           135
          ],
          [
           "175x232",
           5,
           175,
           "LH",
           17,
           0.129,
           232,
           19,
           0.083,
           "2",
           "5/29/2023",
           "PH",
           0.0035,
           7573,
           "N",
           0,
           1,
           1,
           1,
           0,
           0,
           2819,
           4561
          ],
          [
           "176x247",
           5,
           176,
           "HL",
           17,
           0.1474,
           247,
           18,
           0.0731,
           "2",
           "5/29/2023",
           "PH",
           0.0081,
           3470,
           "N",
           1,
           1,
           1,
           1,
           0,
           0,
           313,
           1940
          ],
          [
           "189x234",
           5,
           189,
           "LH",
           18,
           0.1215,
           234,
           18,
           0.12,
           "2",
           "5/29/2023",
           "PH",
           0.0106,
           2538,
           "N",
           1,
           0,
           1,
           0,
           1,
           0,
           null,
           0
          ],
          [
           "190x173",
           5,
           190,
           "LH",
           18,
           0.1449,
           173,
           18,
           0.1096,
           "2",
           "5/29/2023",
           "DB",
           0.0049,
           2459,
           "N",
           0,
           0,
           0,
           0,
           0,
           0,
           null,
           0
          ],
          [
           "193x221",
           5,
           193,
           "LH",
           18,
           0.1651,
           221,
           17,
           0.0729,
           "2",
           "5/29/2023",
           "DB",
           0.0167,
           8040,
           "N",
           1,
           1,
           1,
           0,
           0,
           0,
           1409,
           6041
          ],
          [
           "200x245",
           5,
           200,
           "HL",
           18,
           0.1537,
           245,
           18,
           0.1065,
           "2",
           "5/29/2023",
           "DB",
           0.014,
           3522,
           "N",
           0,
           1,
           1,
           1,
           1,
           1,
           772,
           2501
          ],
          [
           "51x231",
           5,
           51,
           "LH",
           17,
           0.1594,
           231,
           18,
           0.091,
           "2",
           "5/29/2023",
           "DB",
           0.0088,
           2433,
           "N",
           0,
           0,
           0,
           1,
           0,
           0,
           null,
           0
          ],
          [
           "71x228",
           5,
           71,
           "HL",
           17,
           0.1276,
           228,
           19,
           0.1097,
           "2",
           "5/29/2023",
           "DB",
           0.0061,
           2392,
           "N",
           0,
           0,
           0,
           1,
           0,
           1,
           null,
           0
          ],
          [
           "154x222",
           6,
           154,
           "LH",
           24,
           0.1214,
           222,
           19,
           0.0798,
           "2",
           "6/1/2023",
           "DB",
           0.0108,
           2403,
           "N",
           0,
           0,
           0,
           1,
           1,
           1,
           null,
           0
          ],
          [
           "196x219",
           6,
           196,
           "HL",
           19,
           0.1574,
           219,
           19,
           0.0941,
           "2",
           "6/1/2023",
           "DB",
           0.0152,
           7260,
           "N",
           1,
           1,
           1,
           1,
           0,
           0,
           292,
           6672
          ],
          [
           "197x238",
           6,
           197,
           "LH",
           20,
           0.1472,
           238,
           20,
           0.1025,
           "2",
           "6/1/2023",
           "DB",
           0.0053,
           4554,
           "N",
           0,
           1,
           1,
           1,
           1,
           1,
           847,
           3056
          ],
          [
           "202x127",
           6,
           202,
           "LH",
           20,
           0.1434,
           127,
           17,
           0.0958,
           "2",
           "6/1/2023",
           "DB",
           0.0061,
           2392,
           "N",
           1,
           1,
           1,
           0,
           0,
           0,
           38,
           379
          ],
          [
           "208x266",
           6,
           208,
           "HL",
           20,
           0.1648,
           266,
           19,
           0.0962,
           "2",
           "6/1/2023",
           "DB",
           0.0156,
           6054,
           "N",
           0,
           1,
           1,
           1,
           1,
           1,
           1990,
           3742
          ],
          [
           "209x249",
           6,
           209,
           "LH",
           20,
           0.1919,
           249,
           13,
           0.1171,
           "2",
           "6/1/2023",
           "DB",
           0.0047,
           3522,
           "N",
           1,
           1,
           1,
           0,
           0,
           0,
           729,
           2097
          ],
          [
           "213x250",
           6,
           213,
           "HL",
           20,
           0.1533,
           250,
           13,
           0.0979,
           "2",
           "6/1/2023",
           "DB",
           0.0122,
           4229,
           "N",
           1,
           1,
           1,
           0,
           0,
           0,
           99,
           3406
          ],
          [
           "263x236",
           6,
           263,
           "HL",
           15,
           0.1464,
           236,
           20,
           0.111,
           "2",
           "6/1/2023",
           "DB",
           0.0139,
           2411,
           "N",
           0,
           0,
           0,
           1,
           0,
           0,
           null,
           0
          ],
          [
           "91x248",
           6,
           91,
           "HL",
           19,
           0.1231,
           248,
           13,
           0.1038,
           "2",
           "6/1/2023",
           "DB",
           0.0125,
           5998,
           "N",
           1,
           1,
           1,
           1,
           1,
           1,
           773,
           4785
          ]
         ],
         "hovertemplate": "mating.order=%{customdata[9]}<br>male.qual=%{x}<br>latency.gift=%{y}<br>mating.ID=%{customdata[0]}<br>cohort=%{customdata[1]}<br>female.ID=%{customdata[2]}<br>female.group=%{customdata[3]}<br>female.age=%{customdata[4]}<br>female.wt=%{customdata[5]}<br>male.ID=%{customdata[6]}<br>male.age=%{customdata[7]}<br>male.wt=%{customdata[8]}<br>date=%{customdata[10]}<br>scorer=%{customdata[11]}<br>gift.wt=%{customdata[12]}<br>trial.dur=%{customdata[13]}<br>female.aggression=%{customdata[14]}<br>male.w.gift=%{customdata[15]}<br>mating.success=%{customdata[16]}<br>gift.acceptance=%{customdata[17]}<br>signal=%{customdata[18]}<br>wrapping=%{customdata[19]}<br>rubbing=%{customdata[20]}<br>latency.cop=%{customdata[21]}<br>cop.duration=%{customdata[22]}<extra></extra>",
         "legendgroup": "2",
         "marker": {
          "color": "#EF553B"
         },
         "name": "2",
         "offsetgroup": "2",
         "orientation": "v",
         "points": "all",
         "scalegroup": "True",
         "showlegend": true,
         "type": "violin",
         "x": [
          "L",
          "H",
          "H",
          "L",
          "L",
          "H",
          "H",
          "H",
          "L",
          "L",
          "H",
          "L",
          "L",
          "H",
          "H",
          "H",
          "L",
          "H",
          "L",
          "L",
          "L",
          "H",
          "H",
          "L",
          "L",
          "L",
          "L",
          "H",
          "H",
          "H",
          "L",
          "H",
          "L",
          "L",
          "L",
          "H",
          "L",
          "H",
          "H",
          "L",
          "H",
          "L",
          "H",
          "H",
          "H",
          "L",
          "H",
          "L",
          "H",
          "L",
          "H",
          "H",
          "L",
          "H",
          "L",
          "L",
          "L"
         ],
         "x0": " ",
         "xaxis": "x",
         "y": [
          529,
          null,
          64,
          916,
          301,
          null,
          283,
          16,
          null,
          8,
          684,
          null,
          24,
          545,
          1011,
          null,
          null,
          309,
          855,
          315,
          17,
          null,
          null,
          54,
          501,
          null,
          null,
          121,
          null,
          41,
          null,
          76,
          null,
          null,
          null,
          170,
          null,
          1739,
          null,
          null,
          1773,
          1902,
          2344,
          null,
          21,
          583,
          null,
          null,
          null,
          98,
          646,
          16,
          1701,
          16,
          19,
          null,
          581
         ],
         "y0": " ",
         "yaxis": "y"
        }
       ],
       "layout": {
        "legend": {
         "title": {
          "text": "mating.order"
         },
         "tracegroupgap": 0
        },
        "margin": {
         "t": 60
        },
        "template": {
         "data": {
          "bar": [
           {
            "error_x": {
             "color": "#2a3f5f"
            },
            "error_y": {
             "color": "#2a3f5f"
            },
            "marker": {
             "line": {
              "color": "#E5ECF6",
              "width": 0.5
             },
             "pattern": {
              "fillmode": "overlay",
              "size": 10,
              "solidity": 0.2
             }
            },
            "type": "bar"
           }
          ],
          "barpolar": [
           {
            "marker": {
             "line": {
              "color": "#E5ECF6",
              "width": 0.5
             },
             "pattern": {
              "fillmode": "overlay",
              "size": 10,
              "solidity": 0.2
             }
            },
            "type": "barpolar"
           }
          ],
          "carpet": [
           {
            "aaxis": {
             "endlinecolor": "#2a3f5f",
             "gridcolor": "white",
             "linecolor": "white",
             "minorgridcolor": "white",
             "startlinecolor": "#2a3f5f"
            },
            "baxis": {
             "endlinecolor": "#2a3f5f",
             "gridcolor": "white",
             "linecolor": "white",
             "minorgridcolor": "white",
             "startlinecolor": "#2a3f5f"
            },
            "type": "carpet"
           }
          ],
          "choropleth": [
           {
            "colorbar": {
             "outlinewidth": 0,
             "ticks": ""
            },
            "type": "choropleth"
           }
          ],
          "contour": [
           {
            "colorbar": {
             "outlinewidth": 0,
             "ticks": ""
            },
            "colorscale": [
             [
              0,
              "#0d0887"
             ],
             [
              0.1111111111111111,
              "#46039f"
             ],
             [
              0.2222222222222222,
              "#7201a8"
             ],
             [
              0.3333333333333333,
              "#9c179e"
             ],
             [
              0.4444444444444444,
              "#bd3786"
             ],
             [
              0.5555555555555556,
              "#d8576b"
             ],
             [
              0.6666666666666666,
              "#ed7953"
             ],
             [
              0.7777777777777778,
              "#fb9f3a"
             ],
             [
              0.8888888888888888,
              "#fdca26"
             ],
             [
              1,
              "#f0f921"
             ]
            ],
            "type": "contour"
           }
          ],
          "contourcarpet": [
           {
            "colorbar": {
             "outlinewidth": 0,
             "ticks": ""
            },
            "type": "contourcarpet"
           }
          ],
          "heatmap": [
           {
            "colorbar": {
             "outlinewidth": 0,
             "ticks": ""
            },
            "colorscale": [
             [
              0,
              "#0d0887"
             ],
             [
              0.1111111111111111,
              "#46039f"
             ],
             [
              0.2222222222222222,
              "#7201a8"
             ],
             [
              0.3333333333333333,
              "#9c179e"
             ],
             [
              0.4444444444444444,
              "#bd3786"
             ],
             [
              0.5555555555555556,
              "#d8576b"
             ],
             [
              0.6666666666666666,
              "#ed7953"
             ],
             [
              0.7777777777777778,
              "#fb9f3a"
             ],
             [
              0.8888888888888888,
              "#fdca26"
             ],
             [
              1,
              "#f0f921"
             ]
            ],
            "type": "heatmap"
           }
          ],
          "heatmapgl": [
           {
            "colorbar": {
             "outlinewidth": 0,
             "ticks": ""
            },
            "colorscale": [
             [
              0,
              "#0d0887"
             ],
             [
              0.1111111111111111,
              "#46039f"
             ],
             [
              0.2222222222222222,
              "#7201a8"
             ],
             [
              0.3333333333333333,
              "#9c179e"
             ],
             [
              0.4444444444444444,
              "#bd3786"
             ],
             [
              0.5555555555555556,
              "#d8576b"
             ],
             [
              0.6666666666666666,
              "#ed7953"
             ],
             [
              0.7777777777777778,
              "#fb9f3a"
             ],
             [
              0.8888888888888888,
              "#fdca26"
             ],
             [
              1,
              "#f0f921"
             ]
            ],
            "type": "heatmapgl"
           }
          ],
          "histogram": [
           {
            "marker": {
             "pattern": {
              "fillmode": "overlay",
              "size": 10,
              "solidity": 0.2
             }
            },
            "type": "histogram"
           }
          ],
          "histogram2d": [
           {
            "colorbar": {
             "outlinewidth": 0,
             "ticks": ""
            },
            "colorscale": [
             [
              0,
              "#0d0887"
             ],
             [
              0.1111111111111111,
              "#46039f"
             ],
             [
              0.2222222222222222,
              "#7201a8"
             ],
             [
              0.3333333333333333,
              "#9c179e"
             ],
             [
              0.4444444444444444,
              "#bd3786"
             ],
             [
              0.5555555555555556,
              "#d8576b"
             ],
             [
              0.6666666666666666,
              "#ed7953"
             ],
             [
              0.7777777777777778,
              "#fb9f3a"
             ],
             [
              0.8888888888888888,
              "#fdca26"
             ],
             [
              1,
              "#f0f921"
             ]
            ],
            "type": "histogram2d"
           }
          ],
          "histogram2dcontour": [
           {
            "colorbar": {
             "outlinewidth": 0,
             "ticks": ""
            },
            "colorscale": [
             [
              0,
              "#0d0887"
             ],
             [
              0.1111111111111111,
              "#46039f"
             ],
             [
              0.2222222222222222,
              "#7201a8"
             ],
             [
              0.3333333333333333,
              "#9c179e"
             ],
             [
              0.4444444444444444,
              "#bd3786"
             ],
             [
              0.5555555555555556,
              "#d8576b"
             ],
             [
              0.6666666666666666,
              "#ed7953"
             ],
             [
              0.7777777777777778,
              "#fb9f3a"
             ],
             [
              0.8888888888888888,
              "#fdca26"
             ],
             [
              1,
              "#f0f921"
             ]
            ],
            "type": "histogram2dcontour"
           }
          ],
          "mesh3d": [
           {
            "colorbar": {
             "outlinewidth": 0,
             "ticks": ""
            },
            "type": "mesh3d"
           }
          ],
          "parcoords": [
           {
            "line": {
             "colorbar": {
              "outlinewidth": 0,
              "ticks": ""
             }
            },
            "type": "parcoords"
           }
          ],
          "pie": [
           {
            "automargin": true,
            "type": "pie"
           }
          ],
          "scatter": [
           {
            "fillpattern": {
             "fillmode": "overlay",
             "size": 10,
             "solidity": 0.2
            },
            "type": "scatter"
           }
          ],
          "scatter3d": [
           {
            "line": {
             "colorbar": {
              "outlinewidth": 0,
              "ticks": ""
             }
            },
            "marker": {
             "colorbar": {
              "outlinewidth": 0,
              "ticks": ""
             }
            },
            "type": "scatter3d"
           }
          ],
          "scattercarpet": [
           {
            "marker": {
             "colorbar": {
              "outlinewidth": 0,
              "ticks": ""
             }
            },
            "type": "scattercarpet"
           }
          ],
          "scattergeo": [
           {
            "marker": {
             "colorbar": {
              "outlinewidth": 0,
              "ticks": ""
             }
            },
            "type": "scattergeo"
           }
          ],
          "scattergl": [
           {
            "marker": {
             "colorbar": {
              "outlinewidth": 0,
              "ticks": ""
             }
            },
            "type": "scattergl"
           }
          ],
          "scattermapbox": [
           {
            "marker": {
             "colorbar": {
              "outlinewidth": 0,
              "ticks": ""
             }
            },
            "type": "scattermapbox"
           }
          ],
          "scatterpolar": [
           {
            "marker": {
             "colorbar": {
              "outlinewidth": 0,
              "ticks": ""
             }
            },
            "type": "scatterpolar"
           }
          ],
          "scatterpolargl": [
           {
            "marker": {
             "colorbar": {
              "outlinewidth": 0,
              "ticks": ""
             }
            },
            "type": "scatterpolargl"
           }
          ],
          "scatterternary": [
           {
            "marker": {
             "colorbar": {
              "outlinewidth": 0,
              "ticks": ""
             }
            },
            "type": "scatterternary"
           }
          ],
          "surface": [
           {
            "colorbar": {
             "outlinewidth": 0,
             "ticks": ""
            },
            "colorscale": [
             [
              0,
              "#0d0887"
             ],
             [
              0.1111111111111111,
              "#46039f"
             ],
             [
              0.2222222222222222,
              "#7201a8"
             ],
             [
              0.3333333333333333,
              "#9c179e"
             ],
             [
              0.4444444444444444,
              "#bd3786"
             ],
             [
              0.5555555555555556,
              "#d8576b"
             ],
             [
              0.6666666666666666,
              "#ed7953"
             ],
             [
              0.7777777777777778,
              "#fb9f3a"
             ],
             [
              0.8888888888888888,
              "#fdca26"
             ],
             [
              1,
              "#f0f921"
             ]
            ],
            "type": "surface"
           }
          ],
          "table": [
           {
            "cells": {
             "fill": {
              "color": "#EBF0F8"
             },
             "line": {
              "color": "white"
             }
            },
            "header": {
             "fill": {
              "color": "#C8D4E3"
             },
             "line": {
              "color": "white"
             }
            },
            "type": "table"
           }
          ]
         },
         "layout": {
          "annotationdefaults": {
           "arrowcolor": "#2a3f5f",
           "arrowhead": 0,
           "arrowwidth": 1
          },
          "autotypenumbers": "strict",
          "coloraxis": {
           "colorbar": {
            "outlinewidth": 0,
            "ticks": ""
           }
          },
          "colorscale": {
           "diverging": [
            [
             0,
             "#8e0152"
            ],
            [
             0.1,
             "#c51b7d"
            ],
            [
             0.2,
             "#de77ae"
            ],
            [
             0.3,
             "#f1b6da"
            ],
            [
             0.4,
             "#fde0ef"
            ],
            [
             0.5,
             "#f7f7f7"
            ],
            [
             0.6,
             "#e6f5d0"
            ],
            [
             0.7,
             "#b8e186"
            ],
            [
             0.8,
             "#7fbc41"
            ],
            [
             0.9,
             "#4d9221"
            ],
            [
             1,
             "#276419"
            ]
           ],
           "sequential": [
            [
             0,
             "#0d0887"
            ],
            [
             0.1111111111111111,
             "#46039f"
            ],
            [
             0.2222222222222222,
             "#7201a8"
            ],
            [
             0.3333333333333333,
             "#9c179e"
            ],
            [
             0.4444444444444444,
             "#bd3786"
            ],
            [
             0.5555555555555556,
             "#d8576b"
            ],
            [
             0.6666666666666666,
             "#ed7953"
            ],
            [
             0.7777777777777778,
             "#fb9f3a"
            ],
            [
             0.8888888888888888,
             "#fdca26"
            ],
            [
             1,
             "#f0f921"
            ]
           ],
           "sequentialminus": [
            [
             0,
             "#0d0887"
            ],
            [
             0.1111111111111111,
             "#46039f"
            ],
            [
             0.2222222222222222,
             "#7201a8"
            ],
            [
             0.3333333333333333,
             "#9c179e"
            ],
            [
             0.4444444444444444,
             "#bd3786"
            ],
            [
             0.5555555555555556,
             "#d8576b"
            ],
            [
             0.6666666666666666,
             "#ed7953"
            ],
            [
             0.7777777777777778,
             "#fb9f3a"
            ],
            [
             0.8888888888888888,
             "#fdca26"
            ],
            [
             1,
             "#f0f921"
            ]
           ]
          },
          "colorway": [
           "#636efa",
           "#EF553B",
           "#00cc96",
           "#ab63fa",
           "#FFA15A",
           "#19d3f3",
           "#FF6692",
           "#B6E880",
           "#FF97FF",
           "#FECB52"
          ],
          "font": {
           "color": "#2a3f5f"
          },
          "geo": {
           "bgcolor": "white",
           "lakecolor": "white",
           "landcolor": "#E5ECF6",
           "showlakes": true,
           "showland": true,
           "subunitcolor": "white"
          },
          "hoverlabel": {
           "align": "left"
          },
          "hovermode": "closest",
          "mapbox": {
           "style": "light"
          },
          "paper_bgcolor": "white",
          "plot_bgcolor": "#E5ECF6",
          "polar": {
           "angularaxis": {
            "gridcolor": "white",
            "linecolor": "white",
            "ticks": ""
           },
           "bgcolor": "#E5ECF6",
           "radialaxis": {
            "gridcolor": "white",
            "linecolor": "white",
            "ticks": ""
           }
          },
          "scene": {
           "xaxis": {
            "backgroundcolor": "#E5ECF6",
            "gridcolor": "white",
            "gridwidth": 2,
            "linecolor": "white",
            "showbackground": true,
            "ticks": "",
            "zerolinecolor": "white"
           },
           "yaxis": {
            "backgroundcolor": "#E5ECF6",
            "gridcolor": "white",
            "gridwidth": 2,
            "linecolor": "white",
            "showbackground": true,
            "ticks": "",
            "zerolinecolor": "white"
           },
           "zaxis": {
            "backgroundcolor": "#E5ECF6",
            "gridcolor": "white",
            "gridwidth": 2,
            "linecolor": "white",
            "showbackground": true,
            "ticks": "",
            "zerolinecolor": "white"
           }
          },
          "shapedefaults": {
           "line": {
            "color": "#2a3f5f"
           }
          },
          "ternary": {
           "aaxis": {
            "gridcolor": "white",
            "linecolor": "white",
            "ticks": ""
           },
           "baxis": {
            "gridcolor": "white",
            "linecolor": "white",
            "ticks": ""
           },
           "bgcolor": "#E5ECF6",
           "caxis": {
            "gridcolor": "white",
            "linecolor": "white",
            "ticks": ""
           }
          },
          "title": {
           "x": 0.05
          },
          "xaxis": {
           "automargin": true,
           "gridcolor": "white",
           "linecolor": "white",
           "ticks": "",
           "title": {
            "standoff": 15
           },
           "zerolinecolor": "white",
           "zerolinewidth": 2
          },
          "yaxis": {
           "automargin": true,
           "gridcolor": "white",
           "linecolor": "white",
           "ticks": "",
           "title": {
            "standoff": 15
           },
           "zerolinecolor": "white",
           "zerolinewidth": 2
          }
         }
        },
        "violinmode": "group",
        "xaxis": {
         "anchor": "y",
         "domain": [
          0,
          1
         ],
         "title": {
          "text": "male.qual"
         }
        },
        "yaxis": {
         "anchor": "x",
         "domain": [
          0,
          1
         ],
         "title": {
          "text": "latency.gift"
         }
        }
       }
      }
     },
     "metadata": {},
     "output_type": "display_data"
    },
    {
     "data": {
      "application/vnd.plotly.v1+json": {
       "config": {
        "plotlyServerURL": "https://plot.ly"
       },
       "data": [
        {
         "alignmentgroup": "True",
         "box": {
          "visible": true
         },
         "customdata": [
          [
           "116x85",
           1,
           116,
           "HL",
           12,
           0.1347,
           85,
           15,
           0.067,
           "1",
           "5/16/2023",
           "DB",
           null,
           2650,
           "N",
           1,
           1,
           0,
           0,
           0,
           1,
           null,
           390
          ],
          [
           "122x75",
           1,
           122,
           "LH",
           12,
           0.1818,
           75,
           15,
           0.0703,
           "1",
           "5/16/2023",
           "DB",
           0.0078,
           2156,
           "N",
           1,
           1,
           1,
           0,
           0,
           0,
           293,
           221
          ],
          [
           "123x86",
           1,
           123,
           "LH",
           13,
           0.1215,
           86,
           15,
           0.0788,
           "1",
           "5/16/2023",
           "DB",
           0.0069,
           2793,
           "N",
           0,
           1,
           1,
           1,
           1,
           1,
           2092,
           1252
          ],
          [
           "124x76",
           1,
           124,
           "HL",
           12,
           0.1222,
           76,
           24,
           0.0621,
           "1",
           "5/16/2023",
           "DB",
           0.0235,
           2403,
           "N",
           0,
           0,
           0,
           0,
           0,
           0,
           null,
           0
          ],
          [
           "46x25",
           1,
           46,
           "HL",
           15,
           0.1645,
           25,
           20,
           0.0908,
           "1",
           "5/16/2023",
           "MMO",
           0.0137,
           2448,
           "N",
           0,
           0,
           1,
           1,
           1,
           1,
           237,
           0
          ],
          [
           "87x90",
           1,
           87,
           "LH",
           15,
           0.1755,
           90,
           19,
           0.108,
           "1",
           "5/16/2023",
           "MMO",
           0.0043,
           4770,
           "N",
           1,
           1,
           1,
           1,
           0,
           1,
           608,
           3880
          ],
          [
           "92x20",
           1,
           92,
           "LH",
           15,
           0.1554,
           20,
           19,
           0.0754,
           "1",
           "5/16/2023",
           "DB",
           0.008,
           4931,
           "N",
           0,
           1,
           1,
           0,
           0,
           0,
           70,
           4084
          ],
          [
           "93x80",
           1,
           93,
           "LH",
           11,
           0.1128,
           80,
           15,
           0.0832,
           "1",
           "5/16/2023",
           "MMO",
           0.0145,
           2475,
           "N",
           0,
           1,
           0,
           0,
           0,
           0,
           null,
           45
          ],
          [
           "95x77",
           1,
           95,
           "HL",
           12,
           0.169,
           77,
           15,
           0.1027,
           "1",
           "5/16/2023",
           "MMO",
           0.0099,
           1513,
           "Y",
           0,
           1,
           1,
           0,
           0,
           0,
           279,
           305
          ],
          [
           "99x89",
           1,
           99,
           "HL",
           11,
           0.1265,
           89,
           15,
           0.0854,
           "1",
           "5/16/2023",
           "MMO",
           0.0114,
           3706,
           "N",
           1,
           1,
           1,
           1,
           0,
           0,
           502,
           1874
          ],
          [
           "121x105",
           2,
           121,
           "LH",
           12,
           0.1159,
           105,
           17,
           0.0988,
           "1",
           "5/19/2023",
           "MMO",
           0.0064,
           2405,
           "N",
           1,
           0,
           0,
           1,
           1,
           1,
           null,
           0
          ],
          [
           "128x74",
           2,
           128,
           "HL",
           12,
           0.1512,
           74,
           16,
           0.0752,
           "1",
           "5/19/2023",
           "MMO",
           0.0057,
           2397,
           "N",
           1,
           1,
           1,
           1,
           0,
           0,
           95,
           469
          ],
          [
           "139x162",
           2,
           139,
           "HL",
           12,
           0.1675,
           162,
           15,
           0.0827,
           "1",
           "5/19/2023",
           "MMO",
           0.0072,
           4184,
           "N",
           1,
           1,
           1,
           1,
           1,
           1,
           537,
           2979
          ],
          [
           "144x157",
           2,
           144,
           "LH",
           12,
           0.1292,
           157,
           15,
           0.1126,
           "1",
           "5/19/2023",
           "MMO",
           0.0137,
           2405,
           "N",
           1,
           1,
           1,
           0,
           1,
           1,
           null,
           33
          ],
          [
           "149x109",
           2,
           149,
           "LH",
           12,
           0.1753,
           109,
           18,
           0.1165,
           "1",
           "5/19/2023",
           "MMO",
           0.0052,
           6017,
           "N",
           1,
           1,
           1,
           0,
           0,
           1,
           262,
           4573
          ],
          [
           "155x108",
           2,
           155,
           "LH",
           12,
           0.1591,
           108,
           18,
           0.117,
           "1",
           "5/19/2023",
           "MMO",
           0.0071,
           4209,
           "N",
           1,
           1,
           1,
           0,
           1,
           1,
           172,
           2042
          ],
          [
           "203x129",
           2,
           203,
           "HL",
           12,
           0.1102,
           129,
           16,
           0.0683,
           "1",
           "5/19/2023",
           "MMO",
           0.0056,
           4567,
           "N",
           1,
           1,
           1,
           0,
           0,
           0,
           93,
           3730
          ],
          [
           "44x64",
           2,
           44,
           "LH",
           12,
           0.1852,
           64,
           15,
           0.0653,
           "1",
           "5/19/2023",
           "MMO",
           0.009,
           2240,
           "Y",
           1,
           1,
           1,
           0,
           0,
           1,
           591,
           953
          ],
          [
           "53x113",
           2,
           53,
           "HL",
           12,
           0.1315,
           113,
           15,
           0.0793,
           "1",
           "5/19/2023",
           "MMO",
           0.0083,
           2441,
           "N",
           1,
           1,
           1,
           1,
           0,
           0,
           232,
           768
          ],
          [
           "56x62",
           2,
           56,
           "HL",
           12,
           0.1243,
           62,
           17,
           0.0671,
           "1",
           "5/19/2023",
           "MMO",
           0.0092,
           4334,
           "N",
           1,
           1,
           1,
           0,
           0,
           1,
           256,
           2603
          ],
          [
           "125x161",
           3,
           125,
           "HL",
           14,
           0.1836,
           161,
           15,
           0.1031,
           "1",
           "5/22/2023",
           "DB",
           0.0133,
           4041,
           "N",
           0,
           1,
           1,
           1,
           1,
           1,
           812,
           3036
          ],
          [
           "138x100",
           3,
           138,
           "LH",
           13,
           0.1931,
           100,
           17,
           0.0965,
           "1",
           "5/22/2023",
           "DB",
           0.0028,
           3228,
           "N",
           1,
           1,
           1,
           1,
           1,
           1,
           378,
           1835
          ],
          [
           "141x135",
           3,
           141,
           "LH",
           14,
           0.187,
           135,
           15,
           0.0911,
           "1",
           "5/22/2023",
           "DB",
           0.0119,
           5412,
           "N",
           1,
           1,
           1,
           1,
           0,
           1,
           870,
           3144
          ],
          [
           "142x60",
           3,
           142,
           "HL",
           14,
           0.1383,
           60,
           17,
           0.0585,
           "1",
           "5/22/2023",
           "MMO",
           0.0064,
           2502,
           "N",
           0,
           0,
           0,
           1,
           0,
           0,
           null,
           0
          ],
          [
           "143x134",
           3,
           143,
           "HL",
           13,
           0.2311,
           134,
           17,
           0.0853,
           "1",
           "5/22/2023",
           "MMO",
           0.0082,
           2411,
           "N",
           1,
           1,
           1,
           0,
           1,
           1,
           425,
           1032
          ],
          [
           "153x159",
           3,
           153,
           "HL",
           14,
           0.1741,
           159,
           15,
           0.0853,
           "1",
           "5/22/2023",
           "MMO",
           0.0073,
           4996,
           "N",
           1,
           1,
           1,
           0,
           0,
           0,
           51,
           3562
          ],
          [
           "42x156",
           3,
           42,
           "HL",
           13,
           0.1294,
           156,
           15,
           0.0882,
           "1",
           "5/22/2023",
           "DB",
           0.0135,
           2317,
           "N",
           0,
           1,
           1,
           1,
           0,
           1,
           442,
           1806
          ],
          [
           "48x133",
           3,
           48,
           "LH",
           13,
           0.1292,
           133,
           15,
           0.0637,
           "1",
           "5/22/2023",
           "MMO",
           0.0029,
           2419,
           "N",
           0,
           0,
           0,
           0,
           0,
           0,
           null,
           0
          ],
          [
           "50x107",
           3,
           50,
           "LH",
           14,
           0.1314,
           107,
           15,
           0.0841,
           "1",
           "5/22/2023",
           "MMO",
           0.0152,
           3257,
           "N",
           0,
           1,
           1,
           0,
           1,
           1,
           474,
           2613
          ],
          [
           "94x118",
           3,
           94,
           "LH",
           13,
           0.1673,
           118,
           15,
           0.0866,
           "1",
           "5/22/2023",
           "DB",
           0.0052,
           3804,
           "N",
           0,
           1,
           1,
           1,
           0,
           1,
           330,
           2306
          ],
          [
           "115x230",
           4,
           115,
           "HL",
           15,
           0.1792,
           230,
           17,
           0.0798,
           "1",
           "5/25/2023",
           "DB",
           0.0047,
           2446,
           "N",
           1,
           1,
           0,
           1,
           1,
           1,
           null,
           11
          ],
          [
           "140x246",
           4,
           140,
           "LH",
           16,
           0.1784,
           246,
           18,
           0.089,
           "1",
           "5/25/2023",
           "DB",
           0.0068,
           3262,
           "N",
           1,
           1,
           1,
           1,
           1,
           1,
           403,
           1920
          ],
          [
           "145x218",
           4,
           145,
           "HL",
           15,
           0.1979,
           218,
           17,
           0.0955,
           "1",
           "5/25/2023",
           "MMO",
           0.0092,
           5090,
           "N",
           0,
           1,
           1,
           1,
           1,
           1,
           667,
           4008
          ],
          [
           "150x167",
           4,
           150,
           "HL",
           16,
           0.1818,
           167,
           18,
           0.0929,
           "1",
           "5/25/2023",
           "MMO",
           0.0078,
           4258,
           "N",
           1,
           1,
           1,
           0,
           1,
           1,
           376,
           3734
          ],
          [
           "152x160",
           4,
           152,
           "HL",
           16,
           0.2096,
           160,
           17,
           0.1214,
           "1",
           "5/25/2023",
           "MMO",
           0.0092,
           5437,
           "N",
           0,
           1,
           1,
           1,
           1,
           1,
           544,
           4750
          ],
          [
           "178x240",
           4,
           178,
           "LH",
           15,
           0.1933,
           240,
           17,
           0.1207,
           "1",
           "5/25/2023",
           "DB",
           0.0058,
           5674,
           "N",
           1,
           1,
           1,
           1,
           1,
           1,
           1075,
           4293
          ],
          [
           "184x170",
           4,
           184,
           "HL",
           16,
           0.1748,
           170,
           18,
           0.096,
           "1",
           "5/25/2023",
           "DB",
           0.0109,
           2744,
           "N",
           0,
           1,
           1,
           0,
           0,
           1,
           158,
           2324
          ],
          [
           "192x223",
           4,
           192,
           "LH",
           16,
           0.1746,
           223,
           18,
           0.063,
           "1",
           "5/25/2023",
           "MMO",
           0.0135,
           2423,
           "N",
           0,
           0,
           0,
           1,
           0,
           0,
           null,
           0
          ],
          [
           "194x171",
           4,
           194,
           "LH",
           16,
           0.1618,
           171,
           18,
           0.0932,
           "1",
           "5/25/2023",
           "DB",
           0.0139,
           7290,
           "N",
           0,
           1,
           1,
           0,
           1,
           1,
           520,
           5778
          ],
          [
           "174x231",
           5,
           174,
           "HL",
           17,
           0.1028,
           231,
           18,
           0.091,
           "1",
           "5/28/2023",
           "DB",
           0.007,
           3121,
           "N",
           0,
           1,
           1,
           1,
           0,
           0,
           250,
           2092
          ],
          [
           "175x245",
           5,
           175,
           "LH",
           17,
           0.129,
           245,
           18,
           0.1065,
           "1",
           "5/28/2023",
           "DB",
           0.0052,
           4550,
           "N",
           0,
           1,
           1,
           1,
           1,
           1,
           367,
           3743
          ],
          [
           "176x221",
           5,
           176,
           "HL",
           17,
           0.1474,
           221,
           17,
           0.0729,
           "1",
           "5/28/2023",
           "DB",
           0.0069,
           795,
           "Y",
           0,
           0,
           0,
           1,
           1,
           1,
           null,
           0
          ],
          [
           "188x234",
           5,
           188,
           "HL",
           18,
           0.16,
           234,
           18,
           0.12,
           "1",
           "5/28/2023",
           "DB",
           0.0064,
           5917,
           "N",
           1,
           1,
           1,
           0,
           1,
           1,
           397,
           4760
          ],
          [
           "189x247",
           5,
           189,
           "LH",
           18,
           0.1215,
           247,
           18,
           0.0731,
           "1",
           "5/28/2023",
           "DB",
           0.0083,
           2401,
           "N",
           1,
           1,
           1,
           1,
           1,
           0,
           603,
           1003
          ],
          [
           "190x228",
           5,
           190,
           "LH",
           18,
           0.1449,
           228,
           19,
           0.1097,
           "1",
           "5/28/2023",
           "DB",
           0.0063,
           4147,
           "N",
           0,
           1,
           1,
           0,
           1,
           1,
           385,
           3120
          ],
          [
           "193x233",
           5,
           193,
           "LH",
           18,
           0.1651,
           233,
           17,
           0.0836,
           "1",
           "5/28/2023",
           "DB",
           0.0042,
           6677,
           "N",
           0,
           1,
           1,
           1,
           1,
           1,
           1726,
           4541
          ],
          [
           "200x173",
           5,
           200,
           "HL",
           18,
           0.1537,
           173,
           18,
           0.1096,
           "1",
           "5/28/2023",
           "DB",
           0.0075,
           4132,
           "N",
           1,
           1,
           1,
           1,
           1,
           1,
           410,
           2905
          ],
          [
           "51x81",
           5,
           51,
           "LH",
           17,
           0.1594,
           81,
           18,
           0.0992,
           "1",
           "5/28/2023",
           "DB",
           0.0089,
           3821,
           "N",
           0,
           1,
           1,
           0,
           0,
           0,
           289,
           1975
          ],
          [
           "71x232",
           5,
           71,
           "HL",
           17,
           0.1276,
           232,
           19,
           0.083,
           "1",
           "5/28/2023",
           "DB",
           0.01,
           4916,
           "N",
           1,
           1,
           1,
           1,
           0,
           1,
           466,
           3802
          ],
          [
           "154x248",
           6,
           154,
           "LH",
           24,
           0.1214,
           248,
           13,
           0.1038,
           "1",
           "5/31/2023",
           "DB",
           0.0182,
           2406,
           "N",
           1,
           1,
           1,
           1,
           1,
           1,
           410,
           987
          ],
          [
           "196x127",
           6,
           196,
           "HL",
           19,
           0.1574,
           127,
           17,
           0.0958,
           "1",
           "5/31/2023",
           "DB",
           0.0035,
           2465,
           "N",
           0,
           1,
           1,
           0,
           1,
           1,
           1236,
           1251
          ],
          [
           "197x236",
           6,
           197,
           "LH",
           20,
           0.1472,
           236,
           20,
           0.111,
           "1",
           "5/31/2023",
           "DB",
           0.0144,
           4101,
           "N",
           1,
           1,
           1,
           0,
           0,
           0,
           139,
           2171
          ],
          [
           "202x219",
           6,
           202,
           "LH",
           20,
           0.1434,
           219,
           19,
           0.0941,
           "1",
           "5/31/2023",
           "DB",
           0.0031,
           2409,
           "N",
           1,
           1,
           1,
           1,
           0,
           1,
           170,
           1798
          ],
          [
           "208x249",
           6,
           208,
           "HL",
           20,
           0.1648,
           249,
           13,
           0.1171,
           "1",
           "5/31/2023",
           "DB",
           0.0031,
           4436,
           "N",
           1,
           1,
           1,
           1,
           1,
           1,
           634,
           2815
          ],
          [
           "209x250",
           6,
           209,
           "LH",
           20,
           0.1919,
           250,
           13,
           0.0979,
           "1",
           "5/31/2023",
           "DB",
           0.0034,
           4251,
           "N",
           1,
           1,
           1,
           1,
           0,
           1,
           561,
           2653
          ],
          [
           "213x59",
           6,
           213,
           "HL",
           20,
           0.1533,
           59,
           16,
           0.0779,
           "1",
           "5/31/2023",
           "DB",
           0.0069,
           2391,
           "N",
           0,
           1,
           1,
           0,
           0,
           0,
           132,
           1318
          ],
          [
           "263x238",
           6,
           263,
           "HL",
           15,
           0.1464,
           238,
           20,
           0.1025,
           "1",
           "5/31/2023",
           "DB",
           0.0068,
           3174,
           "N",
           1,
           1,
           1,
           1,
           0,
           1,
           232,
           2223
          ],
          [
           "91x222",
           6,
           91,
           "HL",
           19,
           0.1231,
           222,
           19,
           0.0798,
           "1",
           "5/31/2023",
           "DB",
           0.0107,
           4460,
           "N",
           1,
           1,
           1,
           1,
           1,
           1,
           564,
           3712
          ]
         ],
         "hovertemplate": "mating.order=%{customdata[9]}<br>male.qual=%{x}<br>latency.cop=%{y}<br>mating.ID=%{customdata[0]}<br>cohort=%{customdata[1]}<br>female.ID=%{customdata[2]}<br>female.group=%{customdata[3]}<br>female.age=%{customdata[4]}<br>female.wt=%{customdata[5]}<br>male.ID=%{customdata[6]}<br>male.age=%{customdata[7]}<br>male.wt=%{customdata[8]}<br>date=%{customdata[10]}<br>scorer=%{customdata[11]}<br>gift.wt=%{customdata[12]}<br>trial.dur=%{customdata[13]}<br>female.aggression=%{customdata[14]}<br>male.w.gift=%{customdata[15]}<br>mating.success=%{customdata[16]}<br>gift.acceptance=%{customdata[17]}<br>signal=%{customdata[18]}<br>wrapping=%{customdata[19]}<br>rubbing=%{customdata[20]}<br>latency.gift=%{customdata[21]}<br>cop.duration=%{customdata[22]}<extra></extra>",
         "legendgroup": "1",
         "marker": {
          "color": "#636efa"
         },
         "name": "1",
         "offsetgroup": "1",
         "orientation": "v",
         "points": "all",
         "scalegroup": "True",
         "showlegend": true,
         "type": "violin",
         "x": [
          "H",
          "L",
          "L",
          "H",
          "H",
          "L",
          "L",
          "L",
          "H",
          "H",
          "L",
          "H",
          "H",
          "L",
          "L",
          "L",
          "H",
          "L",
          "H",
          "H",
          "H",
          "L",
          "L",
          "H",
          "H",
          "H",
          "H",
          "L",
          "L",
          "L",
          "H",
          "L",
          "H",
          "H",
          "H",
          "L",
          "H",
          "L",
          "L",
          "H",
          "L",
          "H",
          "H",
          "L",
          "L",
          "L",
          "H",
          "L",
          "H",
          "L",
          "H",
          "L",
          "L",
          "H",
          "L",
          "H",
          "H",
          "H"
         ],
         "x0": " ",
         "xaxis": "x",
         "y": [
          87,
          559,
          162,
          null,
          null,
          691,
          107,
          173,
          426,
          656,
          null,
          185,
          600,
          611,
          650,
          266,
          199,
          728,
          286,
          361,
          262,
          597,
          1078,
          null,
          494,
          117,
          120,
          null,
          575,
          941,
          1011,
          447,
          893,
          455,
          640,
          1139,
          295,
          null,
          589,
          449,
          487,
          null,
          1044,
          671,
          153,
          1805,
          545,
          298,
          597,
          635,
          234,
          500,
          298,
          984,
          723,
          357,
          372,
          650
         ],
         "y0": " ",
         "yaxis": "y"
        },
        {
         "alignmentgroup": "True",
         "box": {
          "visible": true
         },
         "customdata": [
          [
           "116x86",
           1,
           116,
           "HL",
           12,
           0.1347,
           86,
           15,
           0.0788,
           "2",
           "5/17/2023",
           "MMO",
           0.014,
           6453,
           "N",
           1,
           1,
           1,
           0,
           0,
           1,
           529,
           3869
          ],
          [
           "122x76",
           1,
           122,
           "LH",
           12,
           0.1818,
           76,
           24,
           0.0621,
           "2",
           "5/17/2023",
           "MMO",
           0.0085,
           1567,
           "Y",
           1,
           0,
           0,
           0,
           0,
           0,
           null,
           0
          ],
          [
           "123x89",
           1,
           123,
           "LH",
           13,
           0.1215,
           89,
           15,
           0.0854,
           "2",
           "5/17/2023",
           "MMO",
           0.0112,
           2399,
           "N",
           0,
           1,
           1,
           0,
           0,
           0,
           64,
           685
          ],
          [
           "124x20",
           1,
           124,
           "HL",
           12,
           0.1222,
           20,
           19,
           0.0754,
           "2",
           "5/17/2023",
           "MMO",
           0.0168,
           2459,
           "N",
           0,
           1,
           1,
           0,
           0,
           1,
           916,
           1244
          ],
          [
           "46x80",
           1,
           46,
           "HL",
           15,
           0.1645,
           80,
           15,
           0.0832,
           "2",
           "5/17/2023",
           "MMO",
           0.012,
           6595,
           "N",
           1,
           1,
           1,
           1,
           0,
           1,
           301,
           5602
          ],
          [
           "87x77",
           1,
           87,
           "LH",
           15,
           0.1755,
           77,
           15,
           0.1027,
           "2",
           "5/17/2023",
           "MMO",
           0.0075,
           2406,
           "N",
           1,
           0,
           0,
           1,
           0,
           1,
           null,
           0
          ],
          [
           "92x25",
           1,
           92,
           "LH",
           15,
           0.1554,
           25,
           20,
           0.0908,
           "2",
           "5/17/2023",
           "MMO",
           0.0084,
           2407,
           "N",
           1,
           1,
           1,
           1,
           1,
           1,
           283,
           442
          ],
          [
           "93x85",
           1,
           93,
           "LH",
           11,
           0.1128,
           85,
           15,
           0.067,
           "2",
           "5/17/2023",
           "MMO",
           0.0092,
           2943,
           "N",
           1,
           1,
           1,
           0,
           0,
           0,
           16,
           1981
          ],
          [
           "95x90",
           1,
           95,
           "HL",
           12,
           0.169,
           90,
           19,
           0.108,
           "2",
           "5/17/2023",
           "MMO",
           0.0042,
           2379,
           "N",
           0,
           0,
           0,
           0,
           0,
           0,
           null,
           0
          ],
          [
           "99x75",
           1,
           99,
           "HL",
           11,
           0.1265,
           75,
           15,
           0.0703,
           "2",
           "5/17/2023",
           "MMO",
           0.0139,
           2386,
           "N",
           1,
           1,
           1,
           0,
           0,
           0,
           8,
           1248
          ],
          [
           "121x162",
           2,
           121,
           "LH",
           12,
           0.1159,
           162,
           15,
           0.0827,
           "2",
           "5/20/2023",
           "MMO",
           null,
           2826,
           "N",
           0,
           1,
           1,
           1,
           1,
           1,
           684,
           2094
          ],
          [
           "128x108",
           2,
           128,
           "HL",
           12,
           0.1512,
           108,
           18,
           0.117,
           "2",
           "5/20/2023",
           "MMO",
           0.0178,
           286,
           "Y",
           0,
           0,
           0,
           0,
           0,
           0,
           null,
           0
          ],
          [
           "139x157",
           2,
           139,
           "HL",
           12,
           0.1675,
           157,
           15,
           0.1126,
           "2",
           "5/20/2023",
           "DB",
           0.0175,
           5706,
           "N",
           1,
           1,
           1,
           0,
           0,
           0,
           24,
           4781
          ],
          [
           "144x113",
           2,
           144,
           "LH",
           12,
           0.1292,
           113,
           15,
           0.0793,
           "2",
           "5/20/2023",
           "DB",
           0.0174,
           2401,
           "N",
           1,
           1,
           1,
           0,
           0,
           1,
           545,
           790
          ],
          [
           "149x62",
           2,
           149,
           "LH",
           12,
           0.1753,
           62,
           17,
           0.0671,
           "2",
           "5/20/2023",
           "MMO",
           0.0049,
           1041,
           "Y",
           0,
           0,
           0,
           0,
           0,
           0,
           1011,
           0
          ],
          [
           "155x113",
           2,
           155,
           "LH",
           12,
           0.1591,
           113,
           15,
           0.0793,
           "2",
           "5/20/2023",
           "MMO",
           0.0174,
           1363,
           "Y",
           0,
           0,
           0,
           0,
           0,
           0,
           null,
           0
          ],
          [
           "203x105",
           2,
           203,
           "HL",
           12,
           0.1102,
           105,
           17,
           0.0988,
           "2",
           "5/20/2023",
           "MMO",
           0.0147,
           2410,
           "N",
           1,
           0,
           0,
           1,
           0,
           0,
           null,
           0
          ],
          [
           "44x74",
           2,
           44,
           "LH",
           12,
           0.1852,
           74,
           16,
           0.0752,
           "2",
           "5/20/2023",
           "MMO",
           0.0161,
           2447,
           "N",
           1,
           0,
           1,
           1,
           0,
           0,
           309,
           0
          ],
          [
           "53x105",
           2,
           53,
           "HL",
           12,
           0.1315,
           105,
           17,
           0.0988,
           "2",
           "5/20/2023",
           "MMO",
           0.0147,
           5230,
           "N",
           1,
           1,
           1,
           1,
           0,
           1,
           855,
           3624
          ],
          [
           "56x109",
           2,
           56,
           "HL",
           12,
           0.1243,
           109,
           18,
           0.1165,
           "2",
           "5/20/2023",
           "DB",
           0.0043,
           3783,
           "N",
           0,
           1,
           1,
           0,
           1,
           1,
           315,
           3176
          ],
          [
           "125x107",
           3,
           125,
           "HL",
           14,
           0.1836,
           107,
           15,
           0.0841,
           "2",
           "5/23/2023",
           "MMO",
           0.0061,
           2472,
           "N",
           1,
           1,
           1,
           0,
           1,
           0,
           17,
           584
          ],
          [
           "138x161",
           3,
           138,
           "LH",
           13,
           0.1931,
           161,
           15,
           0.1031,
           "2",
           "5/23/2023",
           "DB",
           0.0181,
           139,
           "Y",
           0,
           0,
           0,
           0,
           0,
           0,
           null,
           0
          ],
          [
           "141x159",
           3,
           141,
           "LH",
           14,
           0.187,
           159,
           15,
           0.0853,
           "2",
           "5/23/2023",
           "MMO",
           0.0105,
           104,
           "Y",
           1,
           0,
           0,
           0,
           0,
           0,
           null,
           0
          ],
          [
           "142x135",
           3,
           142,
           "HL",
           14,
           0.1383,
           135,
           15,
           0.0911,
           "2",
           "5/23/2023",
           "DB",
           0.0121,
           2431,
           "N",
           1,
           1,
           1,
           0,
           0,
           0,
           54,
           1669
          ],
          [
           "143x100",
           3,
           143,
           "HL",
           13,
           0.2311,
           100,
           17,
           0.0965,
           "2",
           "5/23/2023",
           "DB",
           0.0083,
           3857,
           "N",
           0,
           1,
           1,
           1,
           0,
           1,
           501,
           2547
          ],
          [
           "153x133",
           3,
           153,
           "HL",
           14,
           0.1741,
           133,
           15,
           0.0637,
           "2",
           "5/23/2023",
           "DB",
           0.0104,
           61,
           "Y",
           1,
           0,
           0,
           0,
           0,
           0,
           null,
           0
          ],
          [
           "42x118",
           3,
           42,
           "HL",
           13,
           0.1294,
           118,
           15,
           0.0866,
           "2",
           "5/23/2023",
           "DB",
           0.0047,
           2458,
           "N",
           0,
           0,
           0,
           1,
           1,
           1,
           null,
           0
          ],
          [
           "48x60",
           3,
           48,
           "LH",
           13,
           0.1292,
           60,
           17,
           0.0585,
           "2",
           "5/23/2023",
           "MMO",
           0.0118,
           2402,
           "N",
           1,
           1,
           1,
           0,
           0,
           0,
           121,
           395
          ],
          [
           "50x134",
           3,
           50,
           "LH",
           14,
           0.1314,
           134,
           17,
           0.0853,
           "2",
           "5/23/2023",
           "MMO",
           0.0192,
           2410,
           "N",
           1,
           0,
           0,
           1,
           1,
           1,
           null,
           0
          ],
          [
           "94x156",
           3,
           94,
           "LH",
           13,
           0.1673,
           156,
           15,
           0.0882,
           "2",
           "5/23/2023",
           "MMO",
           0.0093,
           4531,
           "N",
           1,
           1,
           1,
           0,
           0,
           0,
           41,
           3738
          ],
          [
           "115x171",
           4,
           115,
           "HL",
           15,
           0.1792,
           171,
           18,
           0.0932,
           "2",
           "5/26/2023",
           "DB",
           0.0146,
           2404,
           "N",
           1,
           0,
           0,
           1,
           1,
           1,
           null,
           0
          ],
          [
           "140x230",
           4,
           140,
           "LH",
           16,
           0.1784,
           230,
           17,
           0.0798,
           "2",
           "5/26/2023",
           "MMO",
           0.0047,
           2435,
           "N",
           1,
           1,
           1,
           0,
           0,
           1,
           76,
           356
          ],
          [
           "145x223",
           4,
           145,
           "HL",
           15,
           0.1979,
           223,
           18,
           0.063,
           "2",
           "5/26/2023",
           "DB",
           0.0028,
           2410,
           "N",
           1,
           0,
           0,
           1,
           0,
           1,
           null,
           0
          ],
          [
           "150x240",
           4,
           150,
           "HL",
           16,
           0.1818,
           240,
           17,
           0.1207,
           "2",
           "5/26/2023",
           "DB",
           0.0056,
           2411,
           "N",
           0,
           0,
           0,
           1,
           0,
           0,
           null,
           0
          ],
          [
           "152x163",
           4,
           152,
           "HL",
           16,
           0.2096,
           163,
           18,
           0.1101,
           "2",
           "5/26/2023",
           "MMO",
           0.0048,
           2398,
           "N",
           1,
           0,
           0,
           1,
           0,
           1,
           null,
           0
          ],
          [
           "178x160",
           4,
           178,
           "LH",
           15,
           0.1933,
           160,
           17,
           0.1214,
           "2",
           "5/26/2023",
           "MMO",
           0.007,
           4525,
           "N",
           1,
           1,
           1,
           1,
           0,
           1,
           170,
           3575
          ],
          [
           "184x246",
           4,
           184,
           "HL",
           16,
           0.1748,
           246,
           18,
           0.089,
           "2",
           "5/26/2023",
           "DB",
           0.0071,
           2418,
           "N",
           1,
           0,
           0,
           1,
           1,
           1,
           null,
           0
          ],
          [
           "192x167",
           4,
           192,
           "LH",
           16,
           0.1746,
           167,
           18,
           0.0929,
           "2",
           "5/26/2023",
           "MMO",
           0.0213,
           2665,
           "N",
           0,
           0,
           0,
           0,
           1,
           1,
           1739,
           0
          ],
          [
           "194x170",
           4,
           194,
           "LH",
           16,
           0.1618,
           170,
           18,
           0.096,
           "2",
           "5/26/2023",
           "MMO",
           0.0104,
           2400,
           "N",
           0,
           0,
           0,
           0,
           0,
           0,
           null,
           0
          ],
          [
           "174x233",
           5,
           174,
           "HL",
           17,
           0.1028,
           233,
           17,
           0.0836,
           "2",
           "5/29/2023",
           "PH",
           0.0024,
           2397,
           "N",
           0,
           0,
           0,
           0,
           0,
           0,
           null,
           135
          ],
          [
           "175x232",
           5,
           175,
           "LH",
           17,
           0.129,
           232,
           19,
           0.083,
           "2",
           "5/29/2023",
           "PH",
           0.0035,
           7573,
           "N",
           0,
           1,
           1,
           1,
           0,
           0,
           1773,
           4561
          ],
          [
           "176x247",
           5,
           176,
           "HL",
           17,
           0.1474,
           247,
           18,
           0.0731,
           "2",
           "5/29/2023",
           "PH",
           0.0081,
           3470,
           "N",
           1,
           1,
           1,
           1,
           0,
           0,
           1902,
           1940
          ],
          [
           "189x234",
           5,
           189,
           "LH",
           18,
           0.1215,
           234,
           18,
           0.12,
           "2",
           "5/29/2023",
           "PH",
           0.0106,
           2538,
           "N",
           1,
           0,
           1,
           0,
           1,
           0,
           2344,
           0
          ],
          [
           "190x173",
           5,
           190,
           "LH",
           18,
           0.1449,
           173,
           18,
           0.1096,
           "2",
           "5/29/2023",
           "DB",
           0.0049,
           2459,
           "N",
           0,
           0,
           0,
           0,
           0,
           0,
           null,
           0
          ],
          [
           "193x221",
           5,
           193,
           "LH",
           18,
           0.1651,
           221,
           17,
           0.0729,
           "2",
           "5/29/2023",
           "DB",
           0.0167,
           8040,
           "N",
           1,
           1,
           1,
           0,
           0,
           0,
           21,
           6041
          ],
          [
           "200x245",
           5,
           200,
           "HL",
           18,
           0.1537,
           245,
           18,
           0.1065,
           "2",
           "5/29/2023",
           "DB",
           0.014,
           3522,
           "N",
           0,
           1,
           1,
           1,
           1,
           1,
           583,
           2501
          ],
          [
           "51x231",
           5,
           51,
           "LH",
           17,
           0.1594,
           231,
           18,
           0.091,
           "2",
           "5/29/2023",
           "DB",
           0.0088,
           2433,
           "N",
           0,
           0,
           0,
           1,
           0,
           0,
           null,
           0
          ],
          [
           "71x228",
           5,
           71,
           "HL",
           17,
           0.1276,
           228,
           19,
           0.1097,
           "2",
           "5/29/2023",
           "DB",
           0.0061,
           2392,
           "N",
           0,
           0,
           0,
           1,
           0,
           1,
           null,
           0
          ],
          [
           "154x222",
           6,
           154,
           "LH",
           24,
           0.1214,
           222,
           19,
           0.0798,
           "2",
           "6/1/2023",
           "DB",
           0.0108,
           2403,
           "N",
           0,
           0,
           0,
           1,
           1,
           1,
           null,
           0
          ],
          [
           "196x219",
           6,
           196,
           "HL",
           19,
           0.1574,
           219,
           19,
           0.0941,
           "2",
           "6/1/2023",
           "DB",
           0.0152,
           7260,
           "N",
           1,
           1,
           1,
           1,
           0,
           0,
           98,
           6672
          ],
          [
           "197x238",
           6,
           197,
           "LH",
           20,
           0.1472,
           238,
           20,
           0.1025,
           "2",
           "6/1/2023",
           "DB",
           0.0053,
           4554,
           "N",
           0,
           1,
           1,
           1,
           1,
           1,
           646,
           3056
          ],
          [
           "202x127",
           6,
           202,
           "LH",
           20,
           0.1434,
           127,
           17,
           0.0958,
           "2",
           "6/1/2023",
           "DB",
           0.0061,
           2392,
           "N",
           1,
           1,
           1,
           0,
           0,
           0,
           16,
           379
          ],
          [
           "208x266",
           6,
           208,
           "HL",
           20,
           0.1648,
           266,
           19,
           0.0962,
           "2",
           "6/1/2023",
           "DB",
           0.0156,
           6054,
           "N",
           0,
           1,
           1,
           1,
           1,
           1,
           1701,
           3742
          ],
          [
           "209x249",
           6,
           209,
           "LH",
           20,
           0.1919,
           249,
           13,
           0.1171,
           "2",
           "6/1/2023",
           "DB",
           0.0047,
           3522,
           "N",
           1,
           1,
           1,
           0,
           0,
           0,
           16,
           2097
          ],
          [
           "213x250",
           6,
           213,
           "HL",
           20,
           0.1533,
           250,
           13,
           0.0979,
           "2",
           "6/1/2023",
           "DB",
           0.0122,
           4229,
           "N",
           1,
           1,
           1,
           0,
           0,
           0,
           19,
           3406
          ],
          [
           "263x236",
           6,
           263,
           "HL",
           15,
           0.1464,
           236,
           20,
           0.111,
           "2",
           "6/1/2023",
           "DB",
           0.0139,
           2411,
           "N",
           0,
           0,
           0,
           1,
           0,
           0,
           null,
           0
          ],
          [
           "91x248",
           6,
           91,
           "HL",
           19,
           0.1231,
           248,
           13,
           0.1038,
           "2",
           "6/1/2023",
           "DB",
           0.0125,
           5998,
           "N",
           1,
           1,
           1,
           1,
           1,
           1,
           581,
           4785
          ]
         ],
         "hovertemplate": "mating.order=%{customdata[9]}<br>male.qual=%{x}<br>latency.cop=%{y}<br>mating.ID=%{customdata[0]}<br>cohort=%{customdata[1]}<br>female.ID=%{customdata[2]}<br>female.group=%{customdata[3]}<br>female.age=%{customdata[4]}<br>female.wt=%{customdata[5]}<br>male.ID=%{customdata[6]}<br>male.age=%{customdata[7]}<br>male.wt=%{customdata[8]}<br>date=%{customdata[10]}<br>scorer=%{customdata[11]}<br>gift.wt=%{customdata[12]}<br>trial.dur=%{customdata[13]}<br>female.aggression=%{customdata[14]}<br>male.w.gift=%{customdata[15]}<br>mating.success=%{customdata[16]}<br>gift.acceptance=%{customdata[17]}<br>signal=%{customdata[18]}<br>wrapping=%{customdata[19]}<br>rubbing=%{customdata[20]}<br>latency.gift=%{customdata[21]}<br>cop.duration=%{customdata[22]}<extra></extra>",
         "legendgroup": "2",
         "marker": {
          "color": "#EF553B"
         },
         "name": "2",
         "offsetgroup": "2",
         "orientation": "v",
         "points": "all",
         "scalegroup": "True",
         "showlegend": true,
         "type": "violin",
         "x": [
          "L",
          "H",
          "H",
          "L",
          "L",
          "H",
          "H",
          "H",
          "L",
          "L",
          "H",
          "L",
          "L",
          "H",
          "H",
          "H",
          "L",
          "H",
          "L",
          "L",
          "L",
          "H",
          "H",
          "L",
          "L",
          "L",
          "L",
          "H",
          "H",
          "H",
          "L",
          "H",
          "L",
          "L",
          "L",
          "H",
          "L",
          "H",
          "H",
          "L",
          "H",
          "L",
          "H",
          "H",
          "H",
          "L",
          "H",
          "L",
          "H",
          "L",
          "H",
          "H",
          "L",
          "H",
          "L",
          "L",
          "L"
         ],
         "x0": " ",
         "xaxis": "x",
         "y": [
          606,
          null,
          243,
          545,
          383,
          null,
          544,
          928,
          null,
          422,
          729,
          null,
          160,
          661,
          null,
          null,
          null,
          null,
          906,
          416,
          82,
          null,
          null,
          285,
          730,
          null,
          null,
          389,
          null,
          613,
          null,
          318,
          null,
          null,
          null,
          619,
          null,
          null,
          null,
          209,
          2819,
          313,
          null,
          null,
          1409,
          772,
          null,
          null,
          null,
          292,
          847,
          38,
          1990,
          729,
          99,
          null,
          773
         ],
         "y0": " ",
         "yaxis": "y"
        }
       ],
       "layout": {
        "legend": {
         "title": {
          "text": "mating.order"
         },
         "tracegroupgap": 0
        },
        "margin": {
         "t": 60
        },
        "template": {
         "data": {
          "bar": [
           {
            "error_x": {
             "color": "#2a3f5f"
            },
            "error_y": {
             "color": "#2a3f5f"
            },
            "marker": {
             "line": {
              "color": "#E5ECF6",
              "width": 0.5
             },
             "pattern": {
              "fillmode": "overlay",
              "size": 10,
              "solidity": 0.2
             }
            },
            "type": "bar"
           }
          ],
          "barpolar": [
           {
            "marker": {
             "line": {
              "color": "#E5ECF6",
              "width": 0.5
             },
             "pattern": {
              "fillmode": "overlay",
              "size": 10,
              "solidity": 0.2
             }
            },
            "type": "barpolar"
           }
          ],
          "carpet": [
           {
            "aaxis": {
             "endlinecolor": "#2a3f5f",
             "gridcolor": "white",
             "linecolor": "white",
             "minorgridcolor": "white",
             "startlinecolor": "#2a3f5f"
            },
            "baxis": {
             "endlinecolor": "#2a3f5f",
             "gridcolor": "white",
             "linecolor": "white",
             "minorgridcolor": "white",
             "startlinecolor": "#2a3f5f"
            },
            "type": "carpet"
           }
          ],
          "choropleth": [
           {
            "colorbar": {
             "outlinewidth": 0,
             "ticks": ""
            },
            "type": "choropleth"
           }
          ],
          "contour": [
           {
            "colorbar": {
             "outlinewidth": 0,
             "ticks": ""
            },
            "colorscale": [
             [
              0,
              "#0d0887"
             ],
             [
              0.1111111111111111,
              "#46039f"
             ],
             [
              0.2222222222222222,
              "#7201a8"
             ],
             [
              0.3333333333333333,
              "#9c179e"
             ],
             [
              0.4444444444444444,
              "#bd3786"
             ],
             [
              0.5555555555555556,
              "#d8576b"
             ],
             [
              0.6666666666666666,
              "#ed7953"
             ],
             [
              0.7777777777777778,
              "#fb9f3a"
             ],
             [
              0.8888888888888888,
              "#fdca26"
             ],
             [
              1,
              "#f0f921"
             ]
            ],
            "type": "contour"
           }
          ],
          "contourcarpet": [
           {
            "colorbar": {
             "outlinewidth": 0,
             "ticks": ""
            },
            "type": "contourcarpet"
           }
          ],
          "heatmap": [
           {
            "colorbar": {
             "outlinewidth": 0,
             "ticks": ""
            },
            "colorscale": [
             [
              0,
              "#0d0887"
             ],
             [
              0.1111111111111111,
              "#46039f"
             ],
             [
              0.2222222222222222,
              "#7201a8"
             ],
             [
              0.3333333333333333,
              "#9c179e"
             ],
             [
              0.4444444444444444,
              "#bd3786"
             ],
             [
              0.5555555555555556,
              "#d8576b"
             ],
             [
              0.6666666666666666,
              "#ed7953"
             ],
             [
              0.7777777777777778,
              "#fb9f3a"
             ],
             [
              0.8888888888888888,
              "#fdca26"
             ],
             [
              1,
              "#f0f921"
             ]
            ],
            "type": "heatmap"
           }
          ],
          "heatmapgl": [
           {
            "colorbar": {
             "outlinewidth": 0,
             "ticks": ""
            },
            "colorscale": [
             [
              0,
              "#0d0887"
             ],
             [
              0.1111111111111111,
              "#46039f"
             ],
             [
              0.2222222222222222,
              "#7201a8"
             ],
             [
              0.3333333333333333,
              "#9c179e"
             ],
             [
              0.4444444444444444,
              "#bd3786"
             ],
             [
              0.5555555555555556,
              "#d8576b"
             ],
             [
              0.6666666666666666,
              "#ed7953"
             ],
             [
              0.7777777777777778,
              "#fb9f3a"
             ],
             [
              0.8888888888888888,
              "#fdca26"
             ],
             [
              1,
              "#f0f921"
             ]
            ],
            "type": "heatmapgl"
           }
          ],
          "histogram": [
           {
            "marker": {
             "pattern": {
              "fillmode": "overlay",
              "size": 10,
              "solidity": 0.2
             }
            },
            "type": "histogram"
           }
          ],
          "histogram2d": [
           {
            "colorbar": {
             "outlinewidth": 0,
             "ticks": ""
            },
            "colorscale": [
             [
              0,
              "#0d0887"
             ],
             [
              0.1111111111111111,
              "#46039f"
             ],
             [
              0.2222222222222222,
              "#7201a8"
             ],
             [
              0.3333333333333333,
              "#9c179e"
             ],
             [
              0.4444444444444444,
              "#bd3786"
             ],
             [
              0.5555555555555556,
              "#d8576b"
             ],
             [
              0.6666666666666666,
              "#ed7953"
             ],
             [
              0.7777777777777778,
              "#fb9f3a"
             ],
             [
              0.8888888888888888,
              "#fdca26"
             ],
             [
              1,
              "#f0f921"
             ]
            ],
            "type": "histogram2d"
           }
          ],
          "histogram2dcontour": [
           {
            "colorbar": {
             "outlinewidth": 0,
             "ticks": ""
            },
            "colorscale": [
             [
              0,
              "#0d0887"
             ],
             [
              0.1111111111111111,
              "#46039f"
             ],
             [
              0.2222222222222222,
              "#7201a8"
             ],
             [
              0.3333333333333333,
              "#9c179e"
             ],
             [
              0.4444444444444444,
              "#bd3786"
             ],
             [
              0.5555555555555556,
              "#d8576b"
             ],
             [
              0.6666666666666666,
              "#ed7953"
             ],
             [
              0.7777777777777778,
              "#fb9f3a"
             ],
             [
              0.8888888888888888,
              "#fdca26"
             ],
             [
              1,
              "#f0f921"
             ]
            ],
            "type": "histogram2dcontour"
           }
          ],
          "mesh3d": [
           {
            "colorbar": {
             "outlinewidth": 0,
             "ticks": ""
            },
            "type": "mesh3d"
           }
          ],
          "parcoords": [
           {
            "line": {
             "colorbar": {
              "outlinewidth": 0,
              "ticks": ""
             }
            },
            "type": "parcoords"
           }
          ],
          "pie": [
           {
            "automargin": true,
            "type": "pie"
           }
          ],
          "scatter": [
           {
            "fillpattern": {
             "fillmode": "overlay",
             "size": 10,
             "solidity": 0.2
            },
            "type": "scatter"
           }
          ],
          "scatter3d": [
           {
            "line": {
             "colorbar": {
              "outlinewidth": 0,
              "ticks": ""
             }
            },
            "marker": {
             "colorbar": {
              "outlinewidth": 0,
              "ticks": ""
             }
            },
            "type": "scatter3d"
           }
          ],
          "scattercarpet": [
           {
            "marker": {
             "colorbar": {
              "outlinewidth": 0,
              "ticks": ""
             }
            },
            "type": "scattercarpet"
           }
          ],
          "scattergeo": [
           {
            "marker": {
             "colorbar": {
              "outlinewidth": 0,
              "ticks": ""
             }
            },
            "type": "scattergeo"
           }
          ],
          "scattergl": [
           {
            "marker": {
             "colorbar": {
              "outlinewidth": 0,
              "ticks": ""
             }
            },
            "type": "scattergl"
           }
          ],
          "scattermapbox": [
           {
            "marker": {
             "colorbar": {
              "outlinewidth": 0,
              "ticks": ""
             }
            },
            "type": "scattermapbox"
           }
          ],
          "scatterpolar": [
           {
            "marker": {
             "colorbar": {
              "outlinewidth": 0,
              "ticks": ""
             }
            },
            "type": "scatterpolar"
           }
          ],
          "scatterpolargl": [
           {
            "marker": {
             "colorbar": {
              "outlinewidth": 0,
              "ticks": ""
             }
            },
            "type": "scatterpolargl"
           }
          ],
          "scatterternary": [
           {
            "marker": {
             "colorbar": {
              "outlinewidth": 0,
              "ticks": ""
             }
            },
            "type": "scatterternary"
           }
          ],
          "surface": [
           {
            "colorbar": {
             "outlinewidth": 0,
             "ticks": ""
            },
            "colorscale": [
             [
              0,
              "#0d0887"
             ],
             [
              0.1111111111111111,
              "#46039f"
             ],
             [
              0.2222222222222222,
              "#7201a8"
             ],
             [
              0.3333333333333333,
              "#9c179e"
             ],
             [
              0.4444444444444444,
              "#bd3786"
             ],
             [
              0.5555555555555556,
              "#d8576b"
             ],
             [
              0.6666666666666666,
              "#ed7953"
             ],
             [
              0.7777777777777778,
              "#fb9f3a"
             ],
             [
              0.8888888888888888,
              "#fdca26"
             ],
             [
              1,
              "#f0f921"
             ]
            ],
            "type": "surface"
           }
          ],
          "table": [
           {
            "cells": {
             "fill": {
              "color": "#EBF0F8"
             },
             "line": {
              "color": "white"
             }
            },
            "header": {
             "fill": {
              "color": "#C8D4E3"
             },
             "line": {
              "color": "white"
             }
            },
            "type": "table"
           }
          ]
         },
         "layout": {
          "annotationdefaults": {
           "arrowcolor": "#2a3f5f",
           "arrowhead": 0,
           "arrowwidth": 1
          },
          "autotypenumbers": "strict",
          "coloraxis": {
           "colorbar": {
            "outlinewidth": 0,
            "ticks": ""
           }
          },
          "colorscale": {
           "diverging": [
            [
             0,
             "#8e0152"
            ],
            [
             0.1,
             "#c51b7d"
            ],
            [
             0.2,
             "#de77ae"
            ],
            [
             0.3,
             "#f1b6da"
            ],
            [
             0.4,
             "#fde0ef"
            ],
            [
             0.5,
             "#f7f7f7"
            ],
            [
             0.6,
             "#e6f5d0"
            ],
            [
             0.7,
             "#b8e186"
            ],
            [
             0.8,
             "#7fbc41"
            ],
            [
             0.9,
             "#4d9221"
            ],
            [
             1,
             "#276419"
            ]
           ],
           "sequential": [
            [
             0,
             "#0d0887"
            ],
            [
             0.1111111111111111,
             "#46039f"
            ],
            [
             0.2222222222222222,
             "#7201a8"
            ],
            [
             0.3333333333333333,
             "#9c179e"
            ],
            [
             0.4444444444444444,
             "#bd3786"
            ],
            [
             0.5555555555555556,
             "#d8576b"
            ],
            [
             0.6666666666666666,
             "#ed7953"
            ],
            [
             0.7777777777777778,
             "#fb9f3a"
            ],
            [
             0.8888888888888888,
             "#fdca26"
            ],
            [
             1,
             "#f0f921"
            ]
           ],
           "sequentialminus": [
            [
             0,
             "#0d0887"
            ],
            [
             0.1111111111111111,
             "#46039f"
            ],
            [
             0.2222222222222222,
             "#7201a8"
            ],
            [
             0.3333333333333333,
             "#9c179e"
            ],
            [
             0.4444444444444444,
             "#bd3786"
            ],
            [
             0.5555555555555556,
             "#d8576b"
            ],
            [
             0.6666666666666666,
             "#ed7953"
            ],
            [
             0.7777777777777778,
             "#fb9f3a"
            ],
            [
             0.8888888888888888,
             "#fdca26"
            ],
            [
             1,
             "#f0f921"
            ]
           ]
          },
          "colorway": [
           "#636efa",
           "#EF553B",
           "#00cc96",
           "#ab63fa",
           "#FFA15A",
           "#19d3f3",
           "#FF6692",
           "#B6E880",
           "#FF97FF",
           "#FECB52"
          ],
          "font": {
           "color": "#2a3f5f"
          },
          "geo": {
           "bgcolor": "white",
           "lakecolor": "white",
           "landcolor": "#E5ECF6",
           "showlakes": true,
           "showland": true,
           "subunitcolor": "white"
          },
          "hoverlabel": {
           "align": "left"
          },
          "hovermode": "closest",
          "mapbox": {
           "style": "light"
          },
          "paper_bgcolor": "white",
          "plot_bgcolor": "#E5ECF6",
          "polar": {
           "angularaxis": {
            "gridcolor": "white",
            "linecolor": "white",
            "ticks": ""
           },
           "bgcolor": "#E5ECF6",
           "radialaxis": {
            "gridcolor": "white",
            "linecolor": "white",
            "ticks": ""
           }
          },
          "scene": {
           "xaxis": {
            "backgroundcolor": "#E5ECF6",
            "gridcolor": "white",
            "gridwidth": 2,
            "linecolor": "white",
            "showbackground": true,
            "ticks": "",
            "zerolinecolor": "white"
           },
           "yaxis": {
            "backgroundcolor": "#E5ECF6",
            "gridcolor": "white",
            "gridwidth": 2,
            "linecolor": "white",
            "showbackground": true,
            "ticks": "",
            "zerolinecolor": "white"
           },
           "zaxis": {
            "backgroundcolor": "#E5ECF6",
            "gridcolor": "white",
            "gridwidth": 2,
            "linecolor": "white",
            "showbackground": true,
            "ticks": "",
            "zerolinecolor": "white"
           }
          },
          "shapedefaults": {
           "line": {
            "color": "#2a3f5f"
           }
          },
          "ternary": {
           "aaxis": {
            "gridcolor": "white",
            "linecolor": "white",
            "ticks": ""
           },
           "baxis": {
            "gridcolor": "white",
            "linecolor": "white",
            "ticks": ""
           },
           "bgcolor": "#E5ECF6",
           "caxis": {
            "gridcolor": "white",
            "linecolor": "white",
            "ticks": ""
           }
          },
          "title": {
           "x": 0.05
          },
          "xaxis": {
           "automargin": true,
           "gridcolor": "white",
           "linecolor": "white",
           "ticks": "",
           "title": {
            "standoff": 15
           },
           "zerolinecolor": "white",
           "zerolinewidth": 2
          },
          "yaxis": {
           "automargin": true,
           "gridcolor": "white",
           "linecolor": "white",
           "ticks": "",
           "title": {
            "standoff": 15
           },
           "zerolinecolor": "white",
           "zerolinewidth": 2
          }
         }
        },
        "violinmode": "group",
        "xaxis": {
         "anchor": "y",
         "domain": [
          0,
          1
         ],
         "title": {
          "text": "male.qual"
         }
        },
        "yaxis": {
         "anchor": "x",
         "domain": [
          0,
          1
         ],
         "title": {
          "text": "latency.cop"
         }
        }
       }
      }
     },
     "metadata": {},
     "output_type": "display_data"
    },
    {
     "data": {
      "application/vnd.plotly.v1+json": {
       "config": {
        "plotlyServerURL": "https://plot.ly"
       },
       "data": [
        {
         "alignmentgroup": "True",
         "box": {
          "visible": true
         },
         "customdata": [
          [
           "116x85",
           1,
           116,
           "HL",
           12,
           0.1347,
           85,
           15,
           0.067,
           "1",
           "5/16/2023",
           "DB",
           null,
           2650,
           "N",
           1,
           1,
           0,
           0,
           0,
           1,
           null,
           87
          ],
          [
           "122x75",
           1,
           122,
           "LH",
           12,
           0.1818,
           75,
           15,
           0.0703,
           "1",
           "5/16/2023",
           "DB",
           0.0078,
           2156,
           "N",
           1,
           1,
           1,
           0,
           0,
           0,
           293,
           559
          ],
          [
           "123x86",
           1,
           123,
           "LH",
           13,
           0.1215,
           86,
           15,
           0.0788,
           "1",
           "5/16/2023",
           "DB",
           0.0069,
           2793,
           "N",
           0,
           1,
           1,
           1,
           1,
           1,
           2092,
           162
          ],
          [
           "124x76",
           1,
           124,
           "HL",
           12,
           0.1222,
           76,
           24,
           0.0621,
           "1",
           "5/16/2023",
           "DB",
           0.0235,
           2403,
           "N",
           0,
           0,
           0,
           0,
           0,
           0,
           null,
           null
          ],
          [
           "46x25",
           1,
           46,
           "HL",
           15,
           0.1645,
           25,
           20,
           0.0908,
           "1",
           "5/16/2023",
           "MMO",
           0.0137,
           2448,
           "N",
           0,
           0,
           1,
           1,
           1,
           1,
           237,
           null
          ],
          [
           "87x90",
           1,
           87,
           "LH",
           15,
           0.1755,
           90,
           19,
           0.108,
           "1",
           "5/16/2023",
           "MMO",
           0.0043,
           4770,
           "N",
           1,
           1,
           1,
           1,
           0,
           1,
           608,
           691
          ],
          [
           "92x20",
           1,
           92,
           "LH",
           15,
           0.1554,
           20,
           19,
           0.0754,
           "1",
           "5/16/2023",
           "DB",
           0.008,
           4931,
           "N",
           0,
           1,
           1,
           0,
           0,
           0,
           70,
           107
          ],
          [
           "93x80",
           1,
           93,
           "LH",
           11,
           0.1128,
           80,
           15,
           0.0832,
           "1",
           "5/16/2023",
           "MMO",
           0.0145,
           2475,
           "N",
           0,
           1,
           0,
           0,
           0,
           0,
           null,
           173
          ],
          [
           "95x77",
           1,
           95,
           "HL",
           12,
           0.169,
           77,
           15,
           0.1027,
           "1",
           "5/16/2023",
           "MMO",
           0.0099,
           1513,
           "Y",
           0,
           1,
           1,
           0,
           0,
           0,
           279,
           426
          ],
          [
           "99x89",
           1,
           99,
           "HL",
           11,
           0.1265,
           89,
           15,
           0.0854,
           "1",
           "5/16/2023",
           "MMO",
           0.0114,
           3706,
           "N",
           1,
           1,
           1,
           1,
           0,
           0,
           502,
           656
          ],
          [
           "121x105",
           2,
           121,
           "LH",
           12,
           0.1159,
           105,
           17,
           0.0988,
           "1",
           "5/19/2023",
           "MMO",
           0.0064,
           2405,
           "N",
           1,
           0,
           0,
           1,
           1,
           1,
           null,
           null
          ],
          [
           "128x74",
           2,
           128,
           "HL",
           12,
           0.1512,
           74,
           16,
           0.0752,
           "1",
           "5/19/2023",
           "MMO",
           0.0057,
           2397,
           "N",
           1,
           1,
           1,
           1,
           0,
           0,
           95,
           185
          ],
          [
           "139x162",
           2,
           139,
           "HL",
           12,
           0.1675,
           162,
           15,
           0.0827,
           "1",
           "5/19/2023",
           "MMO",
           0.0072,
           4184,
           "N",
           1,
           1,
           1,
           1,
           1,
           1,
           537,
           600
          ],
          [
           "144x157",
           2,
           144,
           "LH",
           12,
           0.1292,
           157,
           15,
           0.1126,
           "1",
           "5/19/2023",
           "MMO",
           0.0137,
           2405,
           "N",
           1,
           1,
           1,
           0,
           1,
           1,
           null,
           611
          ],
          [
           "149x109",
           2,
           149,
           "LH",
           12,
           0.1753,
           109,
           18,
           0.1165,
           "1",
           "5/19/2023",
           "MMO",
           0.0052,
           6017,
           "N",
           1,
           1,
           1,
           0,
           0,
           1,
           262,
           650
          ],
          [
           "155x108",
           2,
           155,
           "LH",
           12,
           0.1591,
           108,
           18,
           0.117,
           "1",
           "5/19/2023",
           "MMO",
           0.0071,
           4209,
           "N",
           1,
           1,
           1,
           0,
           1,
           1,
           172,
           266
          ],
          [
           "203x129",
           2,
           203,
           "HL",
           12,
           0.1102,
           129,
           16,
           0.0683,
           "1",
           "5/19/2023",
           "MMO",
           0.0056,
           4567,
           "N",
           1,
           1,
           1,
           0,
           0,
           0,
           93,
           199
          ],
          [
           "44x64",
           2,
           44,
           "LH",
           12,
           0.1852,
           64,
           15,
           0.0653,
           "1",
           "5/19/2023",
           "MMO",
           0.009,
           2240,
           "Y",
           1,
           1,
           1,
           0,
           0,
           1,
           591,
           728
          ],
          [
           "53x113",
           2,
           53,
           "HL",
           12,
           0.1315,
           113,
           15,
           0.0793,
           "1",
           "5/19/2023",
           "MMO",
           0.0083,
           2441,
           "N",
           1,
           1,
           1,
           1,
           0,
           0,
           232,
           286
          ],
          [
           "56x62",
           2,
           56,
           "HL",
           12,
           0.1243,
           62,
           17,
           0.0671,
           "1",
           "5/19/2023",
           "MMO",
           0.0092,
           4334,
           "N",
           1,
           1,
           1,
           0,
           0,
           1,
           256,
           361
          ],
          [
           "125x161",
           3,
           125,
           "HL",
           14,
           0.1836,
           161,
           15,
           0.1031,
           "1",
           "5/22/2023",
           "DB",
           0.0133,
           4041,
           "N",
           0,
           1,
           1,
           1,
           1,
           1,
           812,
           262
          ],
          [
           "138x100",
           3,
           138,
           "LH",
           13,
           0.1931,
           100,
           17,
           0.0965,
           "1",
           "5/22/2023",
           "DB",
           0.0028,
           3228,
           "N",
           1,
           1,
           1,
           1,
           1,
           1,
           378,
           597
          ],
          [
           "141x135",
           3,
           141,
           "LH",
           14,
           0.187,
           135,
           15,
           0.0911,
           "1",
           "5/22/2023",
           "DB",
           0.0119,
           5412,
           "N",
           1,
           1,
           1,
           1,
           0,
           1,
           870,
           1078
          ],
          [
           "142x60",
           3,
           142,
           "HL",
           14,
           0.1383,
           60,
           17,
           0.0585,
           "1",
           "5/22/2023",
           "MMO",
           0.0064,
           2502,
           "N",
           0,
           0,
           0,
           1,
           0,
           0,
           null,
           null
          ],
          [
           "143x134",
           3,
           143,
           "HL",
           13,
           0.2311,
           134,
           17,
           0.0853,
           "1",
           "5/22/2023",
           "MMO",
           0.0082,
           2411,
           "N",
           1,
           1,
           1,
           0,
           1,
           1,
           425,
           494
          ],
          [
           "153x159",
           3,
           153,
           "HL",
           14,
           0.1741,
           159,
           15,
           0.0853,
           "1",
           "5/22/2023",
           "MMO",
           0.0073,
           4996,
           "N",
           1,
           1,
           1,
           0,
           0,
           0,
           51,
           117
          ],
          [
           "42x156",
           3,
           42,
           "HL",
           13,
           0.1294,
           156,
           15,
           0.0882,
           "1",
           "5/22/2023",
           "DB",
           0.0135,
           2317,
           "N",
           0,
           1,
           1,
           1,
           0,
           1,
           442,
           120
          ],
          [
           "48x133",
           3,
           48,
           "LH",
           13,
           0.1292,
           133,
           15,
           0.0637,
           "1",
           "5/22/2023",
           "MMO",
           0.0029,
           2419,
           "N",
           0,
           0,
           0,
           0,
           0,
           0,
           null,
           null
          ],
          [
           "50x107",
           3,
           50,
           "LH",
           14,
           0.1314,
           107,
           15,
           0.0841,
           "1",
           "5/22/2023",
           "MMO",
           0.0152,
           3257,
           "N",
           0,
           1,
           1,
           0,
           1,
           1,
           474,
           575
          ],
          [
           "94x118",
           3,
           94,
           "LH",
           13,
           0.1673,
           118,
           15,
           0.0866,
           "1",
           "5/22/2023",
           "DB",
           0.0052,
           3804,
           "N",
           0,
           1,
           1,
           1,
           0,
           1,
           330,
           941
          ],
          [
           "115x230",
           4,
           115,
           "HL",
           15,
           0.1792,
           230,
           17,
           0.0798,
           "1",
           "5/25/2023",
           "DB",
           0.0047,
           2446,
           "N",
           1,
           1,
           0,
           1,
           1,
           1,
           null,
           1011
          ],
          [
           "140x246",
           4,
           140,
           "LH",
           16,
           0.1784,
           246,
           18,
           0.089,
           "1",
           "5/25/2023",
           "DB",
           0.0068,
           3262,
           "N",
           1,
           1,
           1,
           1,
           1,
           1,
           403,
           447
          ],
          [
           "145x218",
           4,
           145,
           "HL",
           15,
           0.1979,
           218,
           17,
           0.0955,
           "1",
           "5/25/2023",
           "MMO",
           0.0092,
           5090,
           "N",
           0,
           1,
           1,
           1,
           1,
           1,
           667,
           893
          ],
          [
           "150x167",
           4,
           150,
           "HL",
           16,
           0.1818,
           167,
           18,
           0.0929,
           "1",
           "5/25/2023",
           "MMO",
           0.0078,
           4258,
           "N",
           1,
           1,
           1,
           0,
           1,
           1,
           376,
           455
          ],
          [
           "152x160",
           4,
           152,
           "HL",
           16,
           0.2096,
           160,
           17,
           0.1214,
           "1",
           "5/25/2023",
           "MMO",
           0.0092,
           5437,
           "N",
           0,
           1,
           1,
           1,
           1,
           1,
           544,
           640
          ],
          [
           "178x240",
           4,
           178,
           "LH",
           15,
           0.1933,
           240,
           17,
           0.1207,
           "1",
           "5/25/2023",
           "DB",
           0.0058,
           5674,
           "N",
           1,
           1,
           1,
           1,
           1,
           1,
           1075,
           1139
          ],
          [
           "184x170",
           4,
           184,
           "HL",
           16,
           0.1748,
           170,
           18,
           0.096,
           "1",
           "5/25/2023",
           "DB",
           0.0109,
           2744,
           "N",
           0,
           1,
           1,
           0,
           0,
           1,
           158,
           295
          ],
          [
           "192x223",
           4,
           192,
           "LH",
           16,
           0.1746,
           223,
           18,
           0.063,
           "1",
           "5/25/2023",
           "MMO",
           0.0135,
           2423,
           "N",
           0,
           0,
           0,
           1,
           0,
           0,
           null,
           null
          ],
          [
           "194x171",
           4,
           194,
           "LH",
           16,
           0.1618,
           171,
           18,
           0.0932,
           "1",
           "5/25/2023",
           "DB",
           0.0139,
           7290,
           "N",
           0,
           1,
           1,
           0,
           1,
           1,
           520,
           589
          ],
          [
           "174x231",
           5,
           174,
           "HL",
           17,
           0.1028,
           231,
           18,
           0.091,
           "1",
           "5/28/2023",
           "DB",
           0.007,
           3121,
           "N",
           0,
           1,
           1,
           1,
           0,
           0,
           250,
           449
          ],
          [
           "175x245",
           5,
           175,
           "LH",
           17,
           0.129,
           245,
           18,
           0.1065,
           "1",
           "5/28/2023",
           "DB",
           0.0052,
           4550,
           "N",
           0,
           1,
           1,
           1,
           1,
           1,
           367,
           487
          ],
          [
           "176x221",
           5,
           176,
           "HL",
           17,
           0.1474,
           221,
           17,
           0.0729,
           "1",
           "5/28/2023",
           "DB",
           0.0069,
           795,
           "Y",
           0,
           0,
           0,
           1,
           1,
           1,
           null,
           null
          ],
          [
           "188x234",
           5,
           188,
           "HL",
           18,
           0.16,
           234,
           18,
           0.12,
           "1",
           "5/28/2023",
           "DB",
           0.0064,
           5917,
           "N",
           1,
           1,
           1,
           0,
           1,
           1,
           397,
           1044
          ],
          [
           "189x247",
           5,
           189,
           "LH",
           18,
           0.1215,
           247,
           18,
           0.0731,
           "1",
           "5/28/2023",
           "DB",
           0.0083,
           2401,
           "N",
           1,
           1,
           1,
           1,
           1,
           0,
           603,
           671
          ],
          [
           "190x228",
           5,
           190,
           "LH",
           18,
           0.1449,
           228,
           19,
           0.1097,
           "1",
           "5/28/2023",
           "DB",
           0.0063,
           4147,
           "N",
           0,
           1,
           1,
           0,
           1,
           1,
           385,
           153
          ],
          [
           "193x233",
           5,
           193,
           "LH",
           18,
           0.1651,
           233,
           17,
           0.0836,
           "1",
           "5/28/2023",
           "DB",
           0.0042,
           6677,
           "N",
           0,
           1,
           1,
           1,
           1,
           1,
           1726,
           1805
          ],
          [
           "200x173",
           5,
           200,
           "HL",
           18,
           0.1537,
           173,
           18,
           0.1096,
           "1",
           "5/28/2023",
           "DB",
           0.0075,
           4132,
           "N",
           1,
           1,
           1,
           1,
           1,
           1,
           410,
           545
          ],
          [
           "51x81",
           5,
           51,
           "LH",
           17,
           0.1594,
           81,
           18,
           0.0992,
           "1",
           "5/28/2023",
           "DB",
           0.0089,
           3821,
           "N",
           0,
           1,
           1,
           0,
           0,
           0,
           289,
           298
          ],
          [
           "71x232",
           5,
           71,
           "HL",
           17,
           0.1276,
           232,
           19,
           0.083,
           "1",
           "5/28/2023",
           "DB",
           0.01,
           4916,
           "N",
           1,
           1,
           1,
           1,
           0,
           1,
           466,
           597
          ],
          [
           "154x248",
           6,
           154,
           "LH",
           24,
           0.1214,
           248,
           13,
           0.1038,
           "1",
           "5/31/2023",
           "DB",
           0.0182,
           2406,
           "N",
           1,
           1,
           1,
           1,
           1,
           1,
           410,
           635
          ],
          [
           "196x127",
           6,
           196,
           "HL",
           19,
           0.1574,
           127,
           17,
           0.0958,
           "1",
           "5/31/2023",
           "DB",
           0.0035,
           2465,
           "N",
           0,
           1,
           1,
           0,
           1,
           1,
           1236,
           234
          ],
          [
           "197x236",
           6,
           197,
           "LH",
           20,
           0.1472,
           236,
           20,
           0.111,
           "1",
           "5/31/2023",
           "DB",
           0.0144,
           4101,
           "N",
           1,
           1,
           1,
           0,
           0,
           0,
           139,
           500
          ],
          [
           "202x219",
           6,
           202,
           "LH",
           20,
           0.1434,
           219,
           19,
           0.0941,
           "1",
           "5/31/2023",
           "DB",
           0.0031,
           2409,
           "N",
           1,
           1,
           1,
           1,
           0,
           1,
           170,
           298
          ],
          [
           "208x249",
           6,
           208,
           "HL",
           20,
           0.1648,
           249,
           13,
           0.1171,
           "1",
           "5/31/2023",
           "DB",
           0.0031,
           4436,
           "N",
           1,
           1,
           1,
           1,
           1,
           1,
           634,
           984
          ],
          [
           "209x250",
           6,
           209,
           "LH",
           20,
           0.1919,
           250,
           13,
           0.0979,
           "1",
           "5/31/2023",
           "DB",
           0.0034,
           4251,
           "N",
           1,
           1,
           1,
           1,
           0,
           1,
           561,
           723
          ],
          [
           "213x59",
           6,
           213,
           "HL",
           20,
           0.1533,
           59,
           16,
           0.0779,
           "1",
           "5/31/2023",
           "DB",
           0.0069,
           2391,
           "N",
           0,
           1,
           1,
           0,
           0,
           0,
           132,
           357
          ],
          [
           "263x238",
           6,
           263,
           "HL",
           15,
           0.1464,
           238,
           20,
           0.1025,
           "1",
           "5/31/2023",
           "DB",
           0.0068,
           3174,
           "N",
           1,
           1,
           1,
           1,
           0,
           1,
           232,
           372
          ],
          [
           "91x222",
           6,
           91,
           "HL",
           19,
           0.1231,
           222,
           19,
           0.0798,
           "1",
           "5/31/2023",
           "DB",
           0.0107,
           4460,
           "N",
           1,
           1,
           1,
           1,
           1,
           1,
           564,
           650
          ]
         ],
         "hovertemplate": "mating.order=%{customdata[9]}<br>male.qual=%{x}<br>cop.duration=%{y}<br>mating.ID=%{customdata[0]}<br>cohort=%{customdata[1]}<br>female.ID=%{customdata[2]}<br>female.group=%{customdata[3]}<br>female.age=%{customdata[4]}<br>female.wt=%{customdata[5]}<br>male.ID=%{customdata[6]}<br>male.age=%{customdata[7]}<br>male.wt=%{customdata[8]}<br>date=%{customdata[10]}<br>scorer=%{customdata[11]}<br>gift.wt=%{customdata[12]}<br>trial.dur=%{customdata[13]}<br>female.aggression=%{customdata[14]}<br>male.w.gift=%{customdata[15]}<br>mating.success=%{customdata[16]}<br>gift.acceptance=%{customdata[17]}<br>signal=%{customdata[18]}<br>wrapping=%{customdata[19]}<br>rubbing=%{customdata[20]}<br>latency.gift=%{customdata[21]}<br>latency.cop=%{customdata[22]}<extra></extra>",
         "legendgroup": "1",
         "marker": {
          "color": "#636efa"
         },
         "name": "1",
         "offsetgroup": "1",
         "orientation": "v",
         "points": "all",
         "scalegroup": "True",
         "showlegend": true,
         "type": "violin",
         "x": [
          "H",
          "L",
          "L",
          "H",
          "H",
          "L",
          "L",
          "L",
          "H",
          "H",
          "L",
          "H",
          "H",
          "L",
          "L",
          "L",
          "H",
          "L",
          "H",
          "H",
          "H",
          "L",
          "L",
          "H",
          "H",
          "H",
          "H",
          "L",
          "L",
          "L",
          "H",
          "L",
          "H",
          "H",
          "H",
          "L",
          "H",
          "L",
          "L",
          "H",
          "L",
          "H",
          "H",
          "L",
          "L",
          "L",
          "H",
          "L",
          "H",
          "L",
          "H",
          "L",
          "L",
          "H",
          "L",
          "H",
          "H",
          "H"
         ],
         "x0": " ",
         "xaxis": "x",
         "y": [
          390,
          221,
          1252,
          0,
          0,
          3880,
          4084,
          45,
          305,
          1874,
          0,
          469,
          2979,
          33,
          4573,
          2042,
          3730,
          953,
          768,
          2603,
          3036,
          1835,
          3144,
          0,
          1032,
          3562,
          1806,
          0,
          2613,
          2306,
          11,
          1920,
          4008,
          3734,
          4750,
          4293,
          2324,
          0,
          5778,
          2092,
          3743,
          0,
          4760,
          1003,
          3120,
          4541,
          2905,
          1975,
          3802,
          987,
          1251,
          2171,
          1798,
          2815,
          2653,
          1318,
          2223,
          3712
         ],
         "y0": " ",
         "yaxis": "y"
        },
        {
         "alignmentgroup": "True",
         "box": {
          "visible": true
         },
         "customdata": [
          [
           "116x86",
           1,
           116,
           "HL",
           12,
           0.1347,
           86,
           15,
           0.0788,
           "2",
           "5/17/2023",
           "MMO",
           0.014,
           6453,
           "N",
           1,
           1,
           1,
           0,
           0,
           1,
           529,
           606
          ],
          [
           "122x76",
           1,
           122,
           "LH",
           12,
           0.1818,
           76,
           24,
           0.0621,
           "2",
           "5/17/2023",
           "MMO",
           0.0085,
           1567,
           "Y",
           1,
           0,
           0,
           0,
           0,
           0,
           null,
           null
          ],
          [
           "123x89",
           1,
           123,
           "LH",
           13,
           0.1215,
           89,
           15,
           0.0854,
           "2",
           "5/17/2023",
           "MMO",
           0.0112,
           2399,
           "N",
           0,
           1,
           1,
           0,
           0,
           0,
           64,
           243
          ],
          [
           "124x20",
           1,
           124,
           "HL",
           12,
           0.1222,
           20,
           19,
           0.0754,
           "2",
           "5/17/2023",
           "MMO",
           0.0168,
           2459,
           "N",
           0,
           1,
           1,
           0,
           0,
           1,
           916,
           545
          ],
          [
           "46x80",
           1,
           46,
           "HL",
           15,
           0.1645,
           80,
           15,
           0.0832,
           "2",
           "5/17/2023",
           "MMO",
           0.012,
           6595,
           "N",
           1,
           1,
           1,
           1,
           0,
           1,
           301,
           383
          ],
          [
           "87x77",
           1,
           87,
           "LH",
           15,
           0.1755,
           77,
           15,
           0.1027,
           "2",
           "5/17/2023",
           "MMO",
           0.0075,
           2406,
           "N",
           1,
           0,
           0,
           1,
           0,
           1,
           null,
           null
          ],
          [
           "92x25",
           1,
           92,
           "LH",
           15,
           0.1554,
           25,
           20,
           0.0908,
           "2",
           "5/17/2023",
           "MMO",
           0.0084,
           2407,
           "N",
           1,
           1,
           1,
           1,
           1,
           1,
           283,
           544
          ],
          [
           "93x85",
           1,
           93,
           "LH",
           11,
           0.1128,
           85,
           15,
           0.067,
           "2",
           "5/17/2023",
           "MMO",
           0.0092,
           2943,
           "N",
           1,
           1,
           1,
           0,
           0,
           0,
           16,
           928
          ],
          [
           "95x90",
           1,
           95,
           "HL",
           12,
           0.169,
           90,
           19,
           0.108,
           "2",
           "5/17/2023",
           "MMO",
           0.0042,
           2379,
           "N",
           0,
           0,
           0,
           0,
           0,
           0,
           null,
           null
          ],
          [
           "99x75",
           1,
           99,
           "HL",
           11,
           0.1265,
           75,
           15,
           0.0703,
           "2",
           "5/17/2023",
           "MMO",
           0.0139,
           2386,
           "N",
           1,
           1,
           1,
           0,
           0,
           0,
           8,
           422
          ],
          [
           "121x162",
           2,
           121,
           "LH",
           12,
           0.1159,
           162,
           15,
           0.0827,
           "2",
           "5/20/2023",
           "MMO",
           null,
           2826,
           "N",
           0,
           1,
           1,
           1,
           1,
           1,
           684,
           729
          ],
          [
           "128x108",
           2,
           128,
           "HL",
           12,
           0.1512,
           108,
           18,
           0.117,
           "2",
           "5/20/2023",
           "MMO",
           0.0178,
           286,
           "Y",
           0,
           0,
           0,
           0,
           0,
           0,
           null,
           null
          ],
          [
           "139x157",
           2,
           139,
           "HL",
           12,
           0.1675,
           157,
           15,
           0.1126,
           "2",
           "5/20/2023",
           "DB",
           0.0175,
           5706,
           "N",
           1,
           1,
           1,
           0,
           0,
           0,
           24,
           160
          ],
          [
           "144x113",
           2,
           144,
           "LH",
           12,
           0.1292,
           113,
           15,
           0.0793,
           "2",
           "5/20/2023",
           "DB",
           0.0174,
           2401,
           "N",
           1,
           1,
           1,
           0,
           0,
           1,
           545,
           661
          ],
          [
           "149x62",
           2,
           149,
           "LH",
           12,
           0.1753,
           62,
           17,
           0.0671,
           "2",
           "5/20/2023",
           "MMO",
           0.0049,
           1041,
           "Y",
           0,
           0,
           0,
           0,
           0,
           0,
           1011,
           null
          ],
          [
           "155x113",
           2,
           155,
           "LH",
           12,
           0.1591,
           113,
           15,
           0.0793,
           "2",
           "5/20/2023",
           "MMO",
           0.0174,
           1363,
           "Y",
           0,
           0,
           0,
           0,
           0,
           0,
           null,
           null
          ],
          [
           "203x105",
           2,
           203,
           "HL",
           12,
           0.1102,
           105,
           17,
           0.0988,
           "2",
           "5/20/2023",
           "MMO",
           0.0147,
           2410,
           "N",
           1,
           0,
           0,
           1,
           0,
           0,
           null,
           null
          ],
          [
           "44x74",
           2,
           44,
           "LH",
           12,
           0.1852,
           74,
           16,
           0.0752,
           "2",
           "5/20/2023",
           "MMO",
           0.0161,
           2447,
           "N",
           1,
           0,
           1,
           1,
           0,
           0,
           309,
           null
          ],
          [
           "53x105",
           2,
           53,
           "HL",
           12,
           0.1315,
           105,
           17,
           0.0988,
           "2",
           "5/20/2023",
           "MMO",
           0.0147,
           5230,
           "N",
           1,
           1,
           1,
           1,
           0,
           1,
           855,
           906
          ],
          [
           "56x109",
           2,
           56,
           "HL",
           12,
           0.1243,
           109,
           18,
           0.1165,
           "2",
           "5/20/2023",
           "DB",
           0.0043,
           3783,
           "N",
           0,
           1,
           1,
           0,
           1,
           1,
           315,
           416
          ],
          [
           "125x107",
           3,
           125,
           "HL",
           14,
           0.1836,
           107,
           15,
           0.0841,
           "2",
           "5/23/2023",
           "MMO",
           0.0061,
           2472,
           "N",
           1,
           1,
           1,
           0,
           1,
           0,
           17,
           82
          ],
          [
           "138x161",
           3,
           138,
           "LH",
           13,
           0.1931,
           161,
           15,
           0.1031,
           "2",
           "5/23/2023",
           "DB",
           0.0181,
           139,
           "Y",
           0,
           0,
           0,
           0,
           0,
           0,
           null,
           null
          ],
          [
           "141x159",
           3,
           141,
           "LH",
           14,
           0.187,
           159,
           15,
           0.0853,
           "2",
           "5/23/2023",
           "MMO",
           0.0105,
           104,
           "Y",
           1,
           0,
           0,
           0,
           0,
           0,
           null,
           null
          ],
          [
           "142x135",
           3,
           142,
           "HL",
           14,
           0.1383,
           135,
           15,
           0.0911,
           "2",
           "5/23/2023",
           "DB",
           0.0121,
           2431,
           "N",
           1,
           1,
           1,
           0,
           0,
           0,
           54,
           285
          ],
          [
           "143x100",
           3,
           143,
           "HL",
           13,
           0.2311,
           100,
           17,
           0.0965,
           "2",
           "5/23/2023",
           "DB",
           0.0083,
           3857,
           "N",
           0,
           1,
           1,
           1,
           0,
           1,
           501,
           730
          ],
          [
           "153x133",
           3,
           153,
           "HL",
           14,
           0.1741,
           133,
           15,
           0.0637,
           "2",
           "5/23/2023",
           "DB",
           0.0104,
           61,
           "Y",
           1,
           0,
           0,
           0,
           0,
           0,
           null,
           null
          ],
          [
           "42x118",
           3,
           42,
           "HL",
           13,
           0.1294,
           118,
           15,
           0.0866,
           "2",
           "5/23/2023",
           "DB",
           0.0047,
           2458,
           "N",
           0,
           0,
           0,
           1,
           1,
           1,
           null,
           null
          ],
          [
           "48x60",
           3,
           48,
           "LH",
           13,
           0.1292,
           60,
           17,
           0.0585,
           "2",
           "5/23/2023",
           "MMO",
           0.0118,
           2402,
           "N",
           1,
           1,
           1,
           0,
           0,
           0,
           121,
           389
          ],
          [
           "50x134",
           3,
           50,
           "LH",
           14,
           0.1314,
           134,
           17,
           0.0853,
           "2",
           "5/23/2023",
           "MMO",
           0.0192,
           2410,
           "N",
           1,
           0,
           0,
           1,
           1,
           1,
           null,
           null
          ],
          [
           "94x156",
           3,
           94,
           "LH",
           13,
           0.1673,
           156,
           15,
           0.0882,
           "2",
           "5/23/2023",
           "MMO",
           0.0093,
           4531,
           "N",
           1,
           1,
           1,
           0,
           0,
           0,
           41,
           613
          ],
          [
           "115x171",
           4,
           115,
           "HL",
           15,
           0.1792,
           171,
           18,
           0.0932,
           "2",
           "5/26/2023",
           "DB",
           0.0146,
           2404,
           "N",
           1,
           0,
           0,
           1,
           1,
           1,
           null,
           null
          ],
          [
           "140x230",
           4,
           140,
           "LH",
           16,
           0.1784,
           230,
           17,
           0.0798,
           "2",
           "5/26/2023",
           "MMO",
           0.0047,
           2435,
           "N",
           1,
           1,
           1,
           0,
           0,
           1,
           76,
           318
          ],
          [
           "145x223",
           4,
           145,
           "HL",
           15,
           0.1979,
           223,
           18,
           0.063,
           "2",
           "5/26/2023",
           "DB",
           0.0028,
           2410,
           "N",
           1,
           0,
           0,
           1,
           0,
           1,
           null,
           null
          ],
          [
           "150x240",
           4,
           150,
           "HL",
           16,
           0.1818,
           240,
           17,
           0.1207,
           "2",
           "5/26/2023",
           "DB",
           0.0056,
           2411,
           "N",
           0,
           0,
           0,
           1,
           0,
           0,
           null,
           null
          ],
          [
           "152x163",
           4,
           152,
           "HL",
           16,
           0.2096,
           163,
           18,
           0.1101,
           "2",
           "5/26/2023",
           "MMO",
           0.0048,
           2398,
           "N",
           1,
           0,
           0,
           1,
           0,
           1,
           null,
           null
          ],
          [
           "178x160",
           4,
           178,
           "LH",
           15,
           0.1933,
           160,
           17,
           0.1214,
           "2",
           "5/26/2023",
           "MMO",
           0.007,
           4525,
           "N",
           1,
           1,
           1,
           1,
           0,
           1,
           170,
           619
          ],
          [
           "184x246",
           4,
           184,
           "HL",
           16,
           0.1748,
           246,
           18,
           0.089,
           "2",
           "5/26/2023",
           "DB",
           0.0071,
           2418,
           "N",
           1,
           0,
           0,
           1,
           1,
           1,
           null,
           null
          ],
          [
           "192x167",
           4,
           192,
           "LH",
           16,
           0.1746,
           167,
           18,
           0.0929,
           "2",
           "5/26/2023",
           "MMO",
           0.0213,
           2665,
           "N",
           0,
           0,
           0,
           0,
           1,
           1,
           1739,
           null
          ],
          [
           "194x170",
           4,
           194,
           "LH",
           16,
           0.1618,
           170,
           18,
           0.096,
           "2",
           "5/26/2023",
           "MMO",
           0.0104,
           2400,
           "N",
           0,
           0,
           0,
           0,
           0,
           0,
           null,
           null
          ],
          [
           "174x233",
           5,
           174,
           "HL",
           17,
           0.1028,
           233,
           17,
           0.0836,
           "2",
           "5/29/2023",
           "PH",
           0.0024,
           2397,
           "N",
           0,
           0,
           0,
           0,
           0,
           0,
           null,
           209
          ],
          [
           "175x232",
           5,
           175,
           "LH",
           17,
           0.129,
           232,
           19,
           0.083,
           "2",
           "5/29/2023",
           "PH",
           0.0035,
           7573,
           "N",
           0,
           1,
           1,
           1,
           0,
           0,
           1773,
           2819
          ],
          [
           "176x247",
           5,
           176,
           "HL",
           17,
           0.1474,
           247,
           18,
           0.0731,
           "2",
           "5/29/2023",
           "PH",
           0.0081,
           3470,
           "N",
           1,
           1,
           1,
           1,
           0,
           0,
           1902,
           313
          ],
          [
           "189x234",
           5,
           189,
           "LH",
           18,
           0.1215,
           234,
           18,
           0.12,
           "2",
           "5/29/2023",
           "PH",
           0.0106,
           2538,
           "N",
           1,
           0,
           1,
           0,
           1,
           0,
           2344,
           null
          ],
          [
           "190x173",
           5,
           190,
           "LH",
           18,
           0.1449,
           173,
           18,
           0.1096,
           "2",
           "5/29/2023",
           "DB",
           0.0049,
           2459,
           "N",
           0,
           0,
           0,
           0,
           0,
           0,
           null,
           null
          ],
          [
           "193x221",
           5,
           193,
           "LH",
           18,
           0.1651,
           221,
           17,
           0.0729,
           "2",
           "5/29/2023",
           "DB",
           0.0167,
           8040,
           "N",
           1,
           1,
           1,
           0,
           0,
           0,
           21,
           1409
          ],
          [
           "200x245",
           5,
           200,
           "HL",
           18,
           0.1537,
           245,
           18,
           0.1065,
           "2",
           "5/29/2023",
           "DB",
           0.014,
           3522,
           "N",
           0,
           1,
           1,
           1,
           1,
           1,
           583,
           772
          ],
          [
           "51x231",
           5,
           51,
           "LH",
           17,
           0.1594,
           231,
           18,
           0.091,
           "2",
           "5/29/2023",
           "DB",
           0.0088,
           2433,
           "N",
           0,
           0,
           0,
           1,
           0,
           0,
           null,
           null
          ],
          [
           "71x228",
           5,
           71,
           "HL",
           17,
           0.1276,
           228,
           19,
           0.1097,
           "2",
           "5/29/2023",
           "DB",
           0.0061,
           2392,
           "N",
           0,
           0,
           0,
           1,
           0,
           1,
           null,
           null
          ],
          [
           "154x222",
           6,
           154,
           "LH",
           24,
           0.1214,
           222,
           19,
           0.0798,
           "2",
           "6/1/2023",
           "DB",
           0.0108,
           2403,
           "N",
           0,
           0,
           0,
           1,
           1,
           1,
           null,
           null
          ],
          [
           "196x219",
           6,
           196,
           "HL",
           19,
           0.1574,
           219,
           19,
           0.0941,
           "2",
           "6/1/2023",
           "DB",
           0.0152,
           7260,
           "N",
           1,
           1,
           1,
           1,
           0,
           0,
           98,
           292
          ],
          [
           "197x238",
           6,
           197,
           "LH",
           20,
           0.1472,
           238,
           20,
           0.1025,
           "2",
           "6/1/2023",
           "DB",
           0.0053,
           4554,
           "N",
           0,
           1,
           1,
           1,
           1,
           1,
           646,
           847
          ],
          [
           "202x127",
           6,
           202,
           "LH",
           20,
           0.1434,
           127,
           17,
           0.0958,
           "2",
           "6/1/2023",
           "DB",
           0.0061,
           2392,
           "N",
           1,
           1,
           1,
           0,
           0,
           0,
           16,
           38
          ],
          [
           "208x266",
           6,
           208,
           "HL",
           20,
           0.1648,
           266,
           19,
           0.0962,
           "2",
           "6/1/2023",
           "DB",
           0.0156,
           6054,
           "N",
           0,
           1,
           1,
           1,
           1,
           1,
           1701,
           1990
          ],
          [
           "209x249",
           6,
           209,
           "LH",
           20,
           0.1919,
           249,
           13,
           0.1171,
           "2",
           "6/1/2023",
           "DB",
           0.0047,
           3522,
           "N",
           1,
           1,
           1,
           0,
           0,
           0,
           16,
           729
          ],
          [
           "213x250",
           6,
           213,
           "HL",
           20,
           0.1533,
           250,
           13,
           0.0979,
           "2",
           "6/1/2023",
           "DB",
           0.0122,
           4229,
           "N",
           1,
           1,
           1,
           0,
           0,
           0,
           19,
           99
          ],
          [
           "263x236",
           6,
           263,
           "HL",
           15,
           0.1464,
           236,
           20,
           0.111,
           "2",
           "6/1/2023",
           "DB",
           0.0139,
           2411,
           "N",
           0,
           0,
           0,
           1,
           0,
           0,
           null,
           null
          ],
          [
           "91x248",
           6,
           91,
           "HL",
           19,
           0.1231,
           248,
           13,
           0.1038,
           "2",
           "6/1/2023",
           "DB",
           0.0125,
           5998,
           "N",
           1,
           1,
           1,
           1,
           1,
           1,
           581,
           773
          ]
         ],
         "hovertemplate": "mating.order=%{customdata[9]}<br>male.qual=%{x}<br>cop.duration=%{y}<br>mating.ID=%{customdata[0]}<br>cohort=%{customdata[1]}<br>female.ID=%{customdata[2]}<br>female.group=%{customdata[3]}<br>female.age=%{customdata[4]}<br>female.wt=%{customdata[5]}<br>male.ID=%{customdata[6]}<br>male.age=%{customdata[7]}<br>male.wt=%{customdata[8]}<br>date=%{customdata[10]}<br>scorer=%{customdata[11]}<br>gift.wt=%{customdata[12]}<br>trial.dur=%{customdata[13]}<br>female.aggression=%{customdata[14]}<br>male.w.gift=%{customdata[15]}<br>mating.success=%{customdata[16]}<br>gift.acceptance=%{customdata[17]}<br>signal=%{customdata[18]}<br>wrapping=%{customdata[19]}<br>rubbing=%{customdata[20]}<br>latency.gift=%{customdata[21]}<br>latency.cop=%{customdata[22]}<extra></extra>",
         "legendgroup": "2",
         "marker": {
          "color": "#EF553B"
         },
         "name": "2",
         "offsetgroup": "2",
         "orientation": "v",
         "points": "all",
         "scalegroup": "True",
         "showlegend": true,
         "type": "violin",
         "x": [
          "L",
          "H",
          "H",
          "L",
          "L",
          "H",
          "H",
          "H",
          "L",
          "L",
          "H",
          "L",
          "L",
          "H",
          "H",
          "H",
          "L",
          "H",
          "L",
          "L",
          "L",
          "H",
          "H",
          "L",
          "L",
          "L",
          "L",
          "H",
          "H",
          "H",
          "L",
          "H",
          "L",
          "L",
          "L",
          "H",
          "L",
          "H",
          "H",
          "L",
          "H",
          "L",
          "H",
          "H",
          "H",
          "L",
          "H",
          "L",
          "H",
          "L",
          "H",
          "H",
          "L",
          "H",
          "L",
          "L",
          "L"
         ],
         "x0": " ",
         "xaxis": "x",
         "y": [
          3869,
          0,
          685,
          1244,
          5602,
          0,
          442,
          1981,
          0,
          1248,
          2094,
          0,
          4781,
          790,
          0,
          0,
          0,
          0,
          3624,
          3176,
          584,
          0,
          0,
          1669,
          2547,
          0,
          0,
          395,
          0,
          3738,
          0,
          356,
          0,
          0,
          0,
          3575,
          0,
          0,
          0,
          135,
          4561,
          1940,
          0,
          0,
          6041,
          2501,
          0,
          0,
          0,
          6672,
          3056,
          379,
          3742,
          2097,
          3406,
          0,
          4785
         ],
         "y0": " ",
         "yaxis": "y"
        }
       ],
       "layout": {
        "legend": {
         "title": {
          "text": "mating.order"
         },
         "tracegroupgap": 0
        },
        "margin": {
         "t": 60
        },
        "template": {
         "data": {
          "bar": [
           {
            "error_x": {
             "color": "#2a3f5f"
            },
            "error_y": {
             "color": "#2a3f5f"
            },
            "marker": {
             "line": {
              "color": "#E5ECF6",
              "width": 0.5
             },
             "pattern": {
              "fillmode": "overlay",
              "size": 10,
              "solidity": 0.2
             }
            },
            "type": "bar"
           }
          ],
          "barpolar": [
           {
            "marker": {
             "line": {
              "color": "#E5ECF6",
              "width": 0.5
             },
             "pattern": {
              "fillmode": "overlay",
              "size": 10,
              "solidity": 0.2
             }
            },
            "type": "barpolar"
           }
          ],
          "carpet": [
           {
            "aaxis": {
             "endlinecolor": "#2a3f5f",
             "gridcolor": "white",
             "linecolor": "white",
             "minorgridcolor": "white",
             "startlinecolor": "#2a3f5f"
            },
            "baxis": {
             "endlinecolor": "#2a3f5f",
             "gridcolor": "white",
             "linecolor": "white",
             "minorgridcolor": "white",
             "startlinecolor": "#2a3f5f"
            },
            "type": "carpet"
           }
          ],
          "choropleth": [
           {
            "colorbar": {
             "outlinewidth": 0,
             "ticks": ""
            },
            "type": "choropleth"
           }
          ],
          "contour": [
           {
            "colorbar": {
             "outlinewidth": 0,
             "ticks": ""
            },
            "colorscale": [
             [
              0,
              "#0d0887"
             ],
             [
              0.1111111111111111,
              "#46039f"
             ],
             [
              0.2222222222222222,
              "#7201a8"
             ],
             [
              0.3333333333333333,
              "#9c179e"
             ],
             [
              0.4444444444444444,
              "#bd3786"
             ],
             [
              0.5555555555555556,
              "#d8576b"
             ],
             [
              0.6666666666666666,
              "#ed7953"
             ],
             [
              0.7777777777777778,
              "#fb9f3a"
             ],
             [
              0.8888888888888888,
              "#fdca26"
             ],
             [
              1,
              "#f0f921"
             ]
            ],
            "type": "contour"
           }
          ],
          "contourcarpet": [
           {
            "colorbar": {
             "outlinewidth": 0,
             "ticks": ""
            },
            "type": "contourcarpet"
           }
          ],
          "heatmap": [
           {
            "colorbar": {
             "outlinewidth": 0,
             "ticks": ""
            },
            "colorscale": [
             [
              0,
              "#0d0887"
             ],
             [
              0.1111111111111111,
              "#46039f"
             ],
             [
              0.2222222222222222,
              "#7201a8"
             ],
             [
              0.3333333333333333,
              "#9c179e"
             ],
             [
              0.4444444444444444,
              "#bd3786"
             ],
             [
              0.5555555555555556,
              "#d8576b"
             ],
             [
              0.6666666666666666,
              "#ed7953"
             ],
             [
              0.7777777777777778,
              "#fb9f3a"
             ],
             [
              0.8888888888888888,
              "#fdca26"
             ],
             [
              1,
              "#f0f921"
             ]
            ],
            "type": "heatmap"
           }
          ],
          "heatmapgl": [
           {
            "colorbar": {
             "outlinewidth": 0,
             "ticks": ""
            },
            "colorscale": [
             [
              0,
              "#0d0887"
             ],
             [
              0.1111111111111111,
              "#46039f"
             ],
             [
              0.2222222222222222,
              "#7201a8"
             ],
             [
              0.3333333333333333,
              "#9c179e"
             ],
             [
              0.4444444444444444,
              "#bd3786"
             ],
             [
              0.5555555555555556,
              "#d8576b"
             ],
             [
              0.6666666666666666,
              "#ed7953"
             ],
             [
              0.7777777777777778,
              "#fb9f3a"
             ],
             [
              0.8888888888888888,
              "#fdca26"
             ],
             [
              1,
              "#f0f921"
             ]
            ],
            "type": "heatmapgl"
           }
          ],
          "histogram": [
           {
            "marker": {
             "pattern": {
              "fillmode": "overlay",
              "size": 10,
              "solidity": 0.2
             }
            },
            "type": "histogram"
           }
          ],
          "histogram2d": [
           {
            "colorbar": {
             "outlinewidth": 0,
             "ticks": ""
            },
            "colorscale": [
             [
              0,
              "#0d0887"
             ],
             [
              0.1111111111111111,
              "#46039f"
             ],
             [
              0.2222222222222222,
              "#7201a8"
             ],
             [
              0.3333333333333333,
              "#9c179e"
             ],
             [
              0.4444444444444444,
              "#bd3786"
             ],
             [
              0.5555555555555556,
              "#d8576b"
             ],
             [
              0.6666666666666666,
              "#ed7953"
             ],
             [
              0.7777777777777778,
              "#fb9f3a"
             ],
             [
              0.8888888888888888,
              "#fdca26"
             ],
             [
              1,
              "#f0f921"
             ]
            ],
            "type": "histogram2d"
           }
          ],
          "histogram2dcontour": [
           {
            "colorbar": {
             "outlinewidth": 0,
             "ticks": ""
            },
            "colorscale": [
             [
              0,
              "#0d0887"
             ],
             [
              0.1111111111111111,
              "#46039f"
             ],
             [
              0.2222222222222222,
              "#7201a8"
             ],
             [
              0.3333333333333333,
              "#9c179e"
             ],
             [
              0.4444444444444444,
              "#bd3786"
             ],
             [
              0.5555555555555556,
              "#d8576b"
             ],
             [
              0.6666666666666666,
              "#ed7953"
             ],
             [
              0.7777777777777778,
              "#fb9f3a"
             ],
             [
              0.8888888888888888,
              "#fdca26"
             ],
             [
              1,
              "#f0f921"
             ]
            ],
            "type": "histogram2dcontour"
           }
          ],
          "mesh3d": [
           {
            "colorbar": {
             "outlinewidth": 0,
             "ticks": ""
            },
            "type": "mesh3d"
           }
          ],
          "parcoords": [
           {
            "line": {
             "colorbar": {
              "outlinewidth": 0,
              "ticks": ""
             }
            },
            "type": "parcoords"
           }
          ],
          "pie": [
           {
            "automargin": true,
            "type": "pie"
           }
          ],
          "scatter": [
           {
            "fillpattern": {
             "fillmode": "overlay",
             "size": 10,
             "solidity": 0.2
            },
            "type": "scatter"
           }
          ],
          "scatter3d": [
           {
            "line": {
             "colorbar": {
              "outlinewidth": 0,
              "ticks": ""
             }
            },
            "marker": {
             "colorbar": {
              "outlinewidth": 0,
              "ticks": ""
             }
            },
            "type": "scatter3d"
           }
          ],
          "scattercarpet": [
           {
            "marker": {
             "colorbar": {
              "outlinewidth": 0,
              "ticks": ""
             }
            },
            "type": "scattercarpet"
           }
          ],
          "scattergeo": [
           {
            "marker": {
             "colorbar": {
              "outlinewidth": 0,
              "ticks": ""
             }
            },
            "type": "scattergeo"
           }
          ],
          "scattergl": [
           {
            "marker": {
             "colorbar": {
              "outlinewidth": 0,
              "ticks": ""
             }
            },
            "type": "scattergl"
           }
          ],
          "scattermapbox": [
           {
            "marker": {
             "colorbar": {
              "outlinewidth": 0,
              "ticks": ""
             }
            },
            "type": "scattermapbox"
           }
          ],
          "scatterpolar": [
           {
            "marker": {
             "colorbar": {
              "outlinewidth": 0,
              "ticks": ""
             }
            },
            "type": "scatterpolar"
           }
          ],
          "scatterpolargl": [
           {
            "marker": {
             "colorbar": {
              "outlinewidth": 0,
              "ticks": ""
             }
            },
            "type": "scatterpolargl"
           }
          ],
          "scatterternary": [
           {
            "marker": {
             "colorbar": {
              "outlinewidth": 0,
              "ticks": ""
             }
            },
            "type": "scatterternary"
           }
          ],
          "surface": [
           {
            "colorbar": {
             "outlinewidth": 0,
             "ticks": ""
            },
            "colorscale": [
             [
              0,
              "#0d0887"
             ],
             [
              0.1111111111111111,
              "#46039f"
             ],
             [
              0.2222222222222222,
              "#7201a8"
             ],
             [
              0.3333333333333333,
              "#9c179e"
             ],
             [
              0.4444444444444444,
              "#bd3786"
             ],
             [
              0.5555555555555556,
              "#d8576b"
             ],
             [
              0.6666666666666666,
              "#ed7953"
             ],
             [
              0.7777777777777778,
              "#fb9f3a"
             ],
             [
              0.8888888888888888,
              "#fdca26"
             ],
             [
              1,
              "#f0f921"
             ]
            ],
            "type": "surface"
           }
          ],
          "table": [
           {
            "cells": {
             "fill": {
              "color": "#EBF0F8"
             },
             "line": {
              "color": "white"
             }
            },
            "header": {
             "fill": {
              "color": "#C8D4E3"
             },
             "line": {
              "color": "white"
             }
            },
            "type": "table"
           }
          ]
         },
         "layout": {
          "annotationdefaults": {
           "arrowcolor": "#2a3f5f",
           "arrowhead": 0,
           "arrowwidth": 1
          },
          "autotypenumbers": "strict",
          "coloraxis": {
           "colorbar": {
            "outlinewidth": 0,
            "ticks": ""
           }
          },
          "colorscale": {
           "diverging": [
            [
             0,
             "#8e0152"
            ],
            [
             0.1,
             "#c51b7d"
            ],
            [
             0.2,
             "#de77ae"
            ],
            [
             0.3,
             "#f1b6da"
            ],
            [
             0.4,
             "#fde0ef"
            ],
            [
             0.5,
             "#f7f7f7"
            ],
            [
             0.6,
             "#e6f5d0"
            ],
            [
             0.7,
             "#b8e186"
            ],
            [
             0.8,
             "#7fbc41"
            ],
            [
             0.9,
             "#4d9221"
            ],
            [
             1,
             "#276419"
            ]
           ],
           "sequential": [
            [
             0,
             "#0d0887"
            ],
            [
             0.1111111111111111,
             "#46039f"
            ],
            [
             0.2222222222222222,
             "#7201a8"
            ],
            [
             0.3333333333333333,
             "#9c179e"
            ],
            [
             0.4444444444444444,
             "#bd3786"
            ],
            [
             0.5555555555555556,
             "#d8576b"
            ],
            [
             0.6666666666666666,
             "#ed7953"
            ],
            [
             0.7777777777777778,
             "#fb9f3a"
            ],
            [
             0.8888888888888888,
             "#fdca26"
            ],
            [
             1,
             "#f0f921"
            ]
           ],
           "sequentialminus": [
            [
             0,
             "#0d0887"
            ],
            [
             0.1111111111111111,
             "#46039f"
            ],
            [
             0.2222222222222222,
             "#7201a8"
            ],
            [
             0.3333333333333333,
             "#9c179e"
            ],
            [
             0.4444444444444444,
             "#bd3786"
            ],
            [
             0.5555555555555556,
             "#d8576b"
            ],
            [
             0.6666666666666666,
             "#ed7953"
            ],
            [
             0.7777777777777778,
             "#fb9f3a"
            ],
            [
             0.8888888888888888,
             "#fdca26"
            ],
            [
             1,
             "#f0f921"
            ]
           ]
          },
          "colorway": [
           "#636efa",
           "#EF553B",
           "#00cc96",
           "#ab63fa",
           "#FFA15A",
           "#19d3f3",
           "#FF6692",
           "#B6E880",
           "#FF97FF",
           "#FECB52"
          ],
          "font": {
           "color": "#2a3f5f"
          },
          "geo": {
           "bgcolor": "white",
           "lakecolor": "white",
           "landcolor": "#E5ECF6",
           "showlakes": true,
           "showland": true,
           "subunitcolor": "white"
          },
          "hoverlabel": {
           "align": "left"
          },
          "hovermode": "closest",
          "mapbox": {
           "style": "light"
          },
          "paper_bgcolor": "white",
          "plot_bgcolor": "#E5ECF6",
          "polar": {
           "angularaxis": {
            "gridcolor": "white",
            "linecolor": "white",
            "ticks": ""
           },
           "bgcolor": "#E5ECF6",
           "radialaxis": {
            "gridcolor": "white",
            "linecolor": "white",
            "ticks": ""
           }
          },
          "scene": {
           "xaxis": {
            "backgroundcolor": "#E5ECF6",
            "gridcolor": "white",
            "gridwidth": 2,
            "linecolor": "white",
            "showbackground": true,
            "ticks": "",
            "zerolinecolor": "white"
           },
           "yaxis": {
            "backgroundcolor": "#E5ECF6",
            "gridcolor": "white",
            "gridwidth": 2,
            "linecolor": "white",
            "showbackground": true,
            "ticks": "",
            "zerolinecolor": "white"
           },
           "zaxis": {
            "backgroundcolor": "#E5ECF6",
            "gridcolor": "white",
            "gridwidth": 2,
            "linecolor": "white",
            "showbackground": true,
            "ticks": "",
            "zerolinecolor": "white"
           }
          },
          "shapedefaults": {
           "line": {
            "color": "#2a3f5f"
           }
          },
          "ternary": {
           "aaxis": {
            "gridcolor": "white",
            "linecolor": "white",
            "ticks": ""
           },
           "baxis": {
            "gridcolor": "white",
            "linecolor": "white",
            "ticks": ""
           },
           "bgcolor": "#E5ECF6",
           "caxis": {
            "gridcolor": "white",
            "linecolor": "white",
            "ticks": ""
           }
          },
          "title": {
           "x": 0.05
          },
          "xaxis": {
           "automargin": true,
           "gridcolor": "white",
           "linecolor": "white",
           "ticks": "",
           "title": {
            "standoff": 15
           },
           "zerolinecolor": "white",
           "zerolinewidth": 2
          },
          "yaxis": {
           "automargin": true,
           "gridcolor": "white",
           "linecolor": "white",
           "ticks": "",
           "title": {
            "standoff": 15
           },
           "zerolinecolor": "white",
           "zerolinewidth": 2
          }
         }
        },
        "violinmode": "group",
        "xaxis": {
         "anchor": "y",
         "domain": [
          0,
          1
         ],
         "title": {
          "text": "male.qual"
         }
        },
        "yaxis": {
         "anchor": "x",
         "domain": [
          0,
          1
         ],
         "title": {
          "text": "cop.duration"
         }
        }
       }
      }
     },
     "metadata": {},
     "output_type": "display_data"
    }
   ],
   "source": [
    "fig = px.violin(df, y=\"latency.gift\", x=\"male.qual\", color=\"mating.order\", box=True, points=\"all\",\n",
    "          hover_data=df.columns)\n",
    "fig.show()\n",
    "fig.write_html(\"violinlatgift.html\", include_plotlyjs= \"cdn\")\n",
    "fig = px.violin(df, y=\"latency.cop\", x=\"male.qual\", color=\"mating.order\", box=True, points=\"all\",\n",
    "          hover_data=df.columns)\n",
    "fig.show()\n",
    "fig.write_html(\"violinlatcop.html\", include_plotlyjs= \"cdn\")\n",
    "fig = px.violin(df, y=\"cop.duration\", x=\"male.qual\", color=\"mating.order\", box=True, points=\"all\",\n",
    "          hover_data=df.columns)\n",
    "fig.show()\n",
    "fig.write_html(\"violincopduration.html\", include_plotlyjs= \"cdn\")"
   ]
  }
 ],
 "metadata": {
  "kernelspec": {
   "display_name": "fbmenv",
   "language": "python",
   "name": "python3"
  },
  "language_info": {
   "codemirror_mode": {
    "name": "ipython",
    "version": 3
   },
   "file_extension": ".py",
   "mimetype": "text/x-python",
   "name": "python",
   "nbconvert_exporter": "python",
   "pygments_lexer": "ipython3",
   "version": "3.11.4"
  },
  "orig_nbformat": 4
 },
 "nbformat": 4,
 "nbformat_minor": 2
}
